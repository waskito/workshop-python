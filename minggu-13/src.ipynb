{
  "nbformat": 4,
  "nbformat_minor": 0,
  "metadata": {
    "colab": {
      "name": "src",
      "provenance": [],
      "collapsed_sections": []
    },
    "kernelspec": {
      "name": "python3",
      "display_name": "Python 3"
    }
  },
  "cells": [
    {
      "cell_type": "markdown",
      "metadata": {
        "id": "1wnlfr-ScjVH",
        "colab_type": "text"
      },
      "source": [
        "# 10 Minutes to pandas"
      ]
    },
    {
      "cell_type": "code",
      "metadata": {
        "id": "PvPOHGOYch_l",
        "colab_type": "code",
        "colab": {}
      },
      "source": [
        "import numpy as np\n",
        "import pandas as pd"
      ],
      "execution_count": 0,
      "outputs": []
    },
    {
      "cell_type": "markdown",
      "metadata": {
        "id": "XbU6HaSxcWbG",
        "colab_type": "text"
      },
      "source": [
        "## Object creation"
      ]
    },
    {
      "cell_type": "code",
      "metadata": {
        "id": "Ih5zPPFQPbXP",
        "colab_type": "code",
        "colab": {
          "base_uri": "https://localhost:8080/",
          "height": 141
        },
        "outputId": "8278abbf-d4a4-4557-ccf2-275355f2de6a"
      },
      "source": [
        "s = pd.Series([1, 3, 4, np.nan, 6, 8])\n",
        "s"
      ],
      "execution_count": 2,
      "outputs": [
        {
          "output_type": "execute_result",
          "data": {
            "text/plain": [
              "0    1.0\n",
              "1    3.0\n",
              "2    4.0\n",
              "3    NaN\n",
              "4    6.0\n",
              "5    8.0\n",
              "dtype: float64"
            ]
          },
          "metadata": {
            "tags": []
          },
          "execution_count": 2
        }
      ]
    },
    {
      "cell_type": "markdown",
      "metadata": {
        "id": "z1TZQOWddBxe",
        "colab_type": "text"
      },
      "source": [
        "Membuat Series dengan melewatkan list nilai, membuat pandas membuat index integer default. pd.Series adalah fungsi untuk membuat Series. "
      ]
    },
    {
      "cell_type": "code",
      "metadata": {
        "id": "_-fwshsedyJG",
        "colab_type": "code",
        "colab": {
          "base_uri": "https://localhost:8080/",
          "height": 70
        },
        "outputId": "22490eaa-8e5e-4a6f-f510-e7f3de8a4f31"
      },
      "source": [
        "dates = pd.date_range('20130101', periods=6)\n",
        "dates"
      ],
      "execution_count": 3,
      "outputs": [
        {
          "output_type": "execute_result",
          "data": {
            "text/plain": [
              "DatetimeIndex(['2013-01-01', '2013-01-02', '2013-01-03', '2013-01-04',\n",
              "               '2013-01-05', '2013-01-06'],\n",
              "              dtype='datetime64[ns]', freq='D')"
            ]
          },
          "metadata": {
            "tags": []
          },
          "execution_count": 3
        }
      ]
    },
    {
      "cell_type": "markdown",
      "metadata": {
        "id": "pumi-5VAeEY8",
        "colab_type": "text"
      },
      "source": [
        "**date_range** digunakan untuk membuat DataFrame dengan index waktu dan kolom berlabel."
      ]
    },
    {
      "cell_type": "code",
      "metadata": {
        "id": "WwUCW8HUeWmU",
        "colab_type": "code",
        "colab": {
          "base_uri": "https://localhost:8080/",
          "height": 227
        },
        "outputId": "ebda7098-364c-40a3-e305-c47623e80a7d"
      },
      "source": [
        "df = pd.DataFrame(np.random.randn(6, 4), index=dates, columns=list('ABCD'))\n",
        "df"
      ],
      "execution_count": 4,
      "outputs": [
        {
          "output_type": "execute_result",
          "data": {
            "text/html": [
              "<div>\n",
              "<style scoped>\n",
              "    .dataframe tbody tr th:only-of-type {\n",
              "        vertical-align: middle;\n",
              "    }\n",
              "\n",
              "    .dataframe tbody tr th {\n",
              "        vertical-align: top;\n",
              "    }\n",
              "\n",
              "    .dataframe thead th {\n",
              "        text-align: right;\n",
              "    }\n",
              "</style>\n",
              "<table border=\"1\" class=\"dataframe\">\n",
              "  <thead>\n",
              "    <tr style=\"text-align: right;\">\n",
              "      <th></th>\n",
              "      <th>A</th>\n",
              "      <th>B</th>\n",
              "      <th>C</th>\n",
              "      <th>D</th>\n",
              "    </tr>\n",
              "  </thead>\n",
              "  <tbody>\n",
              "    <tr>\n",
              "      <th>2013-01-01</th>\n",
              "      <td>-0.839471</td>\n",
              "      <td>0.908877</td>\n",
              "      <td>-0.274461</td>\n",
              "      <td>-0.763431</td>\n",
              "    </tr>\n",
              "    <tr>\n",
              "      <th>2013-01-02</th>\n",
              "      <td>0.235510</td>\n",
              "      <td>0.401766</td>\n",
              "      <td>0.818521</td>\n",
              "      <td>-0.144729</td>\n",
              "    </tr>\n",
              "    <tr>\n",
              "      <th>2013-01-03</th>\n",
              "      <td>1.501344</td>\n",
              "      <td>0.294097</td>\n",
              "      <td>0.237260</td>\n",
              "      <td>-0.121698</td>\n",
              "    </tr>\n",
              "    <tr>\n",
              "      <th>2013-01-04</th>\n",
              "      <td>0.765792</td>\n",
              "      <td>-2.578609</td>\n",
              "      <td>1.013808</td>\n",
              "      <td>1.327477</td>\n",
              "    </tr>\n",
              "    <tr>\n",
              "      <th>2013-01-05</th>\n",
              "      <td>0.830345</td>\n",
              "      <td>-0.620411</td>\n",
              "      <td>0.733071</td>\n",
              "      <td>1.211272</td>\n",
              "    </tr>\n",
              "    <tr>\n",
              "      <th>2013-01-06</th>\n",
              "      <td>-1.653750</td>\n",
              "      <td>0.721921</td>\n",
              "      <td>-0.124729</td>\n",
              "      <td>0.370010</td>\n",
              "    </tr>\n",
              "  </tbody>\n",
              "</table>\n",
              "</div>"
            ],
            "text/plain": [
              "                   A         B         C         D\n",
              "2013-01-01 -0.839471  0.908877 -0.274461 -0.763431\n",
              "2013-01-02  0.235510  0.401766  0.818521 -0.144729\n",
              "2013-01-03  1.501344  0.294097  0.237260 -0.121698\n",
              "2013-01-04  0.765792 -2.578609  1.013808  1.327477\n",
              "2013-01-05  0.830345 -0.620411  0.733071  1.211272\n",
              "2013-01-06 -1.653750  0.721921 -0.124729  0.370010"
            ]
          },
          "metadata": {
            "tags": []
          },
          "execution_count": 4
        }
      ]
    },
    {
      "cell_type": "markdown",
      "metadata": {
        "id": "gxfT_goZeu4z",
        "colab_type": "text"
      },
      "source": [
        "fungsi **DataFrame** membuat data dalam bentuk tabel dengan label."
      ]
    },
    {
      "cell_type": "code",
      "metadata": {
        "id": "CfiCjniZfQiR",
        "colab_type": "code",
        "colab": {
          "base_uri": "https://localhost:8080/",
          "height": 167
        },
        "outputId": "2e0e9d7f-ef33-4a16-9196-380313b61631"
      },
      "source": [
        "df2 = pd.DataFrame({'A': 1.,\n",
        "                    'B': pd.Timestamp('20130102'),\n",
        "                    'C': pd.Series(1, index=list(range(4)), dtype='float32'),\n",
        "                    'D': np.array([3] * 4, dtype='int32'),\n",
        "                    'E': pd.Categorical([\"test\", \"train\", \"test\", \"train\"]),\n",
        "                    'F': 'foo'})\n",
        "df2"
      ],
      "execution_count": 5,
      "outputs": [
        {
          "output_type": "execute_result",
          "data": {
            "text/html": [
              "<div>\n",
              "<style scoped>\n",
              "    .dataframe tbody tr th:only-of-type {\n",
              "        vertical-align: middle;\n",
              "    }\n",
              "\n",
              "    .dataframe tbody tr th {\n",
              "        vertical-align: top;\n",
              "    }\n",
              "\n",
              "    .dataframe thead th {\n",
              "        text-align: right;\n",
              "    }\n",
              "</style>\n",
              "<table border=\"1\" class=\"dataframe\">\n",
              "  <thead>\n",
              "    <tr style=\"text-align: right;\">\n",
              "      <th></th>\n",
              "      <th>A</th>\n",
              "      <th>B</th>\n",
              "      <th>C</th>\n",
              "      <th>D</th>\n",
              "      <th>E</th>\n",
              "      <th>F</th>\n",
              "    </tr>\n",
              "  </thead>\n",
              "  <tbody>\n",
              "    <tr>\n",
              "      <th>0</th>\n",
              "      <td>1.0</td>\n",
              "      <td>2013-01-02</td>\n",
              "      <td>1.0</td>\n",
              "      <td>3</td>\n",
              "      <td>test</td>\n",
              "      <td>foo</td>\n",
              "    </tr>\n",
              "    <tr>\n",
              "      <th>1</th>\n",
              "      <td>1.0</td>\n",
              "      <td>2013-01-02</td>\n",
              "      <td>1.0</td>\n",
              "      <td>3</td>\n",
              "      <td>train</td>\n",
              "      <td>foo</td>\n",
              "    </tr>\n",
              "    <tr>\n",
              "      <th>2</th>\n",
              "      <td>1.0</td>\n",
              "      <td>2013-01-02</td>\n",
              "      <td>1.0</td>\n",
              "      <td>3</td>\n",
              "      <td>test</td>\n",
              "      <td>foo</td>\n",
              "    </tr>\n",
              "    <tr>\n",
              "      <th>3</th>\n",
              "      <td>1.0</td>\n",
              "      <td>2013-01-02</td>\n",
              "      <td>1.0</td>\n",
              "      <td>3</td>\n",
              "      <td>train</td>\n",
              "      <td>foo</td>\n",
              "    </tr>\n",
              "  </tbody>\n",
              "</table>\n",
              "</div>"
            ],
            "text/plain": [
              "     A          B    C  D      E    F\n",
              "0  1.0 2013-01-02  1.0  3   test  foo\n",
              "1  1.0 2013-01-02  1.0  3  train  foo\n",
              "2  1.0 2013-01-02  1.0  3   test  foo\n",
              "3  1.0 2013-01-02  1.0  3  train  foo"
            ]
          },
          "metadata": {
            "tags": []
          },
          "execution_count": 5
        }
      ]
    },
    {
      "cell_type": "code",
      "metadata": {
        "id": "jqTAdZc1h909",
        "colab_type": "code",
        "colab": {
          "base_uri": "https://localhost:8080/",
          "height": 141
        },
        "outputId": "cbc5424c-008c-4408-dcaa-7054e1e41a7b"
      },
      "source": [
        "df2.dtypes # untuk melihat tipe data uang ada pada DataFrame"
      ],
      "execution_count": 6,
      "outputs": [
        {
          "output_type": "execute_result",
          "data": {
            "text/plain": [
              "A           float64\n",
              "B    datetime64[ns]\n",
              "C           float32\n",
              "D             int32\n",
              "E          category\n",
              "F            object\n",
              "dtype: object"
            ]
          },
          "metadata": {
            "tags": []
          },
          "execution_count": 6
        }
      ]
    },
    {
      "cell_type": "markdown",
      "metadata": {
        "id": "frQLFtzPi3nE",
        "colab_type": "text"
      },
      "source": [
        "## Viewing data"
      ]
    },
    {
      "cell_type": "code",
      "metadata": {
        "id": "m1a1RTzEiQD3",
        "colab_type": "code",
        "colab": {
          "base_uri": "https://localhost:8080/",
          "height": 197
        },
        "outputId": "210169a0-013c-4349-e170-a618420d58e1"
      },
      "source": [
        "df.head () # untuk menampilkan data pada dataframe sebanyak 5 data"
      ],
      "execution_count": 13,
      "outputs": [
        {
          "output_type": "execute_result",
          "data": {
            "text/html": [
              "<div>\n",
              "<style scoped>\n",
              "    .dataframe tbody tr th:only-of-type {\n",
              "        vertical-align: middle;\n",
              "    }\n",
              "\n",
              "    .dataframe tbody tr th {\n",
              "        vertical-align: top;\n",
              "    }\n",
              "\n",
              "    .dataframe thead th {\n",
              "        text-align: right;\n",
              "    }\n",
              "</style>\n",
              "<table border=\"1\" class=\"dataframe\">\n",
              "  <thead>\n",
              "    <tr style=\"text-align: right;\">\n",
              "      <th></th>\n",
              "      <th>A</th>\n",
              "      <th>B</th>\n",
              "      <th>C</th>\n",
              "      <th>D</th>\n",
              "    </tr>\n",
              "  </thead>\n",
              "  <tbody>\n",
              "    <tr>\n",
              "      <th>2013-01-01</th>\n",
              "      <td>-0.839471</td>\n",
              "      <td>0.908877</td>\n",
              "      <td>-0.274461</td>\n",
              "      <td>-0.763431</td>\n",
              "    </tr>\n",
              "    <tr>\n",
              "      <th>2013-01-02</th>\n",
              "      <td>0.235510</td>\n",
              "      <td>0.401766</td>\n",
              "      <td>0.818521</td>\n",
              "      <td>-0.144729</td>\n",
              "    </tr>\n",
              "    <tr>\n",
              "      <th>2013-01-03</th>\n",
              "      <td>1.501344</td>\n",
              "      <td>0.294097</td>\n",
              "      <td>0.237260</td>\n",
              "      <td>-0.121698</td>\n",
              "    </tr>\n",
              "    <tr>\n",
              "      <th>2013-01-04</th>\n",
              "      <td>0.765792</td>\n",
              "      <td>-2.578609</td>\n",
              "      <td>1.013808</td>\n",
              "      <td>1.327477</td>\n",
              "    </tr>\n",
              "    <tr>\n",
              "      <th>2013-01-05</th>\n",
              "      <td>0.830345</td>\n",
              "      <td>-0.620411</td>\n",
              "      <td>0.733071</td>\n",
              "      <td>1.211272</td>\n",
              "    </tr>\n",
              "  </tbody>\n",
              "</table>\n",
              "</div>"
            ],
            "text/plain": [
              "                   A         B         C         D\n",
              "2013-01-01 -0.839471  0.908877 -0.274461 -0.763431\n",
              "2013-01-02  0.235510  0.401766  0.818521 -0.144729\n",
              "2013-01-03  1.501344  0.294097  0.237260 -0.121698\n",
              "2013-01-04  0.765792 -2.578609  1.013808  1.327477\n",
              "2013-01-05  0.830345 -0.620411  0.733071  1.211272"
            ]
          },
          "metadata": {
            "tags": []
          },
          "execution_count": 13
        }
      ]
    },
    {
      "cell_type": "code",
      "metadata": {
        "id": "9aAe7eMajE_W",
        "colab_type": "code",
        "colab": {
          "base_uri": "https://localhost:8080/",
          "height": 70
        },
        "outputId": "be385e95-ab3c-4eed-ba11-07333aaa0176"
      },
      "source": [
        "df.index # untuk menampilkan index "
      ],
      "execution_count": 15,
      "outputs": [
        {
          "output_type": "execute_result",
          "data": {
            "text/plain": [
              "DatetimeIndex(['2013-01-01', '2013-01-02', '2013-01-03', '2013-01-04',\n",
              "               '2013-01-05', '2013-01-06'],\n",
              "              dtype='datetime64[ns]', freq='D')"
            ]
          },
          "metadata": {
            "tags": []
          },
          "execution_count": 15
        }
      ]
    },
    {
      "cell_type": "code",
      "metadata": {
        "id": "3yuvRoGzjVJ4",
        "colab_type": "code",
        "colab": {
          "base_uri": "https://localhost:8080/",
          "height": 34
        },
        "outputId": "15041cc9-db51-4a48-8c56-69a2d2c1c4cf"
      },
      "source": [
        "df.columns # untuk menampilkan kolom yang ada pada Dataframe"
      ],
      "execution_count": 17,
      "outputs": [
        {
          "output_type": "execute_result",
          "data": {
            "text/plain": [
              "Index(['A', 'B', 'C', 'D'], dtype='object')"
            ]
          },
          "metadata": {
            "tags": []
          },
          "execution_count": 17
        }
      ]
    },
    {
      "cell_type": "code",
      "metadata": {
        "id": "OE2oQ6Jojt56",
        "colab_type": "code",
        "colab": {
          "base_uri": "https://localhost:8080/",
          "height": 123
        },
        "outputId": "f2438963-badc-449c-819c-608d5f9f9c2f"
      },
      "source": [
        "df.to_numpy() # untuk konversi dataframe ke array numpy"
      ],
      "execution_count": 18,
      "outputs": [
        {
          "output_type": "execute_result",
          "data": {
            "text/plain": [
              "array([[-0.83947136,  0.90887657, -0.27446058, -0.76343132],\n",
              "       [ 0.23551032,  0.40176592,  0.81852078, -0.14472853],\n",
              "       [ 1.50134358,  0.29409735,  0.23725977, -0.12169802],\n",
              "       [ 0.76579165, -2.57860853,  1.01380839,  1.32747701],\n",
              "       [ 0.83034485, -0.62041052,  0.73307056,  1.21127203],\n",
              "       [-1.65374996,  0.7219211 , -0.12472878,  0.3700104 ]])"
            ]
          },
          "metadata": {
            "tags": []
          },
          "execution_count": 18
        }
      ]
    },
    {
      "cell_type": "code",
      "metadata": {
        "id": "QbJBOyl1j7CV",
        "colab_type": "code",
        "colab": {
          "base_uri": "https://localhost:8080/",
          "height": 105
        },
        "outputId": "621ee458-46e2-49f6-c036-e6905287248f"
      },
      "source": [
        "df2.to_numpy()"
      ],
      "execution_count": 19,
      "outputs": [
        {
          "output_type": "execute_result",
          "data": {
            "text/plain": [
              "array([[1.0, Timestamp('2013-01-02 00:00:00'), 1.0, 3, 'test', 'foo'],\n",
              "       [1.0, Timestamp('2013-01-02 00:00:00'), 1.0, 3, 'train', 'foo'],\n",
              "       [1.0, Timestamp('2013-01-02 00:00:00'), 1.0, 3, 'test', 'foo'],\n",
              "       [1.0, Timestamp('2013-01-02 00:00:00'), 1.0, 3, 'train', 'foo']],\n",
              "      dtype=object)"
            ]
          },
          "metadata": {
            "tags": []
          },
          "execution_count": 19
        }
      ]
    },
    {
      "cell_type": "code",
      "metadata": {
        "id": "-ddz0uTFlHLT",
        "colab_type": "code",
        "colab": {
          "base_uri": "https://localhost:8080/",
          "height": 287
        },
        "outputId": "f5f35b85-6672-4a84-f450-105f773b438e"
      },
      "source": [
        "df.describe() # untuk menampilkan ringkasan statitik dari data"
      ],
      "execution_count": 20,
      "outputs": [
        {
          "output_type": "execute_result",
          "data": {
            "text/html": [
              "<div>\n",
              "<style scoped>\n",
              "    .dataframe tbody tr th:only-of-type {\n",
              "        vertical-align: middle;\n",
              "    }\n",
              "\n",
              "    .dataframe tbody tr th {\n",
              "        vertical-align: top;\n",
              "    }\n",
              "\n",
              "    .dataframe thead th {\n",
              "        text-align: right;\n",
              "    }\n",
              "</style>\n",
              "<table border=\"1\" class=\"dataframe\">\n",
              "  <thead>\n",
              "    <tr style=\"text-align: right;\">\n",
              "      <th></th>\n",
              "      <th>A</th>\n",
              "      <th>B</th>\n",
              "      <th>C</th>\n",
              "      <th>D</th>\n",
              "    </tr>\n",
              "  </thead>\n",
              "  <tbody>\n",
              "    <tr>\n",
              "      <th>count</th>\n",
              "      <td>6.000000</td>\n",
              "      <td>6.000000</td>\n",
              "      <td>6.000000</td>\n",
              "      <td>6.000000</td>\n",
              "    </tr>\n",
              "    <tr>\n",
              "      <th>mean</th>\n",
              "      <td>0.139962</td>\n",
              "      <td>-0.145393</td>\n",
              "      <td>0.400578</td>\n",
              "      <td>0.313150</td>\n",
              "    </tr>\n",
              "    <tr>\n",
              "      <th>std</th>\n",
              "      <td>1.175370</td>\n",
              "      <td>1.304027</td>\n",
              "      <td>0.532837</td>\n",
              "      <td>0.824195</td>\n",
              "    </tr>\n",
              "    <tr>\n",
              "      <th>min</th>\n",
              "      <td>-1.653750</td>\n",
              "      <td>-2.578609</td>\n",
              "      <td>-0.274461</td>\n",
              "      <td>-0.763431</td>\n",
              "    </tr>\n",
              "    <tr>\n",
              "      <th>25%</th>\n",
              "      <td>-0.570726</td>\n",
              "      <td>-0.391784</td>\n",
              "      <td>-0.034232</td>\n",
              "      <td>-0.138971</td>\n",
              "    </tr>\n",
              "    <tr>\n",
              "      <th>50%</th>\n",
              "      <td>0.500651</td>\n",
              "      <td>0.347932</td>\n",
              "      <td>0.485165</td>\n",
              "      <td>0.124156</td>\n",
              "    </tr>\n",
              "    <tr>\n",
              "      <th>75%</th>\n",
              "      <td>0.814207</td>\n",
              "      <td>0.641882</td>\n",
              "      <td>0.797158</td>\n",
              "      <td>1.000957</td>\n",
              "    </tr>\n",
              "    <tr>\n",
              "      <th>max</th>\n",
              "      <td>1.501344</td>\n",
              "      <td>0.908877</td>\n",
              "      <td>1.013808</td>\n",
              "      <td>1.327477</td>\n",
              "    </tr>\n",
              "  </tbody>\n",
              "</table>\n",
              "</div>"
            ],
            "text/plain": [
              "              A         B         C         D\n",
              "count  6.000000  6.000000  6.000000  6.000000\n",
              "mean   0.139962 -0.145393  0.400578  0.313150\n",
              "std    1.175370  1.304027  0.532837  0.824195\n",
              "min   -1.653750 -2.578609 -0.274461 -0.763431\n",
              "25%   -0.570726 -0.391784 -0.034232 -0.138971\n",
              "50%    0.500651  0.347932  0.485165  0.124156\n",
              "75%    0.814207  0.641882  0.797158  1.000957\n",
              "max    1.501344  0.908877  1.013808  1.327477"
            ]
          },
          "metadata": {
            "tags": []
          },
          "execution_count": 20
        }
      ]
    },
    {
      "cell_type": "code",
      "metadata": {
        "id": "euzB5EgelXg1",
        "colab_type": "code",
        "colab": {
          "base_uri": "https://localhost:8080/",
          "height": 167
        },
        "outputId": "e7ada5c7-e809-4bc8-bb2e-54f171c702e0"
      },
      "source": [
        "df.T # untuk mentranspose data artinya menukar kolom jadi baris"
      ],
      "execution_count": 21,
      "outputs": [
        {
          "output_type": "execute_result",
          "data": {
            "text/html": [
              "<div>\n",
              "<style scoped>\n",
              "    .dataframe tbody tr th:only-of-type {\n",
              "        vertical-align: middle;\n",
              "    }\n",
              "\n",
              "    .dataframe tbody tr th {\n",
              "        vertical-align: top;\n",
              "    }\n",
              "\n",
              "    .dataframe thead th {\n",
              "        text-align: right;\n",
              "    }\n",
              "</style>\n",
              "<table border=\"1\" class=\"dataframe\">\n",
              "  <thead>\n",
              "    <tr style=\"text-align: right;\">\n",
              "      <th></th>\n",
              "      <th>2013-01-01</th>\n",
              "      <th>2013-01-02</th>\n",
              "      <th>2013-01-03</th>\n",
              "      <th>2013-01-04</th>\n",
              "      <th>2013-01-05</th>\n",
              "      <th>2013-01-06</th>\n",
              "    </tr>\n",
              "  </thead>\n",
              "  <tbody>\n",
              "    <tr>\n",
              "      <th>A</th>\n",
              "      <td>-0.839471</td>\n",
              "      <td>0.235510</td>\n",
              "      <td>1.501344</td>\n",
              "      <td>0.765792</td>\n",
              "      <td>0.830345</td>\n",
              "      <td>-1.653750</td>\n",
              "    </tr>\n",
              "    <tr>\n",
              "      <th>B</th>\n",
              "      <td>0.908877</td>\n",
              "      <td>0.401766</td>\n",
              "      <td>0.294097</td>\n",
              "      <td>-2.578609</td>\n",
              "      <td>-0.620411</td>\n",
              "      <td>0.721921</td>\n",
              "    </tr>\n",
              "    <tr>\n",
              "      <th>C</th>\n",
              "      <td>-0.274461</td>\n",
              "      <td>0.818521</td>\n",
              "      <td>0.237260</td>\n",
              "      <td>1.013808</td>\n",
              "      <td>0.733071</td>\n",
              "      <td>-0.124729</td>\n",
              "    </tr>\n",
              "    <tr>\n",
              "      <th>D</th>\n",
              "      <td>-0.763431</td>\n",
              "      <td>-0.144729</td>\n",
              "      <td>-0.121698</td>\n",
              "      <td>1.327477</td>\n",
              "      <td>1.211272</td>\n",
              "      <td>0.370010</td>\n",
              "    </tr>\n",
              "  </tbody>\n",
              "</table>\n",
              "</div>"
            ],
            "text/plain": [
              "   2013-01-01  2013-01-02  2013-01-03  2013-01-04  2013-01-05  2013-01-06\n",
              "A   -0.839471    0.235510    1.501344    0.765792    0.830345   -1.653750\n",
              "B    0.908877    0.401766    0.294097   -2.578609   -0.620411    0.721921\n",
              "C   -0.274461    0.818521    0.237260    1.013808    0.733071   -0.124729\n",
              "D   -0.763431   -0.144729   -0.121698    1.327477    1.211272    0.370010"
            ]
          },
          "metadata": {
            "tags": []
          },
          "execution_count": 21
        }
      ]
    },
    {
      "cell_type": "code",
      "metadata": {
        "id": "EWQb-Ykwl0OZ",
        "colab_type": "code",
        "colab": {
          "base_uri": "https://localhost:8080/",
          "height": 227
        },
        "outputId": "c361758b-447b-4999-ead1-4c2697c4f895"
      },
      "source": [
        "df.sort_index(axis=1, ascending=False) # mengurutkan berdasarkan axis"
      ],
      "execution_count": 22,
      "outputs": [
        {
          "output_type": "execute_result",
          "data": {
            "text/html": [
              "<div>\n",
              "<style scoped>\n",
              "    .dataframe tbody tr th:only-of-type {\n",
              "        vertical-align: middle;\n",
              "    }\n",
              "\n",
              "    .dataframe tbody tr th {\n",
              "        vertical-align: top;\n",
              "    }\n",
              "\n",
              "    .dataframe thead th {\n",
              "        text-align: right;\n",
              "    }\n",
              "</style>\n",
              "<table border=\"1\" class=\"dataframe\">\n",
              "  <thead>\n",
              "    <tr style=\"text-align: right;\">\n",
              "      <th></th>\n",
              "      <th>D</th>\n",
              "      <th>C</th>\n",
              "      <th>B</th>\n",
              "      <th>A</th>\n",
              "    </tr>\n",
              "  </thead>\n",
              "  <tbody>\n",
              "    <tr>\n",
              "      <th>2013-01-01</th>\n",
              "      <td>-0.763431</td>\n",
              "      <td>-0.274461</td>\n",
              "      <td>0.908877</td>\n",
              "      <td>-0.839471</td>\n",
              "    </tr>\n",
              "    <tr>\n",
              "      <th>2013-01-02</th>\n",
              "      <td>-0.144729</td>\n",
              "      <td>0.818521</td>\n",
              "      <td>0.401766</td>\n",
              "      <td>0.235510</td>\n",
              "    </tr>\n",
              "    <tr>\n",
              "      <th>2013-01-03</th>\n",
              "      <td>-0.121698</td>\n",
              "      <td>0.237260</td>\n",
              "      <td>0.294097</td>\n",
              "      <td>1.501344</td>\n",
              "    </tr>\n",
              "    <tr>\n",
              "      <th>2013-01-04</th>\n",
              "      <td>1.327477</td>\n",
              "      <td>1.013808</td>\n",
              "      <td>-2.578609</td>\n",
              "      <td>0.765792</td>\n",
              "    </tr>\n",
              "    <tr>\n",
              "      <th>2013-01-05</th>\n",
              "      <td>1.211272</td>\n",
              "      <td>0.733071</td>\n",
              "      <td>-0.620411</td>\n",
              "      <td>0.830345</td>\n",
              "    </tr>\n",
              "    <tr>\n",
              "      <th>2013-01-06</th>\n",
              "      <td>0.370010</td>\n",
              "      <td>-0.124729</td>\n",
              "      <td>0.721921</td>\n",
              "      <td>-1.653750</td>\n",
              "    </tr>\n",
              "  </tbody>\n",
              "</table>\n",
              "</div>"
            ],
            "text/plain": [
              "                   D         C         B         A\n",
              "2013-01-01 -0.763431 -0.274461  0.908877 -0.839471\n",
              "2013-01-02 -0.144729  0.818521  0.401766  0.235510\n",
              "2013-01-03 -0.121698  0.237260  0.294097  1.501344\n",
              "2013-01-04  1.327477  1.013808 -2.578609  0.765792\n",
              "2013-01-05  1.211272  0.733071 -0.620411  0.830345\n",
              "2013-01-06  0.370010 -0.124729  0.721921 -1.653750"
            ]
          },
          "metadata": {
            "tags": []
          },
          "execution_count": 22
        }
      ]
    },
    {
      "cell_type": "code",
      "metadata": {
        "id": "vpN42CyWmHph",
        "colab_type": "code",
        "colab": {
          "base_uri": "https://localhost:8080/",
          "height": 227
        },
        "outputId": "9f733981-015c-416c-b7cb-3b69d6f62b23"
      },
      "source": [
        "df.sort_values(by='B') # mengurutkan berdasarkan nilai"
      ],
      "execution_count": 25,
      "outputs": [
        {
          "output_type": "execute_result",
          "data": {
            "text/html": [
              "<div>\n",
              "<style scoped>\n",
              "    .dataframe tbody tr th:only-of-type {\n",
              "        vertical-align: middle;\n",
              "    }\n",
              "\n",
              "    .dataframe tbody tr th {\n",
              "        vertical-align: top;\n",
              "    }\n",
              "\n",
              "    .dataframe thead th {\n",
              "        text-align: right;\n",
              "    }\n",
              "</style>\n",
              "<table border=\"1\" class=\"dataframe\">\n",
              "  <thead>\n",
              "    <tr style=\"text-align: right;\">\n",
              "      <th></th>\n",
              "      <th>A</th>\n",
              "      <th>B</th>\n",
              "      <th>C</th>\n",
              "      <th>D</th>\n",
              "    </tr>\n",
              "  </thead>\n",
              "  <tbody>\n",
              "    <tr>\n",
              "      <th>2013-01-04</th>\n",
              "      <td>0.765792</td>\n",
              "      <td>-2.578609</td>\n",
              "      <td>1.013808</td>\n",
              "      <td>1.327477</td>\n",
              "    </tr>\n",
              "    <tr>\n",
              "      <th>2013-01-05</th>\n",
              "      <td>0.830345</td>\n",
              "      <td>-0.620411</td>\n",
              "      <td>0.733071</td>\n",
              "      <td>1.211272</td>\n",
              "    </tr>\n",
              "    <tr>\n",
              "      <th>2013-01-03</th>\n",
              "      <td>1.501344</td>\n",
              "      <td>0.294097</td>\n",
              "      <td>0.237260</td>\n",
              "      <td>-0.121698</td>\n",
              "    </tr>\n",
              "    <tr>\n",
              "      <th>2013-01-02</th>\n",
              "      <td>0.235510</td>\n",
              "      <td>0.401766</td>\n",
              "      <td>0.818521</td>\n",
              "      <td>-0.144729</td>\n",
              "    </tr>\n",
              "    <tr>\n",
              "      <th>2013-01-06</th>\n",
              "      <td>-1.653750</td>\n",
              "      <td>0.721921</td>\n",
              "      <td>-0.124729</td>\n",
              "      <td>0.370010</td>\n",
              "    </tr>\n",
              "    <tr>\n",
              "      <th>2013-01-01</th>\n",
              "      <td>-0.839471</td>\n",
              "      <td>0.908877</td>\n",
              "      <td>-0.274461</td>\n",
              "      <td>-0.763431</td>\n",
              "    </tr>\n",
              "  </tbody>\n",
              "</table>\n",
              "</div>"
            ],
            "text/plain": [
              "                   A         B         C         D\n",
              "2013-01-04  0.765792 -2.578609  1.013808  1.327477\n",
              "2013-01-05  0.830345 -0.620411  0.733071  1.211272\n",
              "2013-01-03  1.501344  0.294097  0.237260 -0.121698\n",
              "2013-01-02  0.235510  0.401766  0.818521 -0.144729\n",
              "2013-01-06 -1.653750  0.721921 -0.124729  0.370010\n",
              "2013-01-01 -0.839471  0.908877 -0.274461 -0.763431"
            ]
          },
          "metadata": {
            "tags": []
          },
          "execution_count": 25
        }
      ]
    },
    {
      "cell_type": "markdown",
      "metadata": {
        "id": "fnz8jvpnmmol",
        "colab_type": "text"
      },
      "source": [
        "## Selection"
      ]
    },
    {
      "cell_type": "markdown",
      "metadata": {
        "id": "m6ATFEw8muRV",
        "colab_type": "text"
      },
      "source": [
        "### Getting"
      ]
    },
    {
      "cell_type": "code",
      "metadata": {
        "id": "r0GHAEj4mkdw",
        "colab_type": "code",
        "colab": {
          "base_uri": "https://localhost:8080/",
          "height": 141
        },
        "outputId": "109eccad-33d3-4223-fba9-16145267df5d"
      },
      "source": [
        "df['A'] # memilih satu kolom"
      ],
      "execution_count": 26,
      "outputs": [
        {
          "output_type": "execute_result",
          "data": {
            "text/plain": [
              "2013-01-01   -0.839471\n",
              "2013-01-02    0.235510\n",
              "2013-01-03    1.501344\n",
              "2013-01-04    0.765792\n",
              "2013-01-05    0.830345\n",
              "2013-01-06   -1.653750\n",
              "Freq: D, Name: A, dtype: float64"
            ]
          },
          "metadata": {
            "tags": []
          },
          "execution_count": 26
        }
      ]
    },
    {
      "cell_type": "code",
      "metadata": {
        "id": "Pu5Hf3nlnD9i",
        "colab_type": "code",
        "colab": {
          "base_uri": "https://localhost:8080/",
          "height": 137
        },
        "outputId": "63c167a0-79b9-4938-be90-431cb584fb49"
      },
      "source": [
        "df[0:3] # memilih dengan [] yang mengiris baris\n",
        "        # yaitu menampilkan data index 0 sampai 3(index 3 tidak termasuk)"
      ],
      "execution_count": 27,
      "outputs": [
        {
          "output_type": "execute_result",
          "data": {
            "text/html": [
              "<div>\n",
              "<style scoped>\n",
              "    .dataframe tbody tr th:only-of-type {\n",
              "        vertical-align: middle;\n",
              "    }\n",
              "\n",
              "    .dataframe tbody tr th {\n",
              "        vertical-align: top;\n",
              "    }\n",
              "\n",
              "    .dataframe thead th {\n",
              "        text-align: right;\n",
              "    }\n",
              "</style>\n",
              "<table border=\"1\" class=\"dataframe\">\n",
              "  <thead>\n",
              "    <tr style=\"text-align: right;\">\n",
              "      <th></th>\n",
              "      <th>A</th>\n",
              "      <th>B</th>\n",
              "      <th>C</th>\n",
              "      <th>D</th>\n",
              "    </tr>\n",
              "  </thead>\n",
              "  <tbody>\n",
              "    <tr>\n",
              "      <th>2013-01-01</th>\n",
              "      <td>-0.839471</td>\n",
              "      <td>0.908877</td>\n",
              "      <td>-0.274461</td>\n",
              "      <td>-0.763431</td>\n",
              "    </tr>\n",
              "    <tr>\n",
              "      <th>2013-01-02</th>\n",
              "      <td>0.235510</td>\n",
              "      <td>0.401766</td>\n",
              "      <td>0.818521</td>\n",
              "      <td>-0.144729</td>\n",
              "    </tr>\n",
              "    <tr>\n",
              "      <th>2013-01-03</th>\n",
              "      <td>1.501344</td>\n",
              "      <td>0.294097</td>\n",
              "      <td>0.237260</td>\n",
              "      <td>-0.121698</td>\n",
              "    </tr>\n",
              "  </tbody>\n",
              "</table>\n",
              "</div>"
            ],
            "text/plain": [
              "                   A         B         C         D\n",
              "2013-01-01 -0.839471  0.908877 -0.274461 -0.763431\n",
              "2013-01-02  0.235510  0.401766  0.818521 -0.144729\n",
              "2013-01-03  1.501344  0.294097  0.237260 -0.121698"
            ]
          },
          "metadata": {
            "tags": []
          },
          "execution_count": 27
        }
      ]
    },
    {
      "cell_type": "code",
      "metadata": {
        "id": "SHhdyqk2nmEt",
        "colab_type": "code",
        "colab": {
          "base_uri": "https://localhost:8080/",
          "height": 137
        },
        "outputId": "4d623c69-788d-4e93-b80f-10a8a9eaf83d"
      },
      "source": [
        "df['20130102':'20130104']"
      ],
      "execution_count": 28,
      "outputs": [
        {
          "output_type": "execute_result",
          "data": {
            "text/html": [
              "<div>\n",
              "<style scoped>\n",
              "    .dataframe tbody tr th:only-of-type {\n",
              "        vertical-align: middle;\n",
              "    }\n",
              "\n",
              "    .dataframe tbody tr th {\n",
              "        vertical-align: top;\n",
              "    }\n",
              "\n",
              "    .dataframe thead th {\n",
              "        text-align: right;\n",
              "    }\n",
              "</style>\n",
              "<table border=\"1\" class=\"dataframe\">\n",
              "  <thead>\n",
              "    <tr style=\"text-align: right;\">\n",
              "      <th></th>\n",
              "      <th>A</th>\n",
              "      <th>B</th>\n",
              "      <th>C</th>\n",
              "      <th>D</th>\n",
              "    </tr>\n",
              "  </thead>\n",
              "  <tbody>\n",
              "    <tr>\n",
              "      <th>2013-01-02</th>\n",
              "      <td>0.235510</td>\n",
              "      <td>0.401766</td>\n",
              "      <td>0.818521</td>\n",
              "      <td>-0.144729</td>\n",
              "    </tr>\n",
              "    <tr>\n",
              "      <th>2013-01-03</th>\n",
              "      <td>1.501344</td>\n",
              "      <td>0.294097</td>\n",
              "      <td>0.237260</td>\n",
              "      <td>-0.121698</td>\n",
              "    </tr>\n",
              "    <tr>\n",
              "      <th>2013-01-04</th>\n",
              "      <td>0.765792</td>\n",
              "      <td>-2.578609</td>\n",
              "      <td>1.013808</td>\n",
              "      <td>1.327477</td>\n",
              "    </tr>\n",
              "  </tbody>\n",
              "</table>\n",
              "</div>"
            ],
            "text/plain": [
              "                   A         B         C         D\n",
              "2013-01-02  0.235510  0.401766  0.818521 -0.144729\n",
              "2013-01-03  1.501344  0.294097  0.237260 -0.121698\n",
              "2013-01-04  0.765792 -2.578609  1.013808  1.327477"
            ]
          },
          "metadata": {
            "tags": []
          },
          "execution_count": 28
        }
      ]
    },
    {
      "cell_type": "markdown",
      "metadata": {
        "id": "Gw7XvAewn54k",
        "colab_type": "text"
      },
      "source": [
        "### Selection by label"
      ]
    },
    {
      "cell_type": "code",
      "metadata": {
        "id": "31p6QaZCn78y",
        "colab_type": "code",
        "colab": {
          "base_uri": "https://localhost:8080/",
          "height": 105
        },
        "outputId": "a5af79b1-adcd-4135-c5b2-049ac546c7c4"
      },
      "source": [
        "df.loc[dates[0]] # untuk menampilkan data berdasarkan label pada dates index ke 0"
      ],
      "execution_count": 29,
      "outputs": [
        {
          "output_type": "execute_result",
          "data": {
            "text/plain": [
              "A   -0.839471\n",
              "B    0.908877\n",
              "C   -0.274461\n",
              "D   -0.763431\n",
              "Name: 2013-01-01 00:00:00, dtype: float64"
            ]
          },
          "metadata": {
            "tags": []
          },
          "execution_count": 29
        }
      ]
    },
    {
      "cell_type": "code",
      "metadata": {
        "id": "jJ9xQXyFoTUP",
        "colab_type": "code",
        "colab": {
          "base_uri": "https://localhost:8080/",
          "height": 227
        },
        "outputId": "9a8f4d8b-bd80-427e-e9d5-18ea4e9843a9"
      },
      "source": [
        "df.loc[:, ['A', 'B']] # memilih pada multi-axis dengan label"
      ],
      "execution_count": 30,
      "outputs": [
        {
          "output_type": "execute_result",
          "data": {
            "text/html": [
              "<div>\n",
              "<style scoped>\n",
              "    .dataframe tbody tr th:only-of-type {\n",
              "        vertical-align: middle;\n",
              "    }\n",
              "\n",
              "    .dataframe tbody tr th {\n",
              "        vertical-align: top;\n",
              "    }\n",
              "\n",
              "    .dataframe thead th {\n",
              "        text-align: right;\n",
              "    }\n",
              "</style>\n",
              "<table border=\"1\" class=\"dataframe\">\n",
              "  <thead>\n",
              "    <tr style=\"text-align: right;\">\n",
              "      <th></th>\n",
              "      <th>A</th>\n",
              "      <th>B</th>\n",
              "    </tr>\n",
              "  </thead>\n",
              "  <tbody>\n",
              "    <tr>\n",
              "      <th>2013-01-01</th>\n",
              "      <td>-0.839471</td>\n",
              "      <td>0.908877</td>\n",
              "    </tr>\n",
              "    <tr>\n",
              "      <th>2013-01-02</th>\n",
              "      <td>0.235510</td>\n",
              "      <td>0.401766</td>\n",
              "    </tr>\n",
              "    <tr>\n",
              "      <th>2013-01-03</th>\n",
              "      <td>1.501344</td>\n",
              "      <td>0.294097</td>\n",
              "    </tr>\n",
              "    <tr>\n",
              "      <th>2013-01-04</th>\n",
              "      <td>0.765792</td>\n",
              "      <td>-2.578609</td>\n",
              "    </tr>\n",
              "    <tr>\n",
              "      <th>2013-01-05</th>\n",
              "      <td>0.830345</td>\n",
              "      <td>-0.620411</td>\n",
              "    </tr>\n",
              "    <tr>\n",
              "      <th>2013-01-06</th>\n",
              "      <td>-1.653750</td>\n",
              "      <td>0.721921</td>\n",
              "    </tr>\n",
              "  </tbody>\n",
              "</table>\n",
              "</div>"
            ],
            "text/plain": [
              "                   A         B\n",
              "2013-01-01 -0.839471  0.908877\n",
              "2013-01-02  0.235510  0.401766\n",
              "2013-01-03  1.501344  0.294097\n",
              "2013-01-04  0.765792 -2.578609\n",
              "2013-01-05  0.830345 -0.620411\n",
              "2013-01-06 -1.653750  0.721921"
            ]
          },
          "metadata": {
            "tags": []
          },
          "execution_count": 30
        }
      ]
    },
    {
      "cell_type": "code",
      "metadata": {
        "id": "BPrJsqtKopoF",
        "colab_type": "code",
        "colab": {
          "base_uri": "https://localhost:8080/",
          "height": 137
        },
        "outputId": "50fcac47-08ac-4e1e-c0ff-99fa5fd33f88"
      },
      "source": [
        "df.loc['20130102':'20130104', ['A', 'B']] # memilih berdasarkan label dengan menentukan data yang ditampilkan"
      ],
      "execution_count": 32,
      "outputs": [
        {
          "output_type": "execute_result",
          "data": {
            "text/html": [
              "<div>\n",
              "<style scoped>\n",
              "    .dataframe tbody tr th:only-of-type {\n",
              "        vertical-align: middle;\n",
              "    }\n",
              "\n",
              "    .dataframe tbody tr th {\n",
              "        vertical-align: top;\n",
              "    }\n",
              "\n",
              "    .dataframe thead th {\n",
              "        text-align: right;\n",
              "    }\n",
              "</style>\n",
              "<table border=\"1\" class=\"dataframe\">\n",
              "  <thead>\n",
              "    <tr style=\"text-align: right;\">\n",
              "      <th></th>\n",
              "      <th>A</th>\n",
              "      <th>B</th>\n",
              "    </tr>\n",
              "  </thead>\n",
              "  <tbody>\n",
              "    <tr>\n",
              "      <th>2013-01-02</th>\n",
              "      <td>0.235510</td>\n",
              "      <td>0.401766</td>\n",
              "    </tr>\n",
              "    <tr>\n",
              "      <th>2013-01-03</th>\n",
              "      <td>1.501344</td>\n",
              "      <td>0.294097</td>\n",
              "    </tr>\n",
              "    <tr>\n",
              "      <th>2013-01-04</th>\n",
              "      <td>0.765792</td>\n",
              "      <td>-2.578609</td>\n",
              "    </tr>\n",
              "  </tbody>\n",
              "</table>\n",
              "</div>"
            ],
            "text/plain": [
              "                   A         B\n",
              "2013-01-02  0.235510  0.401766\n",
              "2013-01-03  1.501344  0.294097\n",
              "2013-01-04  0.765792 -2.578609"
            ]
          },
          "metadata": {
            "tags": []
          },
          "execution_count": 32
        }
      ]
    },
    {
      "cell_type": "code",
      "metadata": {
        "id": "vEDosVkKpFkg",
        "colab_type": "code",
        "colab": {
          "base_uri": "https://localhost:8080/",
          "height": 70
        },
        "outputId": "73e4fe3a-22fc-4899-892c-fa4b5dc63b54"
      },
      "source": [
        "df.loc['20130102', ['A', 'B']] # memilih menampilkan data pada label dengan data pada baris yang dimaksud"
      ],
      "execution_count": 33,
      "outputs": [
        {
          "output_type": "execute_result",
          "data": {
            "text/plain": [
              "A    0.235510\n",
              "B    0.401766\n",
              "Name: 2013-01-02 00:00:00, dtype: float64"
            ]
          },
          "metadata": {
            "tags": []
          },
          "execution_count": 33
        }
      ]
    },
    {
      "cell_type": "code",
      "metadata": {
        "id": "LsSRqMO2pa3s",
        "colab_type": "code",
        "colab": {
          "base_uri": "https://localhost:8080/",
          "height": 34
        },
        "outputId": "6abbe6c3-f502-426b-c888-553f97629a4f"
      },
      "source": [
        "df.loc[dates[0], 'A'] # untuk mendapatkan nilai skalar"
      ],
      "execution_count": 34,
      "outputs": [
        {
          "output_type": "execute_result",
          "data": {
            "text/plain": [
              "-0.8394713571889467"
            ]
          },
          "metadata": {
            "tags": []
          },
          "execution_count": 34
        }
      ]
    },
    {
      "cell_type": "code",
      "metadata": {
        "id": "aZDKKUw9pjn1",
        "colab_type": "code",
        "colab": {
          "base_uri": "https://localhost:8080/",
          "height": 34
        },
        "outputId": "e7f6fa6b-800d-4d83-f0a3-b006c8ac6ff5"
      },
      "source": [
        "df.at[dates[0], 'A'] # untuk mendapatkan nilai akses ke skalar"
      ],
      "execution_count": 35,
      "outputs": [
        {
          "output_type": "execute_result",
          "data": {
            "text/plain": [
              "-0.8394713571889467"
            ]
          },
          "metadata": {
            "tags": []
          },
          "execution_count": 35
        }
      ]
    },
    {
      "cell_type": "markdown",
      "metadata": {
        "id": "zbmaA8TSpwz9",
        "colab_type": "text"
      },
      "source": [
        "### Selection by position"
      ]
    },
    {
      "cell_type": "code",
      "metadata": {
        "id": "FqU7Jgpopvj1",
        "colab_type": "code",
        "colab": {
          "base_uri": "https://localhost:8080/",
          "height": 105
        },
        "outputId": "f7780eb2-758f-49c5-aaa0-54852613e108"
      },
      "source": [
        "df.iloc[3] # memilih melalui posisi bilangan bulat yang dilewati"
      ],
      "execution_count": 36,
      "outputs": [
        {
          "output_type": "execute_result",
          "data": {
            "text/plain": [
              "A    0.765792\n",
              "B   -2.578609\n",
              "C    1.013808\n",
              "D    1.327477\n",
              "Name: 2013-01-04 00:00:00, dtype: float64"
            ]
          },
          "metadata": {
            "tags": []
          },
          "execution_count": 36
        }
      ]
    },
    {
      "cell_type": "code",
      "metadata": {
        "id": "2oP3Dr3gqQQd",
        "colab_type": "code",
        "colab": {
          "base_uri": "https://localhost:8080/",
          "height": 107
        },
        "outputId": "969595f1-ae3b-4224-837e-d7ffb0d2ca3a"
      },
      "source": [
        "df.iloc[3:5, 0:2] # memilih baris index dari dan batas kemudian kolom ke dan batas"
      ],
      "execution_count": 37,
      "outputs": [
        {
          "output_type": "execute_result",
          "data": {
            "text/html": [
              "<div>\n",
              "<style scoped>\n",
              "    .dataframe tbody tr th:only-of-type {\n",
              "        vertical-align: middle;\n",
              "    }\n",
              "\n",
              "    .dataframe tbody tr th {\n",
              "        vertical-align: top;\n",
              "    }\n",
              "\n",
              "    .dataframe thead th {\n",
              "        text-align: right;\n",
              "    }\n",
              "</style>\n",
              "<table border=\"1\" class=\"dataframe\">\n",
              "  <thead>\n",
              "    <tr style=\"text-align: right;\">\n",
              "      <th></th>\n",
              "      <th>A</th>\n",
              "      <th>B</th>\n",
              "    </tr>\n",
              "  </thead>\n",
              "  <tbody>\n",
              "    <tr>\n",
              "      <th>2013-01-04</th>\n",
              "      <td>0.765792</td>\n",
              "      <td>-2.578609</td>\n",
              "    </tr>\n",
              "    <tr>\n",
              "      <th>2013-01-05</th>\n",
              "      <td>0.830345</td>\n",
              "      <td>-0.620411</td>\n",
              "    </tr>\n",
              "  </tbody>\n",
              "</table>\n",
              "</div>"
            ],
            "text/plain": [
              "                   A         B\n",
              "2013-01-04  0.765792 -2.578609\n",
              "2013-01-05  0.830345 -0.620411"
            ]
          },
          "metadata": {
            "tags": []
          },
          "execution_count": 37
        }
      ]
    },
    {
      "cell_type": "code",
      "metadata": {
        "id": "X3vJ8-2eukS1",
        "colab_type": "code",
        "colab": {
          "base_uri": "https://localhost:8080/",
          "height": 107
        },
        "outputId": "4246e3eb-c33d-43ec-b063-1d46fe066a2c"
      },
      "source": [
        "df.iloc[1:3, :] # untuk mengiris baris secara eksplisit"
      ],
      "execution_count": 38,
      "outputs": [
        {
          "output_type": "execute_result",
          "data": {
            "text/html": [
              "<div>\n",
              "<style scoped>\n",
              "    .dataframe tbody tr th:only-of-type {\n",
              "        vertical-align: middle;\n",
              "    }\n",
              "\n",
              "    .dataframe tbody tr th {\n",
              "        vertical-align: top;\n",
              "    }\n",
              "\n",
              "    .dataframe thead th {\n",
              "        text-align: right;\n",
              "    }\n",
              "</style>\n",
              "<table border=\"1\" class=\"dataframe\">\n",
              "  <thead>\n",
              "    <tr style=\"text-align: right;\">\n",
              "      <th></th>\n",
              "      <th>A</th>\n",
              "      <th>B</th>\n",
              "      <th>C</th>\n",
              "      <th>D</th>\n",
              "    </tr>\n",
              "  </thead>\n",
              "  <tbody>\n",
              "    <tr>\n",
              "      <th>2013-01-02</th>\n",
              "      <td>0.235510</td>\n",
              "      <td>0.401766</td>\n",
              "      <td>0.818521</td>\n",
              "      <td>-0.144729</td>\n",
              "    </tr>\n",
              "    <tr>\n",
              "      <th>2013-01-03</th>\n",
              "      <td>1.501344</td>\n",
              "      <td>0.294097</td>\n",
              "      <td>0.237260</td>\n",
              "      <td>-0.121698</td>\n",
              "    </tr>\n",
              "  </tbody>\n",
              "</table>\n",
              "</div>"
            ],
            "text/plain": [
              "                   A         B         C         D\n",
              "2013-01-02  0.235510  0.401766  0.818521 -0.144729\n",
              "2013-01-03  1.501344  0.294097  0.237260 -0.121698"
            ]
          },
          "metadata": {
            "tags": []
          },
          "execution_count": 38
        }
      ]
    },
    {
      "cell_type": "code",
      "metadata": {
        "id": "M4FWOv7Auu3l",
        "colab_type": "code",
        "colab": {
          "base_uri": "https://localhost:8080/",
          "height": 227
        },
        "outputId": "a340fffe-bde9-454f-dfac-9e88635b0797"
      },
      "source": [
        "df.iloc[:, 1:3] # untuk mengiris kolom secara eksplisit"
      ],
      "execution_count": 39,
      "outputs": [
        {
          "output_type": "execute_result",
          "data": {
            "text/html": [
              "<div>\n",
              "<style scoped>\n",
              "    .dataframe tbody tr th:only-of-type {\n",
              "        vertical-align: middle;\n",
              "    }\n",
              "\n",
              "    .dataframe tbody tr th {\n",
              "        vertical-align: top;\n",
              "    }\n",
              "\n",
              "    .dataframe thead th {\n",
              "        text-align: right;\n",
              "    }\n",
              "</style>\n",
              "<table border=\"1\" class=\"dataframe\">\n",
              "  <thead>\n",
              "    <tr style=\"text-align: right;\">\n",
              "      <th></th>\n",
              "      <th>B</th>\n",
              "      <th>C</th>\n",
              "    </tr>\n",
              "  </thead>\n",
              "  <tbody>\n",
              "    <tr>\n",
              "      <th>2013-01-01</th>\n",
              "      <td>0.908877</td>\n",
              "      <td>-0.274461</td>\n",
              "    </tr>\n",
              "    <tr>\n",
              "      <th>2013-01-02</th>\n",
              "      <td>0.401766</td>\n",
              "      <td>0.818521</td>\n",
              "    </tr>\n",
              "    <tr>\n",
              "      <th>2013-01-03</th>\n",
              "      <td>0.294097</td>\n",
              "      <td>0.237260</td>\n",
              "    </tr>\n",
              "    <tr>\n",
              "      <th>2013-01-04</th>\n",
              "      <td>-2.578609</td>\n",
              "      <td>1.013808</td>\n",
              "    </tr>\n",
              "    <tr>\n",
              "      <th>2013-01-05</th>\n",
              "      <td>-0.620411</td>\n",
              "      <td>0.733071</td>\n",
              "    </tr>\n",
              "    <tr>\n",
              "      <th>2013-01-06</th>\n",
              "      <td>0.721921</td>\n",
              "      <td>-0.124729</td>\n",
              "    </tr>\n",
              "  </tbody>\n",
              "</table>\n",
              "</div>"
            ],
            "text/plain": [
              "                   B         C\n",
              "2013-01-01  0.908877 -0.274461\n",
              "2013-01-02  0.401766  0.818521\n",
              "2013-01-03  0.294097  0.237260\n",
              "2013-01-04 -2.578609  1.013808\n",
              "2013-01-05 -0.620411  0.733071\n",
              "2013-01-06  0.721921 -0.124729"
            ]
          },
          "metadata": {
            "tags": []
          },
          "execution_count": 39
        }
      ]
    },
    {
      "cell_type": "code",
      "metadata": {
        "id": "tmLTiZMVu9pI",
        "colab_type": "code",
        "colab": {
          "base_uri": "https://localhost:8080/",
          "height": 34
        },
        "outputId": "4df63753-92ea-499e-a404-0ba006e917b9"
      },
      "source": [
        "df.iloc[1, 1] # untuk mendapatkan nilai secara eksplisit"
      ],
      "execution_count": 40,
      "outputs": [
        {
          "output_type": "execute_result",
          "data": {
            "text/plain": [
              "0.40176592203897504"
            ]
          },
          "metadata": {
            "tags": []
          },
          "execution_count": 40
        }
      ]
    },
    {
      "cell_type": "code",
      "metadata": {
        "id": "P3ctl9N9vEBV",
        "colab_type": "code",
        "colab": {
          "base_uri": "https://localhost:8080/",
          "height": 34
        },
        "outputId": "1ab49641-f6e8-4aa5-e340-62831b2e4274"
      },
      "source": [
        "df.iat[1, 1] # untuk mendapatkan akses cepat ke skalar"
      ],
      "execution_count": 41,
      "outputs": [
        {
          "output_type": "execute_result",
          "data": {
            "text/plain": [
              "0.40176592203897504"
            ]
          },
          "metadata": {
            "tags": []
          },
          "execution_count": 41
        }
      ]
    },
    {
      "cell_type": "markdown",
      "metadata": {
        "id": "Wk4BFkFQvkV5",
        "colab_type": "text"
      },
      "source": [
        "### Boolean indexing"
      ]
    },
    {
      "cell_type": "code",
      "metadata": {
        "id": "HCuZoDe1vqbk",
        "colab_type": "code",
        "colab": {
          "base_uri": "https://localhost:8080/",
          "height": 167
        },
        "outputId": "49613fad-de33-4660-ec12-105b0a2a9aca"
      },
      "source": [
        "df[df['A'] > 0] # menggunakan nilai satu kolom untuk memilih data"
      ],
      "execution_count": 42,
      "outputs": [
        {
          "output_type": "execute_result",
          "data": {
            "text/html": [
              "<div>\n",
              "<style scoped>\n",
              "    .dataframe tbody tr th:only-of-type {\n",
              "        vertical-align: middle;\n",
              "    }\n",
              "\n",
              "    .dataframe tbody tr th {\n",
              "        vertical-align: top;\n",
              "    }\n",
              "\n",
              "    .dataframe thead th {\n",
              "        text-align: right;\n",
              "    }\n",
              "</style>\n",
              "<table border=\"1\" class=\"dataframe\">\n",
              "  <thead>\n",
              "    <tr style=\"text-align: right;\">\n",
              "      <th></th>\n",
              "      <th>A</th>\n",
              "      <th>B</th>\n",
              "      <th>C</th>\n",
              "      <th>D</th>\n",
              "    </tr>\n",
              "  </thead>\n",
              "  <tbody>\n",
              "    <tr>\n",
              "      <th>2013-01-02</th>\n",
              "      <td>0.235510</td>\n",
              "      <td>0.401766</td>\n",
              "      <td>0.818521</td>\n",
              "      <td>-0.144729</td>\n",
              "    </tr>\n",
              "    <tr>\n",
              "      <th>2013-01-03</th>\n",
              "      <td>1.501344</td>\n",
              "      <td>0.294097</td>\n",
              "      <td>0.237260</td>\n",
              "      <td>-0.121698</td>\n",
              "    </tr>\n",
              "    <tr>\n",
              "      <th>2013-01-04</th>\n",
              "      <td>0.765792</td>\n",
              "      <td>-2.578609</td>\n",
              "      <td>1.013808</td>\n",
              "      <td>1.327477</td>\n",
              "    </tr>\n",
              "    <tr>\n",
              "      <th>2013-01-05</th>\n",
              "      <td>0.830345</td>\n",
              "      <td>-0.620411</td>\n",
              "      <td>0.733071</td>\n",
              "      <td>1.211272</td>\n",
              "    </tr>\n",
              "  </tbody>\n",
              "</table>\n",
              "</div>"
            ],
            "text/plain": [
              "                   A         B         C         D\n",
              "2013-01-02  0.235510  0.401766  0.818521 -0.144729\n",
              "2013-01-03  1.501344  0.294097  0.237260 -0.121698\n",
              "2013-01-04  0.765792 -2.578609  1.013808  1.327477\n",
              "2013-01-05  0.830345 -0.620411  0.733071  1.211272"
            ]
          },
          "metadata": {
            "tags": []
          },
          "execution_count": 42
        }
      ]
    },
    {
      "cell_type": "code",
      "metadata": {
        "id": "jvtDxJ9pv57z",
        "colab_type": "code",
        "colab": {
          "base_uri": "https://localhost:8080/",
          "height": 227
        },
        "outputId": "78fc9d7c-fc21-476f-c8ff-91adfd65824d"
      },
      "source": [
        "df[df > 0] # memilih nilai dari dataframe tempat kondisi boolean terpenuhi"
      ],
      "execution_count": 43,
      "outputs": [
        {
          "output_type": "execute_result",
          "data": {
            "text/html": [
              "<div>\n",
              "<style scoped>\n",
              "    .dataframe tbody tr th:only-of-type {\n",
              "        vertical-align: middle;\n",
              "    }\n",
              "\n",
              "    .dataframe tbody tr th {\n",
              "        vertical-align: top;\n",
              "    }\n",
              "\n",
              "    .dataframe thead th {\n",
              "        text-align: right;\n",
              "    }\n",
              "</style>\n",
              "<table border=\"1\" class=\"dataframe\">\n",
              "  <thead>\n",
              "    <tr style=\"text-align: right;\">\n",
              "      <th></th>\n",
              "      <th>A</th>\n",
              "      <th>B</th>\n",
              "      <th>C</th>\n",
              "      <th>D</th>\n",
              "    </tr>\n",
              "  </thead>\n",
              "  <tbody>\n",
              "    <tr>\n",
              "      <th>2013-01-01</th>\n",
              "      <td>NaN</td>\n",
              "      <td>0.908877</td>\n",
              "      <td>NaN</td>\n",
              "      <td>NaN</td>\n",
              "    </tr>\n",
              "    <tr>\n",
              "      <th>2013-01-02</th>\n",
              "      <td>0.235510</td>\n",
              "      <td>0.401766</td>\n",
              "      <td>0.818521</td>\n",
              "      <td>NaN</td>\n",
              "    </tr>\n",
              "    <tr>\n",
              "      <th>2013-01-03</th>\n",
              "      <td>1.501344</td>\n",
              "      <td>0.294097</td>\n",
              "      <td>0.237260</td>\n",
              "      <td>NaN</td>\n",
              "    </tr>\n",
              "    <tr>\n",
              "      <th>2013-01-04</th>\n",
              "      <td>0.765792</td>\n",
              "      <td>NaN</td>\n",
              "      <td>1.013808</td>\n",
              "      <td>1.327477</td>\n",
              "    </tr>\n",
              "    <tr>\n",
              "      <th>2013-01-05</th>\n",
              "      <td>0.830345</td>\n",
              "      <td>NaN</td>\n",
              "      <td>0.733071</td>\n",
              "      <td>1.211272</td>\n",
              "    </tr>\n",
              "    <tr>\n",
              "      <th>2013-01-06</th>\n",
              "      <td>NaN</td>\n",
              "      <td>0.721921</td>\n",
              "      <td>NaN</td>\n",
              "      <td>0.370010</td>\n",
              "    </tr>\n",
              "  </tbody>\n",
              "</table>\n",
              "</div>"
            ],
            "text/plain": [
              "                   A         B         C         D\n",
              "2013-01-01       NaN  0.908877       NaN       NaN\n",
              "2013-01-02  0.235510  0.401766  0.818521       NaN\n",
              "2013-01-03  1.501344  0.294097  0.237260       NaN\n",
              "2013-01-04  0.765792       NaN  1.013808  1.327477\n",
              "2013-01-05  0.830345       NaN  0.733071  1.211272\n",
              "2013-01-06       NaN  0.721921       NaN  0.370010"
            ]
          },
          "metadata": {
            "tags": []
          },
          "execution_count": 43
        }
      ]
    },
    {
      "cell_type": "code",
      "metadata": {
        "id": "_Hb65QkowHK5",
        "colab_type": "code",
        "colab": {
          "base_uri": "https://localhost:8080/",
          "height": 227
        },
        "outputId": "0d058976-0f80-4342-a88e-fc6aa61d7dfc"
      },
      "source": [
        "df2 = df.copy()\n",
        "df2['E'] = ['one', 'one', 'two', 'three', 'four', 'three']\n",
        "df2"
      ],
      "execution_count": 45,
      "outputs": [
        {
          "output_type": "execute_result",
          "data": {
            "text/html": [
              "<div>\n",
              "<style scoped>\n",
              "    .dataframe tbody tr th:only-of-type {\n",
              "        vertical-align: middle;\n",
              "    }\n",
              "\n",
              "    .dataframe tbody tr th {\n",
              "        vertical-align: top;\n",
              "    }\n",
              "\n",
              "    .dataframe thead th {\n",
              "        text-align: right;\n",
              "    }\n",
              "</style>\n",
              "<table border=\"1\" class=\"dataframe\">\n",
              "  <thead>\n",
              "    <tr style=\"text-align: right;\">\n",
              "      <th></th>\n",
              "      <th>A</th>\n",
              "      <th>B</th>\n",
              "      <th>C</th>\n",
              "      <th>D</th>\n",
              "      <th>E</th>\n",
              "    </tr>\n",
              "  </thead>\n",
              "  <tbody>\n",
              "    <tr>\n",
              "      <th>2013-01-01</th>\n",
              "      <td>-0.839471</td>\n",
              "      <td>0.908877</td>\n",
              "      <td>-0.274461</td>\n",
              "      <td>-0.763431</td>\n",
              "      <td>one</td>\n",
              "    </tr>\n",
              "    <tr>\n",
              "      <th>2013-01-02</th>\n",
              "      <td>0.235510</td>\n",
              "      <td>0.401766</td>\n",
              "      <td>0.818521</td>\n",
              "      <td>-0.144729</td>\n",
              "      <td>one</td>\n",
              "    </tr>\n",
              "    <tr>\n",
              "      <th>2013-01-03</th>\n",
              "      <td>1.501344</td>\n",
              "      <td>0.294097</td>\n",
              "      <td>0.237260</td>\n",
              "      <td>-0.121698</td>\n",
              "      <td>two</td>\n",
              "    </tr>\n",
              "    <tr>\n",
              "      <th>2013-01-04</th>\n",
              "      <td>0.765792</td>\n",
              "      <td>-2.578609</td>\n",
              "      <td>1.013808</td>\n",
              "      <td>1.327477</td>\n",
              "      <td>three</td>\n",
              "    </tr>\n",
              "    <tr>\n",
              "      <th>2013-01-05</th>\n",
              "      <td>0.830345</td>\n",
              "      <td>-0.620411</td>\n",
              "      <td>0.733071</td>\n",
              "      <td>1.211272</td>\n",
              "      <td>four</td>\n",
              "    </tr>\n",
              "    <tr>\n",
              "      <th>2013-01-06</th>\n",
              "      <td>-1.653750</td>\n",
              "      <td>0.721921</td>\n",
              "      <td>-0.124729</td>\n",
              "      <td>0.370010</td>\n",
              "      <td>three</td>\n",
              "    </tr>\n",
              "  </tbody>\n",
              "</table>\n",
              "</div>"
            ],
            "text/plain": [
              "                   A         B         C         D      E\n",
              "2013-01-01 -0.839471  0.908877 -0.274461 -0.763431    one\n",
              "2013-01-02  0.235510  0.401766  0.818521 -0.144729    one\n",
              "2013-01-03  1.501344  0.294097  0.237260 -0.121698    two\n",
              "2013-01-04  0.765792 -2.578609  1.013808  1.327477  three\n",
              "2013-01-05  0.830345 -0.620411  0.733071  1.211272   four\n",
              "2013-01-06 -1.653750  0.721921 -0.124729  0.370010  three"
            ]
          },
          "metadata": {
            "tags": []
          },
          "execution_count": 45
        }
      ]
    },
    {
      "cell_type": "code",
      "metadata": {
        "id": "E5b0dke0wh8m",
        "colab_type": "code",
        "colab": {
          "base_uri": "https://localhost:8080/",
          "height": 107
        },
        "outputId": "2e58bad2-59e4-4541-eae8-02e79ef3ee5d"
      },
      "source": [
        "# method isin() digunakan untuk memeriksa apakah nilai terkandung dalam data\n",
        "df2[df2['E'].isin(['two', 'four'])]"
      ],
      "execution_count": 46,
      "outputs": [
        {
          "output_type": "execute_result",
          "data": {
            "text/html": [
              "<div>\n",
              "<style scoped>\n",
              "    .dataframe tbody tr th:only-of-type {\n",
              "        vertical-align: middle;\n",
              "    }\n",
              "\n",
              "    .dataframe tbody tr th {\n",
              "        vertical-align: top;\n",
              "    }\n",
              "\n",
              "    .dataframe thead th {\n",
              "        text-align: right;\n",
              "    }\n",
              "</style>\n",
              "<table border=\"1\" class=\"dataframe\">\n",
              "  <thead>\n",
              "    <tr style=\"text-align: right;\">\n",
              "      <th></th>\n",
              "      <th>A</th>\n",
              "      <th>B</th>\n",
              "      <th>C</th>\n",
              "      <th>D</th>\n",
              "      <th>E</th>\n",
              "    </tr>\n",
              "  </thead>\n",
              "  <tbody>\n",
              "    <tr>\n",
              "      <th>2013-01-03</th>\n",
              "      <td>1.501344</td>\n",
              "      <td>0.294097</td>\n",
              "      <td>0.237260</td>\n",
              "      <td>-0.121698</td>\n",
              "      <td>two</td>\n",
              "    </tr>\n",
              "    <tr>\n",
              "      <th>2013-01-05</th>\n",
              "      <td>0.830345</td>\n",
              "      <td>-0.620411</td>\n",
              "      <td>0.733071</td>\n",
              "      <td>1.211272</td>\n",
              "      <td>four</td>\n",
              "    </tr>\n",
              "  </tbody>\n",
              "</table>\n",
              "</div>"
            ],
            "text/plain": [
              "                   A         B         C         D     E\n",
              "2013-01-03  1.501344  0.294097  0.237260 -0.121698   two\n",
              "2013-01-05  0.830345 -0.620411  0.733071  1.211272  four"
            ]
          },
          "metadata": {
            "tags": []
          },
          "execution_count": 46
        }
      ]
    },
    {
      "cell_type": "markdown",
      "metadata": {
        "id": "u2UZP1GtvmwU",
        "colab_type": "text"
      },
      "source": [
        "### Setting"
      ]
    },
    {
      "cell_type": "code",
      "metadata": {
        "id": "WWsqocbPw7p4",
        "colab_type": "code",
        "colab": {
          "base_uri": "https://localhost:8080/",
          "height": 141
        },
        "outputId": "c21f920f-34cc-42b9-d591-341dd472c555"
      },
      "source": [
        "# Mengatur kolom baru secara otomatis menyelaraskan data dengan indeks.\n",
        "s1 = pd.Series([1, 2, 3, 4, 5, 6], index=pd.date_range('20130102', periods=6))\n",
        "s1"
      ],
      "execution_count": 47,
      "outputs": [
        {
          "output_type": "execute_result",
          "data": {
            "text/plain": [
              "2013-01-02    1\n",
              "2013-01-03    2\n",
              "2013-01-04    3\n",
              "2013-01-05    4\n",
              "2013-01-06    5\n",
              "2013-01-07    6\n",
              "Freq: D, dtype: int64"
            ]
          },
          "metadata": {
            "tags": []
          },
          "execution_count": 47
        }
      ]
    },
    {
      "cell_type": "code",
      "metadata": {
        "id": "ptNrhck8xPcv",
        "colab_type": "code",
        "colab": {}
      },
      "source": [
        "# Menetapkan nilai berdasarkan label\n",
        "df.at[dates[0], 'A'] = 0"
      ],
      "execution_count": 0,
      "outputs": []
    },
    {
      "cell_type": "code",
      "metadata": {
        "id": "0vX-ZmD3xZoA",
        "colab_type": "code",
        "colab": {}
      },
      "source": [
        "# Menetapkan nilai berdasarkan posisi\n",
        "df.iat[0, 1] = 0"
      ],
      "execution_count": 0,
      "outputs": []
    },
    {
      "cell_type": "code",
      "metadata": {
        "id": "aWm3gYv1xpAS",
        "colab_type": "code",
        "colab": {
          "base_uri": "https://localhost:8080/",
          "height": 227
        },
        "outputId": "3562d766-5869-4abd-ca61-fa152df208b7"
      },
      "source": [
        "# menetapkan dengan array NumPy\n",
        "df.loc[:, 'D'] = np.array([5] * len(df))\n",
        "df"
      ],
      "execution_count": 50,
      "outputs": [
        {
          "output_type": "execute_result",
          "data": {
            "text/html": [
              "<div>\n",
              "<style scoped>\n",
              "    .dataframe tbody tr th:only-of-type {\n",
              "        vertical-align: middle;\n",
              "    }\n",
              "\n",
              "    .dataframe tbody tr th {\n",
              "        vertical-align: top;\n",
              "    }\n",
              "\n",
              "    .dataframe thead th {\n",
              "        text-align: right;\n",
              "    }\n",
              "</style>\n",
              "<table border=\"1\" class=\"dataframe\">\n",
              "  <thead>\n",
              "    <tr style=\"text-align: right;\">\n",
              "      <th></th>\n",
              "      <th>A</th>\n",
              "      <th>B</th>\n",
              "      <th>C</th>\n",
              "      <th>D</th>\n",
              "    </tr>\n",
              "  </thead>\n",
              "  <tbody>\n",
              "    <tr>\n",
              "      <th>2013-01-01</th>\n",
              "      <td>0.000000</td>\n",
              "      <td>0.000000</td>\n",
              "      <td>-0.274461</td>\n",
              "      <td>5</td>\n",
              "    </tr>\n",
              "    <tr>\n",
              "      <th>2013-01-02</th>\n",
              "      <td>0.235510</td>\n",
              "      <td>0.401766</td>\n",
              "      <td>0.818521</td>\n",
              "      <td>5</td>\n",
              "    </tr>\n",
              "    <tr>\n",
              "      <th>2013-01-03</th>\n",
              "      <td>1.501344</td>\n",
              "      <td>0.294097</td>\n",
              "      <td>0.237260</td>\n",
              "      <td>5</td>\n",
              "    </tr>\n",
              "    <tr>\n",
              "      <th>2013-01-04</th>\n",
              "      <td>0.765792</td>\n",
              "      <td>-2.578609</td>\n",
              "      <td>1.013808</td>\n",
              "      <td>5</td>\n",
              "    </tr>\n",
              "    <tr>\n",
              "      <th>2013-01-05</th>\n",
              "      <td>0.830345</td>\n",
              "      <td>-0.620411</td>\n",
              "      <td>0.733071</td>\n",
              "      <td>5</td>\n",
              "    </tr>\n",
              "    <tr>\n",
              "      <th>2013-01-06</th>\n",
              "      <td>-1.653750</td>\n",
              "      <td>0.721921</td>\n",
              "      <td>-0.124729</td>\n",
              "      <td>5</td>\n",
              "    </tr>\n",
              "  </tbody>\n",
              "</table>\n",
              "</div>"
            ],
            "text/plain": [
              "                   A         B         C  D\n",
              "2013-01-01  0.000000  0.000000 -0.274461  5\n",
              "2013-01-02  0.235510  0.401766  0.818521  5\n",
              "2013-01-03  1.501344  0.294097  0.237260  5\n",
              "2013-01-04  0.765792 -2.578609  1.013808  5\n",
              "2013-01-05  0.830345 -0.620411  0.733071  5\n",
              "2013-01-06 -1.653750  0.721921 -0.124729  5"
            ]
          },
          "metadata": {
            "tags": []
          },
          "execution_count": 50
        }
      ]
    },
    {
      "cell_type": "code",
      "metadata": {
        "id": "C8L0cGhryCVH",
        "colab_type": "code",
        "colab": {
          "base_uri": "https://localhost:8080/",
          "height": 227
        },
        "outputId": "ab01e020-f6d5-4f66-d458-64f150337765"
      },
      "source": [
        "df2 = df.copy()\n",
        "df2[df2 > 0] = -df2\n",
        "df2"
      ],
      "execution_count": 53,
      "outputs": [
        {
          "output_type": "execute_result",
          "data": {
            "text/html": [
              "<div>\n",
              "<style scoped>\n",
              "    .dataframe tbody tr th:only-of-type {\n",
              "        vertical-align: middle;\n",
              "    }\n",
              "\n",
              "    .dataframe tbody tr th {\n",
              "        vertical-align: top;\n",
              "    }\n",
              "\n",
              "    .dataframe thead th {\n",
              "        text-align: right;\n",
              "    }\n",
              "</style>\n",
              "<table border=\"1\" class=\"dataframe\">\n",
              "  <thead>\n",
              "    <tr style=\"text-align: right;\">\n",
              "      <th></th>\n",
              "      <th>A</th>\n",
              "      <th>B</th>\n",
              "      <th>C</th>\n",
              "      <th>D</th>\n",
              "    </tr>\n",
              "  </thead>\n",
              "  <tbody>\n",
              "    <tr>\n",
              "      <th>2013-01-01</th>\n",
              "      <td>0.000000</td>\n",
              "      <td>0.000000</td>\n",
              "      <td>-0.274461</td>\n",
              "      <td>-5</td>\n",
              "    </tr>\n",
              "    <tr>\n",
              "      <th>2013-01-02</th>\n",
              "      <td>-0.235510</td>\n",
              "      <td>-0.401766</td>\n",
              "      <td>-0.818521</td>\n",
              "      <td>-5</td>\n",
              "    </tr>\n",
              "    <tr>\n",
              "      <th>2013-01-03</th>\n",
              "      <td>-1.501344</td>\n",
              "      <td>-0.294097</td>\n",
              "      <td>-0.237260</td>\n",
              "      <td>-5</td>\n",
              "    </tr>\n",
              "    <tr>\n",
              "      <th>2013-01-04</th>\n",
              "      <td>-0.765792</td>\n",
              "      <td>-2.578609</td>\n",
              "      <td>-1.013808</td>\n",
              "      <td>-5</td>\n",
              "    </tr>\n",
              "    <tr>\n",
              "      <th>2013-01-05</th>\n",
              "      <td>-0.830345</td>\n",
              "      <td>-0.620411</td>\n",
              "      <td>-0.733071</td>\n",
              "      <td>-5</td>\n",
              "    </tr>\n",
              "    <tr>\n",
              "      <th>2013-01-06</th>\n",
              "      <td>-1.653750</td>\n",
              "      <td>-0.721921</td>\n",
              "      <td>-0.124729</td>\n",
              "      <td>-5</td>\n",
              "    </tr>\n",
              "  </tbody>\n",
              "</table>\n",
              "</div>"
            ],
            "text/plain": [
              "                   A         B         C  D\n",
              "2013-01-01  0.000000  0.000000 -0.274461 -5\n",
              "2013-01-02 -0.235510 -0.401766 -0.818521 -5\n",
              "2013-01-03 -1.501344 -0.294097 -0.237260 -5\n",
              "2013-01-04 -0.765792 -2.578609 -1.013808 -5\n",
              "2013-01-05 -0.830345 -0.620411 -0.733071 -5\n",
              "2013-01-06 -1.653750 -0.721921 -0.124729 -5"
            ]
          },
          "metadata": {
            "tags": []
          },
          "execution_count": 53
        }
      ]
    },
    {
      "cell_type": "markdown",
      "metadata": {
        "id": "Tdszet0fyP-m",
        "colab_type": "text"
      },
      "source": [
        "## Missing data"
      ]
    },
    {
      "cell_type": "code",
      "metadata": {
        "id": "cJFeLnjo9YIY",
        "colab_type": "code",
        "colab": {}
      },
      "source": [
        "df1 = df.reindex(index=dates[0:4], columns=list(df.columns) + ['E'])"
      ],
      "execution_count": 0,
      "outputs": []
    },
    {
      "cell_type": "markdown",
      "metadata": {
        "id": "NWbbTeEK9xRv",
        "colab_type": "text"
      },
      "source": [
        "Reindexing memungkinkan Anda untuk mengubah / menambah / menghapus indeks pada sumbu yang ditentukan. Ini mengembalikan salinan data."
      ]
    },
    {
      "cell_type": "code",
      "metadata": {
        "id": "GdGBX4AQ92f7",
        "colab_type": "code",
        "colab": {}
      },
      "source": [
        "df1.loc[dates[0]:dates[1], 'E'] = 1"
      ],
      "execution_count": 0,
      "outputs": []
    },
    {
      "cell_type": "code",
      "metadata": {
        "id": "S5hSSqrV99xR",
        "colab_type": "code",
        "colab": {
          "base_uri": "https://localhost:8080/",
          "height": 167
        },
        "outputId": "ee2a4013-f1ab-4e50-ae82-c9dccd0d27a3"
      },
      "source": [
        "df1"
      ],
      "execution_count": 56,
      "outputs": [
        {
          "output_type": "execute_result",
          "data": {
            "text/html": [
              "<div>\n",
              "<style scoped>\n",
              "    .dataframe tbody tr th:only-of-type {\n",
              "        vertical-align: middle;\n",
              "    }\n",
              "\n",
              "    .dataframe tbody tr th {\n",
              "        vertical-align: top;\n",
              "    }\n",
              "\n",
              "    .dataframe thead th {\n",
              "        text-align: right;\n",
              "    }\n",
              "</style>\n",
              "<table border=\"1\" class=\"dataframe\">\n",
              "  <thead>\n",
              "    <tr style=\"text-align: right;\">\n",
              "      <th></th>\n",
              "      <th>A</th>\n",
              "      <th>B</th>\n",
              "      <th>C</th>\n",
              "      <th>D</th>\n",
              "      <th>E</th>\n",
              "    </tr>\n",
              "  </thead>\n",
              "  <tbody>\n",
              "    <tr>\n",
              "      <th>2013-01-01</th>\n",
              "      <td>0.000000</td>\n",
              "      <td>0.000000</td>\n",
              "      <td>-0.274461</td>\n",
              "      <td>5</td>\n",
              "      <td>1.0</td>\n",
              "    </tr>\n",
              "    <tr>\n",
              "      <th>2013-01-02</th>\n",
              "      <td>0.235510</td>\n",
              "      <td>0.401766</td>\n",
              "      <td>0.818521</td>\n",
              "      <td>5</td>\n",
              "      <td>1.0</td>\n",
              "    </tr>\n",
              "    <tr>\n",
              "      <th>2013-01-03</th>\n",
              "      <td>1.501344</td>\n",
              "      <td>0.294097</td>\n",
              "      <td>0.237260</td>\n",
              "      <td>5</td>\n",
              "      <td>NaN</td>\n",
              "    </tr>\n",
              "    <tr>\n",
              "      <th>2013-01-04</th>\n",
              "      <td>0.765792</td>\n",
              "      <td>-2.578609</td>\n",
              "      <td>1.013808</td>\n",
              "      <td>5</td>\n",
              "      <td>NaN</td>\n",
              "    </tr>\n",
              "  </tbody>\n",
              "</table>\n",
              "</div>"
            ],
            "text/plain": [
              "                   A         B         C  D    E\n",
              "2013-01-01  0.000000  0.000000 -0.274461  5  1.0\n",
              "2013-01-02  0.235510  0.401766  0.818521  5  1.0\n",
              "2013-01-03  1.501344  0.294097  0.237260  5  NaN\n",
              "2013-01-04  0.765792 -2.578609  1.013808  5  NaN"
            ]
          },
          "metadata": {
            "tags": []
          },
          "execution_count": 56
        }
      ]
    },
    {
      "cell_type": "code",
      "metadata": {
        "id": "XL5jF_rQ-Bv8",
        "colab_type": "code",
        "colab": {
          "base_uri": "https://localhost:8080/",
          "height": 107
        },
        "outputId": "36c843b7-9bf9-480e-b180-045acb2ec429"
      },
      "source": [
        "# Menghapus setiap baris yang memiliki missing data.\n",
        "df1.dropna(how='any')"
      ],
      "execution_count": 57,
      "outputs": [
        {
          "output_type": "execute_result",
          "data": {
            "text/html": [
              "<div>\n",
              "<style scoped>\n",
              "    .dataframe tbody tr th:only-of-type {\n",
              "        vertical-align: middle;\n",
              "    }\n",
              "\n",
              "    .dataframe tbody tr th {\n",
              "        vertical-align: top;\n",
              "    }\n",
              "\n",
              "    .dataframe thead th {\n",
              "        text-align: right;\n",
              "    }\n",
              "</style>\n",
              "<table border=\"1\" class=\"dataframe\">\n",
              "  <thead>\n",
              "    <tr style=\"text-align: right;\">\n",
              "      <th></th>\n",
              "      <th>A</th>\n",
              "      <th>B</th>\n",
              "      <th>C</th>\n",
              "      <th>D</th>\n",
              "      <th>E</th>\n",
              "    </tr>\n",
              "  </thead>\n",
              "  <tbody>\n",
              "    <tr>\n",
              "      <th>2013-01-01</th>\n",
              "      <td>0.00000</td>\n",
              "      <td>0.000000</td>\n",
              "      <td>-0.274461</td>\n",
              "      <td>5</td>\n",
              "      <td>1.0</td>\n",
              "    </tr>\n",
              "    <tr>\n",
              "      <th>2013-01-02</th>\n",
              "      <td>0.23551</td>\n",
              "      <td>0.401766</td>\n",
              "      <td>0.818521</td>\n",
              "      <td>5</td>\n",
              "      <td>1.0</td>\n",
              "    </tr>\n",
              "  </tbody>\n",
              "</table>\n",
              "</div>"
            ],
            "text/plain": [
              "                  A         B         C  D    E\n",
              "2013-01-01  0.00000  0.000000 -0.274461  5  1.0\n",
              "2013-01-02  0.23551  0.401766  0.818521  5  1.0"
            ]
          },
          "metadata": {
            "tags": []
          },
          "execution_count": 57
        }
      ]
    },
    {
      "cell_type": "code",
      "metadata": {
        "id": "Y7JjwqH8-MB1",
        "colab_type": "code",
        "colab": {
          "base_uri": "https://localhost:8080/",
          "height": 167
        },
        "outputId": "2c9673fd-fc02-4a07-b235-38faff5444a4"
      },
      "source": [
        "# Mengisi data yang hilang.\n",
        "df1.fillna(value=5)"
      ],
      "execution_count": 58,
      "outputs": [
        {
          "output_type": "execute_result",
          "data": {
            "text/html": [
              "<div>\n",
              "<style scoped>\n",
              "    .dataframe tbody tr th:only-of-type {\n",
              "        vertical-align: middle;\n",
              "    }\n",
              "\n",
              "    .dataframe tbody tr th {\n",
              "        vertical-align: top;\n",
              "    }\n",
              "\n",
              "    .dataframe thead th {\n",
              "        text-align: right;\n",
              "    }\n",
              "</style>\n",
              "<table border=\"1\" class=\"dataframe\">\n",
              "  <thead>\n",
              "    <tr style=\"text-align: right;\">\n",
              "      <th></th>\n",
              "      <th>A</th>\n",
              "      <th>B</th>\n",
              "      <th>C</th>\n",
              "      <th>D</th>\n",
              "      <th>E</th>\n",
              "    </tr>\n",
              "  </thead>\n",
              "  <tbody>\n",
              "    <tr>\n",
              "      <th>2013-01-01</th>\n",
              "      <td>0.000000</td>\n",
              "      <td>0.000000</td>\n",
              "      <td>-0.274461</td>\n",
              "      <td>5</td>\n",
              "      <td>1.0</td>\n",
              "    </tr>\n",
              "    <tr>\n",
              "      <th>2013-01-02</th>\n",
              "      <td>0.235510</td>\n",
              "      <td>0.401766</td>\n",
              "      <td>0.818521</td>\n",
              "      <td>5</td>\n",
              "      <td>1.0</td>\n",
              "    </tr>\n",
              "    <tr>\n",
              "      <th>2013-01-03</th>\n",
              "      <td>1.501344</td>\n",
              "      <td>0.294097</td>\n",
              "      <td>0.237260</td>\n",
              "      <td>5</td>\n",
              "      <td>5.0</td>\n",
              "    </tr>\n",
              "    <tr>\n",
              "      <th>2013-01-04</th>\n",
              "      <td>0.765792</td>\n",
              "      <td>-2.578609</td>\n",
              "      <td>1.013808</td>\n",
              "      <td>5</td>\n",
              "      <td>5.0</td>\n",
              "    </tr>\n",
              "  </tbody>\n",
              "</table>\n",
              "</div>"
            ],
            "text/plain": [
              "                   A         B         C  D    E\n",
              "2013-01-01  0.000000  0.000000 -0.274461  5  1.0\n",
              "2013-01-02  0.235510  0.401766  0.818521  5  1.0\n",
              "2013-01-03  1.501344  0.294097  0.237260  5  5.0\n",
              "2013-01-04  0.765792 -2.578609  1.013808  5  5.0"
            ]
          },
          "metadata": {
            "tags": []
          },
          "execution_count": 58
        }
      ]
    },
    {
      "cell_type": "code",
      "metadata": {
        "id": "4VHp5C-j-Yv6",
        "colab_type": "code",
        "colab": {
          "base_uri": "https://localhost:8080/",
          "height": 167
        },
        "outputId": "d52b0ce8-4aa7-4f3e-cb11-c61afb80364d"
      },
      "source": [
        "# mendapatkan boolean mask dimana nilainya adalah nan\n",
        "pd.isna(df1)"
      ],
      "execution_count": 59,
      "outputs": [
        {
          "output_type": "execute_result",
          "data": {
            "text/html": [
              "<div>\n",
              "<style scoped>\n",
              "    .dataframe tbody tr th:only-of-type {\n",
              "        vertical-align: middle;\n",
              "    }\n",
              "\n",
              "    .dataframe tbody tr th {\n",
              "        vertical-align: top;\n",
              "    }\n",
              "\n",
              "    .dataframe thead th {\n",
              "        text-align: right;\n",
              "    }\n",
              "</style>\n",
              "<table border=\"1\" class=\"dataframe\">\n",
              "  <thead>\n",
              "    <tr style=\"text-align: right;\">\n",
              "      <th></th>\n",
              "      <th>A</th>\n",
              "      <th>B</th>\n",
              "      <th>C</th>\n",
              "      <th>D</th>\n",
              "      <th>E</th>\n",
              "    </tr>\n",
              "  </thead>\n",
              "  <tbody>\n",
              "    <tr>\n",
              "      <th>2013-01-01</th>\n",
              "      <td>False</td>\n",
              "      <td>False</td>\n",
              "      <td>False</td>\n",
              "      <td>False</td>\n",
              "      <td>False</td>\n",
              "    </tr>\n",
              "    <tr>\n",
              "      <th>2013-01-02</th>\n",
              "      <td>False</td>\n",
              "      <td>False</td>\n",
              "      <td>False</td>\n",
              "      <td>False</td>\n",
              "      <td>False</td>\n",
              "    </tr>\n",
              "    <tr>\n",
              "      <th>2013-01-03</th>\n",
              "      <td>False</td>\n",
              "      <td>False</td>\n",
              "      <td>False</td>\n",
              "      <td>False</td>\n",
              "      <td>True</td>\n",
              "    </tr>\n",
              "    <tr>\n",
              "      <th>2013-01-04</th>\n",
              "      <td>False</td>\n",
              "      <td>False</td>\n",
              "      <td>False</td>\n",
              "      <td>False</td>\n",
              "      <td>True</td>\n",
              "    </tr>\n",
              "  </tbody>\n",
              "</table>\n",
              "</div>"
            ],
            "text/plain": [
              "                A      B      C      D      E\n",
              "2013-01-01  False  False  False  False  False\n",
              "2013-01-02  False  False  False  False  False\n",
              "2013-01-03  False  False  False  False   True\n",
              "2013-01-04  False  False  False  False   True"
            ]
          },
          "metadata": {
            "tags": []
          },
          "execution_count": 59
        }
      ]
    },
    {
      "cell_type": "markdown",
      "metadata": {
        "id": "ytEZolyW-sn7",
        "colab_type": "text"
      },
      "source": [
        "## Operations"
      ]
    },
    {
      "cell_type": "markdown",
      "metadata": {
        "id": "sRGv6aow-vxp",
        "colab_type": "text"
      },
      "source": [
        "### Stats"
      ]
    },
    {
      "cell_type": "code",
      "metadata": {
        "id": "TKIrPHLt-1fv",
        "colab_type": "code",
        "colab": {
          "base_uri": "https://localhost:8080/",
          "height": 105
        },
        "outputId": "68ecb7e5-9509-44b5-96a6-24f0dab5f386"
      },
      "source": [
        "# Melakukan statistik deskriptif\n",
        "# Mencari rata-rata\n",
        "df.mean()"
      ],
      "execution_count": 60,
      "outputs": [
        {
          "output_type": "execute_result",
          "data": {
            "text/plain": [
              "A    0.279873\n",
              "B   -0.296872\n",
              "C    0.400578\n",
              "D    5.000000\n",
              "dtype: float64"
            ]
          },
          "metadata": {
            "tags": []
          },
          "execution_count": 60
        }
      ]
    },
    {
      "cell_type": "code",
      "metadata": {
        "id": "FbfHf1OkA2xy",
        "colab_type": "code",
        "colab": {
          "base_uri": "https://localhost:8080/",
          "height": 141
        },
        "outputId": "5abcca74-4b8c-4b53-eb83-2ea0b2c6f052"
      },
      "source": [
        "# Operasi yang sama pada sumbu lainnya\n",
        "df.mean(1)"
      ],
      "execution_count": 61,
      "outputs": [
        {
          "output_type": "execute_result",
          "data": {
            "text/plain": [
              "2013-01-01    1.181385\n",
              "2013-01-02    1.613949\n",
              "2013-01-03    1.758175\n",
              "2013-01-04    1.050248\n",
              "2013-01-05    1.485751\n",
              "2013-01-06    0.985861\n",
              "Freq: D, dtype: float64"
            ]
          },
          "metadata": {
            "tags": []
          },
          "execution_count": 61
        }
      ]
    },
    {
      "cell_type": "code",
      "metadata": {
        "id": "KuhT4sFIA-kw",
        "colab_type": "code",
        "colab": {
          "base_uri": "https://localhost:8080/",
          "height": 141
        },
        "outputId": "716d683f-09d4-4ed2-81f3-23daa659cd52"
      },
      "source": [
        "s = pd.Series([1, 3, 5, np.nan, 6, 8], index=dates).shift(2)\n",
        "s"
      ],
      "execution_count": 62,
      "outputs": [
        {
          "output_type": "execute_result",
          "data": {
            "text/plain": [
              "2013-01-01    NaN\n",
              "2013-01-02    NaN\n",
              "2013-01-03    1.0\n",
              "2013-01-04    3.0\n",
              "2013-01-05    5.0\n",
              "2013-01-06    NaN\n",
              "Freq: D, dtype: float64"
            ]
          },
          "metadata": {
            "tags": []
          },
          "execution_count": 62
        }
      ]
    },
    {
      "cell_type": "code",
      "metadata": {
        "id": "UKAZ3NjnBKBc",
        "colab_type": "code",
        "colab": {
          "base_uri": "https://localhost:8080/",
          "height": 227
        },
        "outputId": "bb054ab6-12a5-4f84-eab8-a8c3c61ff7f9"
      },
      "source": [
        "df.sub(s, axis='index')"
      ],
      "execution_count": 63,
      "outputs": [
        {
          "output_type": "execute_result",
          "data": {
            "text/html": [
              "<div>\n",
              "<style scoped>\n",
              "    .dataframe tbody tr th:only-of-type {\n",
              "        vertical-align: middle;\n",
              "    }\n",
              "\n",
              "    .dataframe tbody tr th {\n",
              "        vertical-align: top;\n",
              "    }\n",
              "\n",
              "    .dataframe thead th {\n",
              "        text-align: right;\n",
              "    }\n",
              "</style>\n",
              "<table border=\"1\" class=\"dataframe\">\n",
              "  <thead>\n",
              "    <tr style=\"text-align: right;\">\n",
              "      <th></th>\n",
              "      <th>A</th>\n",
              "      <th>B</th>\n",
              "      <th>C</th>\n",
              "      <th>D</th>\n",
              "    </tr>\n",
              "  </thead>\n",
              "  <tbody>\n",
              "    <tr>\n",
              "      <th>2013-01-01</th>\n",
              "      <td>NaN</td>\n",
              "      <td>NaN</td>\n",
              "      <td>NaN</td>\n",
              "      <td>NaN</td>\n",
              "    </tr>\n",
              "    <tr>\n",
              "      <th>2013-01-02</th>\n",
              "      <td>NaN</td>\n",
              "      <td>NaN</td>\n",
              "      <td>NaN</td>\n",
              "      <td>NaN</td>\n",
              "    </tr>\n",
              "    <tr>\n",
              "      <th>2013-01-03</th>\n",
              "      <td>0.501344</td>\n",
              "      <td>-0.705903</td>\n",
              "      <td>-0.762740</td>\n",
              "      <td>4.0</td>\n",
              "    </tr>\n",
              "    <tr>\n",
              "      <th>2013-01-04</th>\n",
              "      <td>-2.234208</td>\n",
              "      <td>-5.578609</td>\n",
              "      <td>-1.986192</td>\n",
              "      <td>2.0</td>\n",
              "    </tr>\n",
              "    <tr>\n",
              "      <th>2013-01-05</th>\n",
              "      <td>-4.169655</td>\n",
              "      <td>-5.620411</td>\n",
              "      <td>-4.266929</td>\n",
              "      <td>0.0</td>\n",
              "    </tr>\n",
              "    <tr>\n",
              "      <th>2013-01-06</th>\n",
              "      <td>NaN</td>\n",
              "      <td>NaN</td>\n",
              "      <td>NaN</td>\n",
              "      <td>NaN</td>\n",
              "    </tr>\n",
              "  </tbody>\n",
              "</table>\n",
              "</div>"
            ],
            "text/plain": [
              "                   A         B         C    D\n",
              "2013-01-01       NaN       NaN       NaN  NaN\n",
              "2013-01-02       NaN       NaN       NaN  NaN\n",
              "2013-01-03  0.501344 -0.705903 -0.762740  4.0\n",
              "2013-01-04 -2.234208 -5.578609 -1.986192  2.0\n",
              "2013-01-05 -4.169655 -5.620411 -4.266929  0.0\n",
              "2013-01-06       NaN       NaN       NaN  NaN"
            ]
          },
          "metadata": {
            "tags": []
          },
          "execution_count": 63
        }
      ]
    },
    {
      "cell_type": "markdown",
      "metadata": {
        "id": "LFZ3cGNHBqVU",
        "colab_type": "text"
      },
      "source": [
        "### Apply "
      ]
    },
    {
      "cell_type": "code",
      "metadata": {
        "id": "ylxeOQxtB0XF",
        "colab_type": "code",
        "colab": {
          "base_uri": "https://localhost:8080/",
          "height": 227
        },
        "outputId": "0a5373f2-b2ec-4a3c-afd0-e610349e5448"
      },
      "source": [
        "df.apply(np.cumsum)"
      ],
      "execution_count": 64,
      "outputs": [
        {
          "output_type": "execute_result",
          "data": {
            "text/html": [
              "<div>\n",
              "<style scoped>\n",
              "    .dataframe tbody tr th:only-of-type {\n",
              "        vertical-align: middle;\n",
              "    }\n",
              "\n",
              "    .dataframe tbody tr th {\n",
              "        vertical-align: top;\n",
              "    }\n",
              "\n",
              "    .dataframe thead th {\n",
              "        text-align: right;\n",
              "    }\n",
              "</style>\n",
              "<table border=\"1\" class=\"dataframe\">\n",
              "  <thead>\n",
              "    <tr style=\"text-align: right;\">\n",
              "      <th></th>\n",
              "      <th>A</th>\n",
              "      <th>B</th>\n",
              "      <th>C</th>\n",
              "      <th>D</th>\n",
              "    </tr>\n",
              "  </thead>\n",
              "  <tbody>\n",
              "    <tr>\n",
              "      <th>2013-01-01</th>\n",
              "      <td>0.000000</td>\n",
              "      <td>0.000000</td>\n",
              "      <td>-0.274461</td>\n",
              "      <td>5</td>\n",
              "    </tr>\n",
              "    <tr>\n",
              "      <th>2013-01-02</th>\n",
              "      <td>0.235510</td>\n",
              "      <td>0.401766</td>\n",
              "      <td>0.544060</td>\n",
              "      <td>10</td>\n",
              "    </tr>\n",
              "    <tr>\n",
              "      <th>2013-01-03</th>\n",
              "      <td>1.736854</td>\n",
              "      <td>0.695863</td>\n",
              "      <td>0.781320</td>\n",
              "      <td>15</td>\n",
              "    </tr>\n",
              "    <tr>\n",
              "      <th>2013-01-04</th>\n",
              "      <td>2.502646</td>\n",
              "      <td>-1.882745</td>\n",
              "      <td>1.795128</td>\n",
              "      <td>20</td>\n",
              "    </tr>\n",
              "    <tr>\n",
              "      <th>2013-01-05</th>\n",
              "      <td>3.332990</td>\n",
              "      <td>-2.503156</td>\n",
              "      <td>2.528199</td>\n",
              "      <td>25</td>\n",
              "    </tr>\n",
              "    <tr>\n",
              "      <th>2013-01-06</th>\n",
              "      <td>1.679240</td>\n",
              "      <td>-1.781235</td>\n",
              "      <td>2.403470</td>\n",
              "      <td>30</td>\n",
              "    </tr>\n",
              "  </tbody>\n",
              "</table>\n",
              "</div>"
            ],
            "text/plain": [
              "                   A         B         C   D\n",
              "2013-01-01  0.000000  0.000000 -0.274461   5\n",
              "2013-01-02  0.235510  0.401766  0.544060  10\n",
              "2013-01-03  1.736854  0.695863  0.781320  15\n",
              "2013-01-04  2.502646 -1.882745  1.795128  20\n",
              "2013-01-05  3.332990 -2.503156  2.528199  25\n",
              "2013-01-06  1.679240 -1.781235  2.403470  30"
            ]
          },
          "metadata": {
            "tags": []
          },
          "execution_count": 64
        }
      ]
    },
    {
      "cell_type": "code",
      "metadata": {
        "id": "wi0wV7VxB73h",
        "colab_type": "code",
        "colab": {
          "base_uri": "https://localhost:8080/",
          "height": 105
        },
        "outputId": "e3dcb35e-d2c0-4667-d192-62638d2b70db"
      },
      "source": [
        "df.apply(lambda x: x.max() - x.min())"
      ],
      "execution_count": 65,
      "outputs": [
        {
          "output_type": "execute_result",
          "data": {
            "text/plain": [
              "A    3.155094\n",
              "B    3.300530\n",
              "C    1.288269\n",
              "D    0.000000\n",
              "dtype: float64"
            ]
          },
          "metadata": {
            "tags": []
          },
          "execution_count": 65
        }
      ]
    },
    {
      "cell_type": "markdown",
      "metadata": {
        "id": "WWFIEpJrC2y1",
        "colab_type": "text"
      },
      "source": [
        "### Histogramming"
      ]
    },
    {
      "cell_type": "code",
      "metadata": {
        "id": "zHR-II2xC1zI",
        "colab_type": "code",
        "colab": {
          "base_uri": "https://localhost:8080/",
          "height": 212
        },
        "outputId": "941baedf-6012-47cf-be64-2245a8e0400f"
      },
      "source": [
        "s = pd.Series(np.random.randint(0, 7, size=10))\n",
        "s"
      ],
      "execution_count": 67,
      "outputs": [
        {
          "output_type": "execute_result",
          "data": {
            "text/plain": [
              "0    5\n",
              "1    0\n",
              "2    0\n",
              "3    5\n",
              "4    2\n",
              "5    3\n",
              "6    2\n",
              "7    4\n",
              "8    5\n",
              "9    6\n",
              "dtype: int64"
            ]
          },
          "metadata": {
            "tags": []
          },
          "execution_count": 67
        }
      ]
    },
    {
      "cell_type": "code",
      "metadata": {
        "id": "EE-dh8zYDJWd",
        "colab_type": "code",
        "colab": {
          "base_uri": "https://localhost:8080/",
          "height": 141
        },
        "outputId": "18a99404-462f-4fff-f9f2-ac8cbf39b487"
      },
      "source": [
        "s.value_counts()"
      ],
      "execution_count": 68,
      "outputs": [
        {
          "output_type": "execute_result",
          "data": {
            "text/plain": [
              "5    3\n",
              "2    2\n",
              "0    2\n",
              "6    1\n",
              "4    1\n",
              "3    1\n",
              "dtype: int64"
            ]
          },
          "metadata": {
            "tags": []
          },
          "execution_count": 68
        }
      ]
    },
    {
      "cell_type": "markdown",
      "metadata": {
        "id": "OJ0dprbsDT6h",
        "colab_type": "text"
      },
      "source": [
        "### String Methods"
      ]
    },
    {
      "cell_type": "code",
      "metadata": {
        "id": "ChATayOjDyRu",
        "colab_type": "code",
        "colab": {
          "base_uri": "https://localhost:8080/",
          "height": 194
        },
        "outputId": "4c0ef081-a97e-4141-f7c6-b728730513a3"
      },
      "source": [
        "s = pd.Series(['A', 'B', 'C', 'Aaba', 'Baca', np.nan, 'CABA', 'dog', 'cat'])\n",
        "s.str.lower()\n"
      ],
      "execution_count": 69,
      "outputs": [
        {
          "output_type": "execute_result",
          "data": {
            "text/plain": [
              "0       a\n",
              "1       b\n",
              "2       c\n",
              "3    aaba\n",
              "4    baca\n",
              "5     NaN\n",
              "6    caba\n",
              "7     dog\n",
              "8     cat\n",
              "dtype: object"
            ]
          },
          "metadata": {
            "tags": []
          },
          "execution_count": 69
        }
      ]
    },
    {
      "cell_type": "markdown",
      "metadata": {
        "id": "nhCFJOauD86p",
        "colab_type": "text"
      },
      "source": [
        "## Merge"
      ]
    },
    {
      "cell_type": "markdown",
      "metadata": {
        "id": "gzpf6LplEAc-",
        "colab_type": "text"
      },
      "source": [
        "### Concat"
      ]
    },
    {
      "cell_type": "code",
      "metadata": {
        "id": "wgE296UeD7kq",
        "colab_type": "code",
        "colab": {
          "base_uri": "https://localhost:8080/",
          "height": 347
        },
        "outputId": "e9fdd140-8ab7-477d-c57a-63af648bb25f"
      },
      "source": [
        "df = pd.DataFrame(np.random.randn(10, 4))\n",
        "df"
      ],
      "execution_count": 70,
      "outputs": [
        {
          "output_type": "execute_result",
          "data": {
            "text/html": [
              "<div>\n",
              "<style scoped>\n",
              "    .dataframe tbody tr th:only-of-type {\n",
              "        vertical-align: middle;\n",
              "    }\n",
              "\n",
              "    .dataframe tbody tr th {\n",
              "        vertical-align: top;\n",
              "    }\n",
              "\n",
              "    .dataframe thead th {\n",
              "        text-align: right;\n",
              "    }\n",
              "</style>\n",
              "<table border=\"1\" class=\"dataframe\">\n",
              "  <thead>\n",
              "    <tr style=\"text-align: right;\">\n",
              "      <th></th>\n",
              "      <th>0</th>\n",
              "      <th>1</th>\n",
              "      <th>2</th>\n",
              "      <th>3</th>\n",
              "    </tr>\n",
              "  </thead>\n",
              "  <tbody>\n",
              "    <tr>\n",
              "      <th>0</th>\n",
              "      <td>-0.923973</td>\n",
              "      <td>-0.628762</td>\n",
              "      <td>0.891693</td>\n",
              "      <td>-0.941628</td>\n",
              "    </tr>\n",
              "    <tr>\n",
              "      <th>1</th>\n",
              "      <td>-0.294133</td>\n",
              "      <td>1.551636</td>\n",
              "      <td>0.086658</td>\n",
              "      <td>-1.238405</td>\n",
              "    </tr>\n",
              "    <tr>\n",
              "      <th>2</th>\n",
              "      <td>0.846753</td>\n",
              "      <td>1.267447</td>\n",
              "      <td>2.311814</td>\n",
              "      <td>-0.003444</td>\n",
              "    </tr>\n",
              "    <tr>\n",
              "      <th>3</th>\n",
              "      <td>1.649559</td>\n",
              "      <td>0.292192</td>\n",
              "      <td>0.102523</td>\n",
              "      <td>2.159931</td>\n",
              "    </tr>\n",
              "    <tr>\n",
              "      <th>4</th>\n",
              "      <td>-0.396032</td>\n",
              "      <td>-0.192657</td>\n",
              "      <td>-1.171288</td>\n",
              "      <td>0.754992</td>\n",
              "    </tr>\n",
              "    <tr>\n",
              "      <th>5</th>\n",
              "      <td>0.841491</td>\n",
              "      <td>1.352758</td>\n",
              "      <td>0.056358</td>\n",
              "      <td>-0.805630</td>\n",
              "    </tr>\n",
              "    <tr>\n",
              "      <th>6</th>\n",
              "      <td>-0.492370</td>\n",
              "      <td>0.530583</td>\n",
              "      <td>0.530432</td>\n",
              "      <td>1.081063</td>\n",
              "    </tr>\n",
              "    <tr>\n",
              "      <th>7</th>\n",
              "      <td>-0.928744</td>\n",
              "      <td>0.217483</td>\n",
              "      <td>0.249795</td>\n",
              "      <td>-1.544486</td>\n",
              "    </tr>\n",
              "    <tr>\n",
              "      <th>8</th>\n",
              "      <td>1.385877</td>\n",
              "      <td>-2.131523</td>\n",
              "      <td>-0.408932</td>\n",
              "      <td>-1.004390</td>\n",
              "    </tr>\n",
              "    <tr>\n",
              "      <th>9</th>\n",
              "      <td>0.263751</td>\n",
              "      <td>0.250620</td>\n",
              "      <td>-0.573193</td>\n",
              "      <td>-0.817116</td>\n",
              "    </tr>\n",
              "  </tbody>\n",
              "</table>\n",
              "</div>"
            ],
            "text/plain": [
              "          0         1         2         3\n",
              "0 -0.923973 -0.628762  0.891693 -0.941628\n",
              "1 -0.294133  1.551636  0.086658 -1.238405\n",
              "2  0.846753  1.267447  2.311814 -0.003444\n",
              "3  1.649559  0.292192  0.102523  2.159931\n",
              "4 -0.396032 -0.192657 -1.171288  0.754992\n",
              "5  0.841491  1.352758  0.056358 -0.805630\n",
              "6 -0.492370  0.530583  0.530432  1.081063\n",
              "7 -0.928744  0.217483  0.249795 -1.544486\n",
              "8  1.385877 -2.131523 -0.408932 -1.004390\n",
              "9  0.263751  0.250620 -0.573193 -0.817116"
            ]
          },
          "metadata": {
            "tags": []
          },
          "execution_count": 70
        }
      ]
    },
    {
      "cell_type": "code",
      "metadata": {
        "id": "HPCwBpcIEMj5",
        "colab_type": "code",
        "colab": {}
      },
      "source": [
        "# memecahnya menjadi beberapa bagian\n",
        "pieces = [df[:3], df[3:7], df[7:]]"
      ],
      "execution_count": 0,
      "outputs": []
    },
    {
      "cell_type": "code",
      "metadata": {
        "id": "FPTXs9GkEcox",
        "colab_type": "code",
        "colab": {
          "base_uri": "https://localhost:8080/",
          "height": 347
        },
        "outputId": "3e353ebb-a8ef-4ca0-b641-e78f6858940a"
      },
      "source": [
        "pd.concat(pieces)"
      ],
      "execution_count": 72,
      "outputs": [
        {
          "output_type": "execute_result",
          "data": {
            "text/html": [
              "<div>\n",
              "<style scoped>\n",
              "    .dataframe tbody tr th:only-of-type {\n",
              "        vertical-align: middle;\n",
              "    }\n",
              "\n",
              "    .dataframe tbody tr th {\n",
              "        vertical-align: top;\n",
              "    }\n",
              "\n",
              "    .dataframe thead th {\n",
              "        text-align: right;\n",
              "    }\n",
              "</style>\n",
              "<table border=\"1\" class=\"dataframe\">\n",
              "  <thead>\n",
              "    <tr style=\"text-align: right;\">\n",
              "      <th></th>\n",
              "      <th>0</th>\n",
              "      <th>1</th>\n",
              "      <th>2</th>\n",
              "      <th>3</th>\n",
              "    </tr>\n",
              "  </thead>\n",
              "  <tbody>\n",
              "    <tr>\n",
              "      <th>0</th>\n",
              "      <td>-0.923973</td>\n",
              "      <td>-0.628762</td>\n",
              "      <td>0.891693</td>\n",
              "      <td>-0.941628</td>\n",
              "    </tr>\n",
              "    <tr>\n",
              "      <th>1</th>\n",
              "      <td>-0.294133</td>\n",
              "      <td>1.551636</td>\n",
              "      <td>0.086658</td>\n",
              "      <td>-1.238405</td>\n",
              "    </tr>\n",
              "    <tr>\n",
              "      <th>2</th>\n",
              "      <td>0.846753</td>\n",
              "      <td>1.267447</td>\n",
              "      <td>2.311814</td>\n",
              "      <td>-0.003444</td>\n",
              "    </tr>\n",
              "    <tr>\n",
              "      <th>3</th>\n",
              "      <td>1.649559</td>\n",
              "      <td>0.292192</td>\n",
              "      <td>0.102523</td>\n",
              "      <td>2.159931</td>\n",
              "    </tr>\n",
              "    <tr>\n",
              "      <th>4</th>\n",
              "      <td>-0.396032</td>\n",
              "      <td>-0.192657</td>\n",
              "      <td>-1.171288</td>\n",
              "      <td>0.754992</td>\n",
              "    </tr>\n",
              "    <tr>\n",
              "      <th>5</th>\n",
              "      <td>0.841491</td>\n",
              "      <td>1.352758</td>\n",
              "      <td>0.056358</td>\n",
              "      <td>-0.805630</td>\n",
              "    </tr>\n",
              "    <tr>\n",
              "      <th>6</th>\n",
              "      <td>-0.492370</td>\n",
              "      <td>0.530583</td>\n",
              "      <td>0.530432</td>\n",
              "      <td>1.081063</td>\n",
              "    </tr>\n",
              "    <tr>\n",
              "      <th>7</th>\n",
              "      <td>-0.928744</td>\n",
              "      <td>0.217483</td>\n",
              "      <td>0.249795</td>\n",
              "      <td>-1.544486</td>\n",
              "    </tr>\n",
              "    <tr>\n",
              "      <th>8</th>\n",
              "      <td>1.385877</td>\n",
              "      <td>-2.131523</td>\n",
              "      <td>-0.408932</td>\n",
              "      <td>-1.004390</td>\n",
              "    </tr>\n",
              "    <tr>\n",
              "      <th>9</th>\n",
              "      <td>0.263751</td>\n",
              "      <td>0.250620</td>\n",
              "      <td>-0.573193</td>\n",
              "      <td>-0.817116</td>\n",
              "    </tr>\n",
              "  </tbody>\n",
              "</table>\n",
              "</div>"
            ],
            "text/plain": [
              "          0         1         2         3\n",
              "0 -0.923973 -0.628762  0.891693 -0.941628\n",
              "1 -0.294133  1.551636  0.086658 -1.238405\n",
              "2  0.846753  1.267447  2.311814 -0.003444\n",
              "3  1.649559  0.292192  0.102523  2.159931\n",
              "4 -0.396032 -0.192657 -1.171288  0.754992\n",
              "5  0.841491  1.352758  0.056358 -0.805630\n",
              "6 -0.492370  0.530583  0.530432  1.081063\n",
              "7 -0.928744  0.217483  0.249795 -1.544486\n",
              "8  1.385877 -2.131523 -0.408932 -1.004390\n",
              "9  0.263751  0.250620 -0.573193 -0.817116"
            ]
          },
          "metadata": {
            "tags": []
          },
          "execution_count": 72
        }
      ]
    },
    {
      "cell_type": "markdown",
      "metadata": {
        "id": "VAdHBjIkEiFL",
        "colab_type": "text"
      },
      "source": [
        "### Join"
      ]
    },
    {
      "cell_type": "code",
      "metadata": {
        "id": "U8xrzd5YEhpv",
        "colab_type": "code",
        "colab": {}
      },
      "source": [
        "left = pd.DataFrame({'key': ['foo', 'foo'], 'lval': [1, 2]})"
      ],
      "execution_count": 0,
      "outputs": []
    },
    {
      "cell_type": "code",
      "metadata": {
        "id": "hGFxCNodEoMV",
        "colab_type": "code",
        "colab": {}
      },
      "source": [
        "right = pd.DataFrame({'key': ['foo', 'foo'], 'rval': [4, 5]})"
      ],
      "execution_count": 0,
      "outputs": []
    },
    {
      "cell_type": "code",
      "metadata": {
        "id": "O6YYwwvrErpi",
        "colab_type": "code",
        "colab": {
          "base_uri": "https://localhost:8080/",
          "height": 107
        },
        "outputId": "5f8eb511-14d0-4663-e96e-0406e2807028"
      },
      "source": [
        "left"
      ],
      "execution_count": 75,
      "outputs": [
        {
          "output_type": "execute_result",
          "data": {
            "text/html": [
              "<div>\n",
              "<style scoped>\n",
              "    .dataframe tbody tr th:only-of-type {\n",
              "        vertical-align: middle;\n",
              "    }\n",
              "\n",
              "    .dataframe tbody tr th {\n",
              "        vertical-align: top;\n",
              "    }\n",
              "\n",
              "    .dataframe thead th {\n",
              "        text-align: right;\n",
              "    }\n",
              "</style>\n",
              "<table border=\"1\" class=\"dataframe\">\n",
              "  <thead>\n",
              "    <tr style=\"text-align: right;\">\n",
              "      <th></th>\n",
              "      <th>key</th>\n",
              "      <th>lval</th>\n",
              "    </tr>\n",
              "  </thead>\n",
              "  <tbody>\n",
              "    <tr>\n",
              "      <th>0</th>\n",
              "      <td>foo</td>\n",
              "      <td>1</td>\n",
              "    </tr>\n",
              "    <tr>\n",
              "      <th>1</th>\n",
              "      <td>foo</td>\n",
              "      <td>2</td>\n",
              "    </tr>\n",
              "  </tbody>\n",
              "</table>\n",
              "</div>"
            ],
            "text/plain": [
              "   key  lval\n",
              "0  foo     1\n",
              "1  foo     2"
            ]
          },
          "metadata": {
            "tags": []
          },
          "execution_count": 75
        }
      ]
    },
    {
      "cell_type": "code",
      "metadata": {
        "id": "AITgfeN3EuOb",
        "colab_type": "code",
        "colab": {
          "base_uri": "https://localhost:8080/",
          "height": 107
        },
        "outputId": "1e9461cb-c07f-43de-8fdd-c30d90596a8b"
      },
      "source": [
        "right"
      ],
      "execution_count": 76,
      "outputs": [
        {
          "output_type": "execute_result",
          "data": {
            "text/html": [
              "<div>\n",
              "<style scoped>\n",
              "    .dataframe tbody tr th:only-of-type {\n",
              "        vertical-align: middle;\n",
              "    }\n",
              "\n",
              "    .dataframe tbody tr th {\n",
              "        vertical-align: top;\n",
              "    }\n",
              "\n",
              "    .dataframe thead th {\n",
              "        text-align: right;\n",
              "    }\n",
              "</style>\n",
              "<table border=\"1\" class=\"dataframe\">\n",
              "  <thead>\n",
              "    <tr style=\"text-align: right;\">\n",
              "      <th></th>\n",
              "      <th>key</th>\n",
              "      <th>rval</th>\n",
              "    </tr>\n",
              "  </thead>\n",
              "  <tbody>\n",
              "    <tr>\n",
              "      <th>0</th>\n",
              "      <td>foo</td>\n",
              "      <td>4</td>\n",
              "    </tr>\n",
              "    <tr>\n",
              "      <th>1</th>\n",
              "      <td>foo</td>\n",
              "      <td>5</td>\n",
              "    </tr>\n",
              "  </tbody>\n",
              "</table>\n",
              "</div>"
            ],
            "text/plain": [
              "   key  rval\n",
              "0  foo     4\n",
              "1  foo     5"
            ]
          },
          "metadata": {
            "tags": []
          },
          "execution_count": 76
        }
      ]
    },
    {
      "cell_type": "code",
      "metadata": {
        "id": "ZZDAG31cEw5m",
        "colab_type": "code",
        "colab": {
          "base_uri": "https://localhost:8080/",
          "height": 167
        },
        "outputId": "abaf7681-85bc-447f-825d-77238f031abc"
      },
      "source": [
        "pd.merge(left, right, on='key')"
      ],
      "execution_count": 77,
      "outputs": [
        {
          "output_type": "execute_result",
          "data": {
            "text/html": [
              "<div>\n",
              "<style scoped>\n",
              "    .dataframe tbody tr th:only-of-type {\n",
              "        vertical-align: middle;\n",
              "    }\n",
              "\n",
              "    .dataframe tbody tr th {\n",
              "        vertical-align: top;\n",
              "    }\n",
              "\n",
              "    .dataframe thead th {\n",
              "        text-align: right;\n",
              "    }\n",
              "</style>\n",
              "<table border=\"1\" class=\"dataframe\">\n",
              "  <thead>\n",
              "    <tr style=\"text-align: right;\">\n",
              "      <th></th>\n",
              "      <th>key</th>\n",
              "      <th>lval</th>\n",
              "      <th>rval</th>\n",
              "    </tr>\n",
              "  </thead>\n",
              "  <tbody>\n",
              "    <tr>\n",
              "      <th>0</th>\n",
              "      <td>foo</td>\n",
              "      <td>1</td>\n",
              "      <td>4</td>\n",
              "    </tr>\n",
              "    <tr>\n",
              "      <th>1</th>\n",
              "      <td>foo</td>\n",
              "      <td>1</td>\n",
              "      <td>5</td>\n",
              "    </tr>\n",
              "    <tr>\n",
              "      <th>2</th>\n",
              "      <td>foo</td>\n",
              "      <td>2</td>\n",
              "      <td>4</td>\n",
              "    </tr>\n",
              "    <tr>\n",
              "      <th>3</th>\n",
              "      <td>foo</td>\n",
              "      <td>2</td>\n",
              "      <td>5</td>\n",
              "    </tr>\n",
              "  </tbody>\n",
              "</table>\n",
              "</div>"
            ],
            "text/plain": [
              "   key  lval  rval\n",
              "0  foo     1     4\n",
              "1  foo     1     5\n",
              "2  foo     2     4\n",
              "3  foo     2     5"
            ]
          },
          "metadata": {
            "tags": []
          },
          "execution_count": 77
        }
      ]
    },
    {
      "cell_type": "code",
      "metadata": {
        "id": "DboYvSGhE_c9",
        "colab_type": "code",
        "colab": {}
      },
      "source": [
        "left = pd.DataFrame({'key': ['foo', 'bar'], 'lval': [1, 2]})"
      ],
      "execution_count": 0,
      "outputs": []
    },
    {
      "cell_type": "code",
      "metadata": {
        "id": "QKNnyPVZFBZZ",
        "colab_type": "code",
        "colab": {}
      },
      "source": [
        "right = pd.DataFrame({'key': ['foo', 'bar'], 'rval': [4, 5]})"
      ],
      "execution_count": 0,
      "outputs": []
    },
    {
      "cell_type": "code",
      "metadata": {
        "id": "bpQyxrQTFFeC",
        "colab_type": "code",
        "colab": {
          "base_uri": "https://localhost:8080/",
          "height": 107
        },
        "outputId": "d6223f17-b8ee-415d-c838-9c20263d51ff"
      },
      "source": [
        "left"
      ],
      "execution_count": 80,
      "outputs": [
        {
          "output_type": "execute_result",
          "data": {
            "text/html": [
              "<div>\n",
              "<style scoped>\n",
              "    .dataframe tbody tr th:only-of-type {\n",
              "        vertical-align: middle;\n",
              "    }\n",
              "\n",
              "    .dataframe tbody tr th {\n",
              "        vertical-align: top;\n",
              "    }\n",
              "\n",
              "    .dataframe thead th {\n",
              "        text-align: right;\n",
              "    }\n",
              "</style>\n",
              "<table border=\"1\" class=\"dataframe\">\n",
              "  <thead>\n",
              "    <tr style=\"text-align: right;\">\n",
              "      <th></th>\n",
              "      <th>key</th>\n",
              "      <th>lval</th>\n",
              "    </tr>\n",
              "  </thead>\n",
              "  <tbody>\n",
              "    <tr>\n",
              "      <th>0</th>\n",
              "      <td>foo</td>\n",
              "      <td>1</td>\n",
              "    </tr>\n",
              "    <tr>\n",
              "      <th>1</th>\n",
              "      <td>bar</td>\n",
              "      <td>2</td>\n",
              "    </tr>\n",
              "  </tbody>\n",
              "</table>\n",
              "</div>"
            ],
            "text/plain": [
              "   key  lval\n",
              "0  foo     1\n",
              "1  bar     2"
            ]
          },
          "metadata": {
            "tags": []
          },
          "execution_count": 80
        }
      ]
    },
    {
      "cell_type": "code",
      "metadata": {
        "id": "H5nOiVlqFHam",
        "colab_type": "code",
        "colab": {
          "base_uri": "https://localhost:8080/",
          "height": 107
        },
        "outputId": "d1843dbc-b6c5-4dc5-9d9e-81e6d3e324b0"
      },
      "source": [
        "right"
      ],
      "execution_count": 81,
      "outputs": [
        {
          "output_type": "execute_result",
          "data": {
            "text/html": [
              "<div>\n",
              "<style scoped>\n",
              "    .dataframe tbody tr th:only-of-type {\n",
              "        vertical-align: middle;\n",
              "    }\n",
              "\n",
              "    .dataframe tbody tr th {\n",
              "        vertical-align: top;\n",
              "    }\n",
              "\n",
              "    .dataframe thead th {\n",
              "        text-align: right;\n",
              "    }\n",
              "</style>\n",
              "<table border=\"1\" class=\"dataframe\">\n",
              "  <thead>\n",
              "    <tr style=\"text-align: right;\">\n",
              "      <th></th>\n",
              "      <th>key</th>\n",
              "      <th>rval</th>\n",
              "    </tr>\n",
              "  </thead>\n",
              "  <tbody>\n",
              "    <tr>\n",
              "      <th>0</th>\n",
              "      <td>foo</td>\n",
              "      <td>4</td>\n",
              "    </tr>\n",
              "    <tr>\n",
              "      <th>1</th>\n",
              "      <td>bar</td>\n",
              "      <td>5</td>\n",
              "    </tr>\n",
              "  </tbody>\n",
              "</table>\n",
              "</div>"
            ],
            "text/plain": [
              "   key  rval\n",
              "0  foo     4\n",
              "1  bar     5"
            ]
          },
          "metadata": {
            "tags": []
          },
          "execution_count": 81
        }
      ]
    },
    {
      "cell_type": "code",
      "metadata": {
        "id": "7tvYQFmpFIwv",
        "colab_type": "code",
        "colab": {
          "base_uri": "https://localhost:8080/",
          "height": 107
        },
        "outputId": "72fd6a9c-407b-4980-d30d-4fad1573145e"
      },
      "source": [
        "pd.merge(left, right, on='key')"
      ],
      "execution_count": 82,
      "outputs": [
        {
          "output_type": "execute_result",
          "data": {
            "text/html": [
              "<div>\n",
              "<style scoped>\n",
              "    .dataframe tbody tr th:only-of-type {\n",
              "        vertical-align: middle;\n",
              "    }\n",
              "\n",
              "    .dataframe tbody tr th {\n",
              "        vertical-align: top;\n",
              "    }\n",
              "\n",
              "    .dataframe thead th {\n",
              "        text-align: right;\n",
              "    }\n",
              "</style>\n",
              "<table border=\"1\" class=\"dataframe\">\n",
              "  <thead>\n",
              "    <tr style=\"text-align: right;\">\n",
              "      <th></th>\n",
              "      <th>key</th>\n",
              "      <th>lval</th>\n",
              "      <th>rval</th>\n",
              "    </tr>\n",
              "  </thead>\n",
              "  <tbody>\n",
              "    <tr>\n",
              "      <th>0</th>\n",
              "      <td>foo</td>\n",
              "      <td>1</td>\n",
              "      <td>4</td>\n",
              "    </tr>\n",
              "    <tr>\n",
              "      <th>1</th>\n",
              "      <td>bar</td>\n",
              "      <td>2</td>\n",
              "      <td>5</td>\n",
              "    </tr>\n",
              "  </tbody>\n",
              "</table>\n",
              "</div>"
            ],
            "text/plain": [
              "   key  lval  rval\n",
              "0  foo     1     4\n",
              "1  bar     2     5"
            ]
          },
          "metadata": {
            "tags": []
          },
          "execution_count": 82
        }
      ]
    },
    {
      "cell_type": "markdown",
      "metadata": {
        "id": "BWgalbnEFVDW",
        "colab_type": "text"
      },
      "source": [
        "## Grouping"
      ]
    },
    {
      "cell_type": "code",
      "metadata": {
        "id": "2gSbpbNfFTQL",
        "colab_type": "code",
        "colab": {}
      },
      "source": [
        "df = pd.DataFrame({'A': ['foo', 'bar', 'foo', 'bar',\n",
        "                         'foo', 'bar', 'foo', 'foo'],\n",
        "                   'B': ['one', 'one', 'two', 'three',\n",
        "                         'two', 'two', 'one', 'three'],\n",
        "                   'C': np.random.randn(8),\n",
        "                   'D': np.random.randn(8)})"
      ],
      "execution_count": 0,
      "outputs": []
    },
    {
      "cell_type": "code",
      "metadata": {
        "id": "b5Nq_CNqFuqa",
        "colab_type": "code",
        "colab": {
          "base_uri": "https://localhost:8080/",
          "height": 287
        },
        "outputId": "d1839c84-7d24-4c9b-9e53-3217b115c6fa"
      },
      "source": [
        "df"
      ],
      "execution_count": 84,
      "outputs": [
        {
          "output_type": "execute_result",
          "data": {
            "text/html": [
              "<div>\n",
              "<style scoped>\n",
              "    .dataframe tbody tr th:only-of-type {\n",
              "        vertical-align: middle;\n",
              "    }\n",
              "\n",
              "    .dataframe tbody tr th {\n",
              "        vertical-align: top;\n",
              "    }\n",
              "\n",
              "    .dataframe thead th {\n",
              "        text-align: right;\n",
              "    }\n",
              "</style>\n",
              "<table border=\"1\" class=\"dataframe\">\n",
              "  <thead>\n",
              "    <tr style=\"text-align: right;\">\n",
              "      <th></th>\n",
              "      <th>A</th>\n",
              "      <th>B</th>\n",
              "      <th>C</th>\n",
              "      <th>D</th>\n",
              "    </tr>\n",
              "  </thead>\n",
              "  <tbody>\n",
              "    <tr>\n",
              "      <th>0</th>\n",
              "      <td>foo</td>\n",
              "      <td>one</td>\n",
              "      <td>-2.349260</td>\n",
              "      <td>0.290365</td>\n",
              "    </tr>\n",
              "    <tr>\n",
              "      <th>1</th>\n",
              "      <td>bar</td>\n",
              "      <td>one</td>\n",
              "      <td>1.579231</td>\n",
              "      <td>0.177526</td>\n",
              "    </tr>\n",
              "    <tr>\n",
              "      <th>2</th>\n",
              "      <td>foo</td>\n",
              "      <td>two</td>\n",
              "      <td>-1.578909</td>\n",
              "      <td>-1.092601</td>\n",
              "    </tr>\n",
              "    <tr>\n",
              "      <th>3</th>\n",
              "      <td>bar</td>\n",
              "      <td>three</td>\n",
              "      <td>-0.905815</td>\n",
              "      <td>0.533011</td>\n",
              "    </tr>\n",
              "    <tr>\n",
              "      <th>4</th>\n",
              "      <td>foo</td>\n",
              "      <td>two</td>\n",
              "      <td>1.069150</td>\n",
              "      <td>0.233601</td>\n",
              "    </tr>\n",
              "    <tr>\n",
              "      <th>5</th>\n",
              "      <td>bar</td>\n",
              "      <td>two</td>\n",
              "      <td>0.899250</td>\n",
              "      <td>-1.400424</td>\n",
              "    </tr>\n",
              "    <tr>\n",
              "      <th>6</th>\n",
              "      <td>foo</td>\n",
              "      <td>one</td>\n",
              "      <td>0.166863</td>\n",
              "      <td>0.700227</td>\n",
              "    </tr>\n",
              "    <tr>\n",
              "      <th>7</th>\n",
              "      <td>foo</td>\n",
              "      <td>three</td>\n",
              "      <td>0.558290</td>\n",
              "      <td>-0.175339</td>\n",
              "    </tr>\n",
              "  </tbody>\n",
              "</table>\n",
              "</div>"
            ],
            "text/plain": [
              "     A      B         C         D\n",
              "0  foo    one -2.349260  0.290365\n",
              "1  bar    one  1.579231  0.177526\n",
              "2  foo    two -1.578909 -1.092601\n",
              "3  bar  three -0.905815  0.533011\n",
              "4  foo    two  1.069150  0.233601\n",
              "5  bar    two  0.899250 -1.400424\n",
              "6  foo    one  0.166863  0.700227\n",
              "7  foo  three  0.558290 -0.175339"
            ]
          },
          "metadata": {
            "tags": []
          },
          "execution_count": 84
        }
      ]
    },
    {
      "cell_type": "code",
      "metadata": {
        "id": "81vW-yOAF0ob",
        "colab_type": "code",
        "colab": {
          "base_uri": "https://localhost:8080/",
          "height": 137
        },
        "outputId": "0aa80afe-34c2-4223-973a-f8105a88dcb4"
      },
      "source": [
        "# Mengelompokkan dan kemudian menerapkan fungsi jumlah () ke grup yang dihasilkan.\n",
        "df.groupby('A').sum()"
      ],
      "execution_count": 85,
      "outputs": [
        {
          "output_type": "execute_result",
          "data": {
            "text/html": [
              "<div>\n",
              "<style scoped>\n",
              "    .dataframe tbody tr th:only-of-type {\n",
              "        vertical-align: middle;\n",
              "    }\n",
              "\n",
              "    .dataframe tbody tr th {\n",
              "        vertical-align: top;\n",
              "    }\n",
              "\n",
              "    .dataframe thead th {\n",
              "        text-align: right;\n",
              "    }\n",
              "</style>\n",
              "<table border=\"1\" class=\"dataframe\">\n",
              "  <thead>\n",
              "    <tr style=\"text-align: right;\">\n",
              "      <th></th>\n",
              "      <th>C</th>\n",
              "      <th>D</th>\n",
              "    </tr>\n",
              "    <tr>\n",
              "      <th>A</th>\n",
              "      <th></th>\n",
              "      <th></th>\n",
              "    </tr>\n",
              "  </thead>\n",
              "  <tbody>\n",
              "    <tr>\n",
              "      <th>bar</th>\n",
              "      <td>1.572666</td>\n",
              "      <td>-0.689888</td>\n",
              "    </tr>\n",
              "    <tr>\n",
              "      <th>foo</th>\n",
              "      <td>-2.133867</td>\n",
              "      <td>-0.043748</td>\n",
              "    </tr>\n",
              "  </tbody>\n",
              "</table>\n",
              "</div>"
            ],
            "text/plain": [
              "            C         D\n",
              "A                      \n",
              "bar  1.572666 -0.689888\n",
              "foo -2.133867 -0.043748"
            ]
          },
          "metadata": {
            "tags": []
          },
          "execution_count": 85
        }
      ]
    },
    {
      "cell_type": "code",
      "metadata": {
        "id": "ZvN13ZHnGCPl",
        "colab_type": "code",
        "colab": {
          "base_uri": "https://localhost:8080/",
          "height": 257
        },
        "outputId": "51b002f3-90e2-44e8-c947-5d25dd2a37dd"
      },
      "source": [
        "# Mengelompokkan berdasarkan beberapa kolom membentuk indeks hierarkis, dan menerapkan fungsi sum\n",
        "df.groupby(['A', 'B']).sum()"
      ],
      "execution_count": 86,
      "outputs": [
        {
          "output_type": "execute_result",
          "data": {
            "text/html": [
              "<div>\n",
              "<style scoped>\n",
              "    .dataframe tbody tr th:only-of-type {\n",
              "        vertical-align: middle;\n",
              "    }\n",
              "\n",
              "    .dataframe tbody tr th {\n",
              "        vertical-align: top;\n",
              "    }\n",
              "\n",
              "    .dataframe thead th {\n",
              "        text-align: right;\n",
              "    }\n",
              "</style>\n",
              "<table border=\"1\" class=\"dataframe\">\n",
              "  <thead>\n",
              "    <tr style=\"text-align: right;\">\n",
              "      <th></th>\n",
              "      <th></th>\n",
              "      <th>C</th>\n",
              "      <th>D</th>\n",
              "    </tr>\n",
              "    <tr>\n",
              "      <th>A</th>\n",
              "      <th>B</th>\n",
              "      <th></th>\n",
              "      <th></th>\n",
              "    </tr>\n",
              "  </thead>\n",
              "  <tbody>\n",
              "    <tr>\n",
              "      <th rowspan=\"3\" valign=\"top\">bar</th>\n",
              "      <th>one</th>\n",
              "      <td>1.579231</td>\n",
              "      <td>0.177526</td>\n",
              "    </tr>\n",
              "    <tr>\n",
              "      <th>three</th>\n",
              "      <td>-0.905815</td>\n",
              "      <td>0.533011</td>\n",
              "    </tr>\n",
              "    <tr>\n",
              "      <th>two</th>\n",
              "      <td>0.899250</td>\n",
              "      <td>-1.400424</td>\n",
              "    </tr>\n",
              "    <tr>\n",
              "      <th rowspan=\"3\" valign=\"top\">foo</th>\n",
              "      <th>one</th>\n",
              "      <td>-2.182397</td>\n",
              "      <td>0.990591</td>\n",
              "    </tr>\n",
              "    <tr>\n",
              "      <th>three</th>\n",
              "      <td>0.558290</td>\n",
              "      <td>-0.175339</td>\n",
              "    </tr>\n",
              "    <tr>\n",
              "      <th>two</th>\n",
              "      <td>-0.509759</td>\n",
              "      <td>-0.859000</td>\n",
              "    </tr>\n",
              "  </tbody>\n",
              "</table>\n",
              "</div>"
            ],
            "text/plain": [
              "                  C         D\n",
              "A   B                        \n",
              "bar one    1.579231  0.177526\n",
              "    three -0.905815  0.533011\n",
              "    two    0.899250 -1.400424\n",
              "foo one   -2.182397  0.990591\n",
              "    three  0.558290 -0.175339\n",
              "    two   -0.509759 -0.859000"
            ]
          },
          "metadata": {
            "tags": []
          },
          "execution_count": 86
        }
      ]
    },
    {
      "cell_type": "markdown",
      "metadata": {
        "id": "YbUPgwovHh75",
        "colab_type": "text"
      },
      "source": [
        "## Reshaping"
      ]
    },
    {
      "cell_type": "markdown",
      "metadata": {
        "id": "Ne4yrFJVHnrA",
        "colab_type": "text"
      },
      "source": [
        "### Stack"
      ]
    },
    {
      "cell_type": "code",
      "metadata": {
        "id": "p38kznCAHmge",
        "colab_type": "code",
        "colab": {}
      },
      "source": [
        "tuples = list(zip(*[['bar', 'bar', 'baz', 'baz',\n",
        "                    'foo', 'foo', 'qux', 'qux'],\n",
        "                    ['one', 'two', 'one', 'two',\n",
        "                     'one', 'two', 'one', 'two']])) "
      ],
      "execution_count": 0,
      "outputs": []
    },
    {
      "cell_type": "code",
      "metadata": {
        "id": "W9-CmRdXH7Yq",
        "colab_type": "code",
        "colab": {}
      },
      "source": [
        "index = pd.MultiIndex.from_tuples(tuples, names=['first', 'second'])"
      ],
      "execution_count": 0,
      "outputs": []
    },
    {
      "cell_type": "code",
      "metadata": {
        "id": "x0d0jjEfH808",
        "colab_type": "code",
        "colab": {}
      },
      "source": [
        "df = pd.DataFrame(np.random.randn(8, 2), index=index, columns=['A', 'B'])"
      ],
      "execution_count": 0,
      "outputs": []
    },
    {
      "cell_type": "code",
      "metadata": {
        "id": "jYivEFxFIEiA",
        "colab_type": "code",
        "colab": {}
      },
      "source": [
        "df2 = df[:4]"
      ],
      "execution_count": 0,
      "outputs": []
    },
    {
      "cell_type": "code",
      "metadata": {
        "id": "c2QGlsgwIGCZ",
        "colab_type": "code",
        "colab": {
          "base_uri": "https://localhost:8080/",
          "height": 197
        },
        "outputId": "a59fd390-dd9b-486c-baf9-b39a261424f7"
      },
      "source": [
        "df2"
      ],
      "execution_count": 91,
      "outputs": [
        {
          "output_type": "execute_result",
          "data": {
            "text/html": [
              "<div>\n",
              "<style scoped>\n",
              "    .dataframe tbody tr th:only-of-type {\n",
              "        vertical-align: middle;\n",
              "    }\n",
              "\n",
              "    .dataframe tbody tr th {\n",
              "        vertical-align: top;\n",
              "    }\n",
              "\n",
              "    .dataframe thead th {\n",
              "        text-align: right;\n",
              "    }\n",
              "</style>\n",
              "<table border=\"1\" class=\"dataframe\">\n",
              "  <thead>\n",
              "    <tr style=\"text-align: right;\">\n",
              "      <th></th>\n",
              "      <th></th>\n",
              "      <th>A</th>\n",
              "      <th>B</th>\n",
              "    </tr>\n",
              "    <tr>\n",
              "      <th>first</th>\n",
              "      <th>second</th>\n",
              "      <th></th>\n",
              "      <th></th>\n",
              "    </tr>\n",
              "  </thead>\n",
              "  <tbody>\n",
              "    <tr>\n",
              "      <th rowspan=\"2\" valign=\"top\">bar</th>\n",
              "      <th>one</th>\n",
              "      <td>0.976931</td>\n",
              "      <td>0.425178</td>\n",
              "    </tr>\n",
              "    <tr>\n",
              "      <th>two</th>\n",
              "      <td>-0.880126</td>\n",
              "      <td>-1.342561</td>\n",
              "    </tr>\n",
              "    <tr>\n",
              "      <th rowspan=\"2\" valign=\"top\">baz</th>\n",
              "      <th>one</th>\n",
              "      <td>0.314802</td>\n",
              "      <td>-0.090336</td>\n",
              "    </tr>\n",
              "    <tr>\n",
              "      <th>two</th>\n",
              "      <td>0.594475</td>\n",
              "      <td>0.725317</td>\n",
              "    </tr>\n",
              "  </tbody>\n",
              "</table>\n",
              "</div>"
            ],
            "text/plain": [
              "                     A         B\n",
              "first second                    \n",
              "bar   one     0.976931  0.425178\n",
              "      two    -0.880126 -1.342561\n",
              "baz   one     0.314802 -0.090336\n",
              "      two     0.594475  0.725317"
            ]
          },
          "metadata": {
            "tags": []
          },
          "execution_count": 91
        }
      ]
    },
    {
      "cell_type": "code",
      "metadata": {
        "id": "CtdUt7AyIRSu",
        "colab_type": "code",
        "colab": {}
      },
      "source": [
        "# Method stack() \"compress\" level di kolom DataFrame\n",
        "stacked = df2.stack()"
      ],
      "execution_count": 0,
      "outputs": []
    },
    {
      "cell_type": "code",
      "metadata": {
        "id": "uldZ82BqIb5Z",
        "colab_type": "code",
        "colab": {
          "base_uri": "https://localhost:8080/",
          "height": 194
        },
        "outputId": "a5edc625-e410-49e8-edac-c47718b3d616"
      },
      "source": [
        "stacked"
      ],
      "execution_count": 93,
      "outputs": [
        {
          "output_type": "execute_result",
          "data": {
            "text/plain": [
              "first  second   \n",
              "bar    one     A    0.976931\n",
              "               B    0.425178\n",
              "       two     A   -0.880126\n",
              "               B   -1.342561\n",
              "baz    one     A    0.314802\n",
              "               B   -0.090336\n",
              "       two     A    0.594475\n",
              "               B    0.725317\n",
              "dtype: float64"
            ]
          },
          "metadata": {
            "tags": []
          },
          "execution_count": 93
        }
      ]
    },
    {
      "cell_type": "code",
      "metadata": {
        "id": "f0YtRne6IfOt",
        "colab_type": "code",
        "colab": {
          "base_uri": "https://localhost:8080/",
          "height": 197
        },
        "outputId": "3685a7e4-73b8-40ee-e44a-f7600c5ccae4"
      },
      "source": [
        "stacked.unstack()"
      ],
      "execution_count": 94,
      "outputs": [
        {
          "output_type": "execute_result",
          "data": {
            "text/html": [
              "<div>\n",
              "<style scoped>\n",
              "    .dataframe tbody tr th:only-of-type {\n",
              "        vertical-align: middle;\n",
              "    }\n",
              "\n",
              "    .dataframe tbody tr th {\n",
              "        vertical-align: top;\n",
              "    }\n",
              "\n",
              "    .dataframe thead th {\n",
              "        text-align: right;\n",
              "    }\n",
              "</style>\n",
              "<table border=\"1\" class=\"dataframe\">\n",
              "  <thead>\n",
              "    <tr style=\"text-align: right;\">\n",
              "      <th></th>\n",
              "      <th></th>\n",
              "      <th>A</th>\n",
              "      <th>B</th>\n",
              "    </tr>\n",
              "    <tr>\n",
              "      <th>first</th>\n",
              "      <th>second</th>\n",
              "      <th></th>\n",
              "      <th></th>\n",
              "    </tr>\n",
              "  </thead>\n",
              "  <tbody>\n",
              "    <tr>\n",
              "      <th rowspan=\"2\" valign=\"top\">bar</th>\n",
              "      <th>one</th>\n",
              "      <td>0.976931</td>\n",
              "      <td>0.425178</td>\n",
              "    </tr>\n",
              "    <tr>\n",
              "      <th>two</th>\n",
              "      <td>-0.880126</td>\n",
              "      <td>-1.342561</td>\n",
              "    </tr>\n",
              "    <tr>\n",
              "      <th rowspan=\"2\" valign=\"top\">baz</th>\n",
              "      <th>one</th>\n",
              "      <td>0.314802</td>\n",
              "      <td>-0.090336</td>\n",
              "    </tr>\n",
              "    <tr>\n",
              "      <th>two</th>\n",
              "      <td>0.594475</td>\n",
              "      <td>0.725317</td>\n",
              "    </tr>\n",
              "  </tbody>\n",
              "</table>\n",
              "</div>"
            ],
            "text/plain": [
              "                     A         B\n",
              "first second                    \n",
              "bar   one     0.976931  0.425178\n",
              "      two    -0.880126 -1.342561\n",
              "baz   one     0.314802 -0.090336\n",
              "      two     0.594475  0.725317"
            ]
          },
          "metadata": {
            "tags": []
          },
          "execution_count": 94
        }
      ]
    },
    {
      "cell_type": "code",
      "metadata": {
        "id": "TmmEcYm3Iot5",
        "colab_type": "code",
        "colab": {
          "base_uri": "https://localhost:8080/",
          "height": 197
        },
        "outputId": "78f6d89f-fd7c-4c21-e5a5-933bb77f789c"
      },
      "source": [
        "stacked.unstack(1)"
      ],
      "execution_count": 95,
      "outputs": [
        {
          "output_type": "execute_result",
          "data": {
            "text/html": [
              "<div>\n",
              "<style scoped>\n",
              "    .dataframe tbody tr th:only-of-type {\n",
              "        vertical-align: middle;\n",
              "    }\n",
              "\n",
              "    .dataframe tbody tr th {\n",
              "        vertical-align: top;\n",
              "    }\n",
              "\n",
              "    .dataframe thead th {\n",
              "        text-align: right;\n",
              "    }\n",
              "</style>\n",
              "<table border=\"1\" class=\"dataframe\">\n",
              "  <thead>\n",
              "    <tr style=\"text-align: right;\">\n",
              "      <th></th>\n",
              "      <th>second</th>\n",
              "      <th>one</th>\n",
              "      <th>two</th>\n",
              "    </tr>\n",
              "    <tr>\n",
              "      <th>first</th>\n",
              "      <th></th>\n",
              "      <th></th>\n",
              "      <th></th>\n",
              "    </tr>\n",
              "  </thead>\n",
              "  <tbody>\n",
              "    <tr>\n",
              "      <th rowspan=\"2\" valign=\"top\">bar</th>\n",
              "      <th>A</th>\n",
              "      <td>0.976931</td>\n",
              "      <td>-0.880126</td>\n",
              "    </tr>\n",
              "    <tr>\n",
              "      <th>B</th>\n",
              "      <td>0.425178</td>\n",
              "      <td>-1.342561</td>\n",
              "    </tr>\n",
              "    <tr>\n",
              "      <th rowspan=\"2\" valign=\"top\">baz</th>\n",
              "      <th>A</th>\n",
              "      <td>0.314802</td>\n",
              "      <td>0.594475</td>\n",
              "    </tr>\n",
              "    <tr>\n",
              "      <th>B</th>\n",
              "      <td>-0.090336</td>\n",
              "      <td>0.725317</td>\n",
              "    </tr>\n",
              "  </tbody>\n",
              "</table>\n",
              "</div>"
            ],
            "text/plain": [
              "second        one       two\n",
              "first                      \n",
              "bar   A  0.976931 -0.880126\n",
              "      B  0.425178 -1.342561\n",
              "baz   A  0.314802  0.594475\n",
              "      B -0.090336  0.725317"
            ]
          },
          "metadata": {
            "tags": []
          },
          "execution_count": 95
        }
      ]
    },
    {
      "cell_type": "code",
      "metadata": {
        "id": "SMAQmJR7Itcn",
        "colab_type": "code",
        "colab": {
          "base_uri": "https://localhost:8080/",
          "height": 197
        },
        "outputId": "b8a04a37-5e69-4f2d-a24d-0d4c0eb46e74"
      },
      "source": [
        "stacked.unstack(0)"
      ],
      "execution_count": 96,
      "outputs": [
        {
          "output_type": "execute_result",
          "data": {
            "text/html": [
              "<div>\n",
              "<style scoped>\n",
              "    .dataframe tbody tr th:only-of-type {\n",
              "        vertical-align: middle;\n",
              "    }\n",
              "\n",
              "    .dataframe tbody tr th {\n",
              "        vertical-align: top;\n",
              "    }\n",
              "\n",
              "    .dataframe thead th {\n",
              "        text-align: right;\n",
              "    }\n",
              "</style>\n",
              "<table border=\"1\" class=\"dataframe\">\n",
              "  <thead>\n",
              "    <tr style=\"text-align: right;\">\n",
              "      <th></th>\n",
              "      <th>first</th>\n",
              "      <th>bar</th>\n",
              "      <th>baz</th>\n",
              "    </tr>\n",
              "    <tr>\n",
              "      <th>second</th>\n",
              "      <th></th>\n",
              "      <th></th>\n",
              "      <th></th>\n",
              "    </tr>\n",
              "  </thead>\n",
              "  <tbody>\n",
              "    <tr>\n",
              "      <th rowspan=\"2\" valign=\"top\">one</th>\n",
              "      <th>A</th>\n",
              "      <td>0.976931</td>\n",
              "      <td>0.314802</td>\n",
              "    </tr>\n",
              "    <tr>\n",
              "      <th>B</th>\n",
              "      <td>0.425178</td>\n",
              "      <td>-0.090336</td>\n",
              "    </tr>\n",
              "    <tr>\n",
              "      <th rowspan=\"2\" valign=\"top\">two</th>\n",
              "      <th>A</th>\n",
              "      <td>-0.880126</td>\n",
              "      <td>0.594475</td>\n",
              "    </tr>\n",
              "    <tr>\n",
              "      <th>B</th>\n",
              "      <td>-1.342561</td>\n",
              "      <td>0.725317</td>\n",
              "    </tr>\n",
              "  </tbody>\n",
              "</table>\n",
              "</div>"
            ],
            "text/plain": [
              "first          bar       baz\n",
              "second                      \n",
              "one    A  0.976931  0.314802\n",
              "       B  0.425178 -0.090336\n",
              "two    A -0.880126  0.594475\n",
              "       B -1.342561  0.725317"
            ]
          },
          "metadata": {
            "tags": []
          },
          "execution_count": 96
        }
      ]
    },
    {
      "cell_type": "markdown",
      "metadata": {
        "id": "5K_HPM8kIzQO",
        "colab_type": "text"
      },
      "source": [
        "### Pivot tables"
      ]
    },
    {
      "cell_type": "code",
      "metadata": {
        "id": "b3P1Gd2kIyf7",
        "colab_type": "code",
        "colab": {}
      },
      "source": [
        "df = pd.DataFrame({'A': ['one', 'one', 'two', 'three'] * 3,\n",
        "                   'B': ['A', 'B', 'C'] * 4,\n",
        "                   'C': ['foo', 'foo', 'foo', 'bar', 'bar', 'bar'] * 2,\n",
        "                   'D': np.random.randn(12),\n",
        "                   'E': np.random.randn(12)})"
      ],
      "execution_count": 0,
      "outputs": []
    },
    {
      "cell_type": "code",
      "metadata": {
        "id": "Ap60nGVLJCZb",
        "colab_type": "code",
        "colab": {
          "base_uri": "https://localhost:8080/",
          "height": 407
        },
        "outputId": "f4fec8fb-dc2b-468f-9231-6a3b3793ebb2"
      },
      "source": [
        "df"
      ],
      "execution_count": 98,
      "outputs": [
        {
          "output_type": "execute_result",
          "data": {
            "text/html": [
              "<div>\n",
              "<style scoped>\n",
              "    .dataframe tbody tr th:only-of-type {\n",
              "        vertical-align: middle;\n",
              "    }\n",
              "\n",
              "    .dataframe tbody tr th {\n",
              "        vertical-align: top;\n",
              "    }\n",
              "\n",
              "    .dataframe thead th {\n",
              "        text-align: right;\n",
              "    }\n",
              "</style>\n",
              "<table border=\"1\" class=\"dataframe\">\n",
              "  <thead>\n",
              "    <tr style=\"text-align: right;\">\n",
              "      <th></th>\n",
              "      <th>A</th>\n",
              "      <th>B</th>\n",
              "      <th>C</th>\n",
              "      <th>D</th>\n",
              "      <th>E</th>\n",
              "    </tr>\n",
              "  </thead>\n",
              "  <tbody>\n",
              "    <tr>\n",
              "      <th>0</th>\n",
              "      <td>one</td>\n",
              "      <td>A</td>\n",
              "      <td>foo</td>\n",
              "      <td>-0.520107</td>\n",
              "      <td>-0.115216</td>\n",
              "    </tr>\n",
              "    <tr>\n",
              "      <th>1</th>\n",
              "      <td>one</td>\n",
              "      <td>B</td>\n",
              "      <td>foo</td>\n",
              "      <td>1.533964</td>\n",
              "      <td>-1.329999</td>\n",
              "    </tr>\n",
              "    <tr>\n",
              "      <th>2</th>\n",
              "      <td>two</td>\n",
              "      <td>C</td>\n",
              "      <td>foo</td>\n",
              "      <td>1.062732</td>\n",
              "      <td>-1.271079</td>\n",
              "    </tr>\n",
              "    <tr>\n",
              "      <th>3</th>\n",
              "      <td>three</td>\n",
              "      <td>A</td>\n",
              "      <td>bar</td>\n",
              "      <td>0.279967</td>\n",
              "      <td>-1.387544</td>\n",
              "    </tr>\n",
              "    <tr>\n",
              "      <th>4</th>\n",
              "      <td>one</td>\n",
              "      <td>B</td>\n",
              "      <td>bar</td>\n",
              "      <td>0.445803</td>\n",
              "      <td>1.561869</td>\n",
              "    </tr>\n",
              "    <tr>\n",
              "      <th>5</th>\n",
              "      <td>one</td>\n",
              "      <td>C</td>\n",
              "      <td>bar</td>\n",
              "      <td>0.426718</td>\n",
              "      <td>-1.152270</td>\n",
              "    </tr>\n",
              "    <tr>\n",
              "      <th>6</th>\n",
              "      <td>two</td>\n",
              "      <td>A</td>\n",
              "      <td>foo</td>\n",
              "      <td>0.266543</td>\n",
              "      <td>3.111646</td>\n",
              "    </tr>\n",
              "    <tr>\n",
              "      <th>7</th>\n",
              "      <td>three</td>\n",
              "      <td>B</td>\n",
              "      <td>foo</td>\n",
              "      <td>-0.507026</td>\n",
              "      <td>-0.613790</td>\n",
              "    </tr>\n",
              "    <tr>\n",
              "      <th>8</th>\n",
              "      <td>one</td>\n",
              "      <td>C</td>\n",
              "      <td>foo</td>\n",
              "      <td>0.874843</td>\n",
              "      <td>-1.625815</td>\n",
              "    </tr>\n",
              "    <tr>\n",
              "      <th>9</th>\n",
              "      <td>one</td>\n",
              "      <td>A</td>\n",
              "      <td>bar</td>\n",
              "      <td>0.485497</td>\n",
              "      <td>-0.279659</td>\n",
              "    </tr>\n",
              "    <tr>\n",
              "      <th>10</th>\n",
              "      <td>two</td>\n",
              "      <td>B</td>\n",
              "      <td>bar</td>\n",
              "      <td>-0.778969</td>\n",
              "      <td>-0.906695</td>\n",
              "    </tr>\n",
              "    <tr>\n",
              "      <th>11</th>\n",
              "      <td>three</td>\n",
              "      <td>C</td>\n",
              "      <td>bar</td>\n",
              "      <td>-0.891034</td>\n",
              "      <td>0.510914</td>\n",
              "    </tr>\n",
              "  </tbody>\n",
              "</table>\n",
              "</div>"
            ],
            "text/plain": [
              "        A  B    C         D         E\n",
              "0     one  A  foo -0.520107 -0.115216\n",
              "1     one  B  foo  1.533964 -1.329999\n",
              "2     two  C  foo  1.062732 -1.271079\n",
              "3   three  A  bar  0.279967 -1.387544\n",
              "4     one  B  bar  0.445803  1.561869\n",
              "5     one  C  bar  0.426718 -1.152270\n",
              "6     two  A  foo  0.266543  3.111646\n",
              "7   three  B  foo -0.507026 -0.613790\n",
              "8     one  C  foo  0.874843 -1.625815\n",
              "9     one  A  bar  0.485497 -0.279659\n",
              "10    two  B  bar -0.778969 -0.906695\n",
              "11  three  C  bar -0.891034  0.510914"
            ]
          },
          "metadata": {
            "tags": []
          },
          "execution_count": 98
        }
      ]
    },
    {
      "cell_type": "code",
      "metadata": {
        "id": "4Kc6mBkjJJF9",
        "colab_type": "code",
        "colab": {
          "base_uri": "https://localhost:8080/",
          "height": 347
        },
        "outputId": "1347cba6-6136-49ad-92ba-1de59866adab"
      },
      "source": [
        "# Membuat tabel pivot\n",
        "pd.pivot_table(df, values='D', index=['A', 'B'], columns=['C'])"
      ],
      "execution_count": 99,
      "outputs": [
        {
          "output_type": "execute_result",
          "data": {
            "text/html": [
              "<div>\n",
              "<style scoped>\n",
              "    .dataframe tbody tr th:only-of-type {\n",
              "        vertical-align: middle;\n",
              "    }\n",
              "\n",
              "    .dataframe tbody tr th {\n",
              "        vertical-align: top;\n",
              "    }\n",
              "\n",
              "    .dataframe thead th {\n",
              "        text-align: right;\n",
              "    }\n",
              "</style>\n",
              "<table border=\"1\" class=\"dataframe\">\n",
              "  <thead>\n",
              "    <tr style=\"text-align: right;\">\n",
              "      <th></th>\n",
              "      <th>C</th>\n",
              "      <th>bar</th>\n",
              "      <th>foo</th>\n",
              "    </tr>\n",
              "    <tr>\n",
              "      <th>A</th>\n",
              "      <th>B</th>\n",
              "      <th></th>\n",
              "      <th></th>\n",
              "    </tr>\n",
              "  </thead>\n",
              "  <tbody>\n",
              "    <tr>\n",
              "      <th rowspan=\"3\" valign=\"top\">one</th>\n",
              "      <th>A</th>\n",
              "      <td>0.485497</td>\n",
              "      <td>-0.520107</td>\n",
              "    </tr>\n",
              "    <tr>\n",
              "      <th>B</th>\n",
              "      <td>0.445803</td>\n",
              "      <td>1.533964</td>\n",
              "    </tr>\n",
              "    <tr>\n",
              "      <th>C</th>\n",
              "      <td>0.426718</td>\n",
              "      <td>0.874843</td>\n",
              "    </tr>\n",
              "    <tr>\n",
              "      <th rowspan=\"3\" valign=\"top\">three</th>\n",
              "      <th>A</th>\n",
              "      <td>0.279967</td>\n",
              "      <td>NaN</td>\n",
              "    </tr>\n",
              "    <tr>\n",
              "      <th>B</th>\n",
              "      <td>NaN</td>\n",
              "      <td>-0.507026</td>\n",
              "    </tr>\n",
              "    <tr>\n",
              "      <th>C</th>\n",
              "      <td>-0.891034</td>\n",
              "      <td>NaN</td>\n",
              "    </tr>\n",
              "    <tr>\n",
              "      <th rowspan=\"3\" valign=\"top\">two</th>\n",
              "      <th>A</th>\n",
              "      <td>NaN</td>\n",
              "      <td>0.266543</td>\n",
              "    </tr>\n",
              "    <tr>\n",
              "      <th>B</th>\n",
              "      <td>-0.778969</td>\n",
              "      <td>NaN</td>\n",
              "    </tr>\n",
              "    <tr>\n",
              "      <th>C</th>\n",
              "      <td>NaN</td>\n",
              "      <td>1.062732</td>\n",
              "    </tr>\n",
              "  </tbody>\n",
              "</table>\n",
              "</div>"
            ],
            "text/plain": [
              "C             bar       foo\n",
              "A     B                    \n",
              "one   A  0.485497 -0.520107\n",
              "      B  0.445803  1.533964\n",
              "      C  0.426718  0.874843\n",
              "three A  0.279967       NaN\n",
              "      B       NaN -0.507026\n",
              "      C -0.891034       NaN\n",
              "two   A       NaN  0.266543\n",
              "      B -0.778969       NaN\n",
              "      C       NaN  1.062732"
            ]
          },
          "metadata": {
            "tags": []
          },
          "execution_count": 99
        }
      ]
    },
    {
      "cell_type": "markdown",
      "metadata": {
        "id": "WxtlRVmKJO_g",
        "colab_type": "text"
      },
      "source": [
        "## Time series"
      ]
    },
    {
      "cell_type": "code",
      "metadata": {
        "id": "-dUopY9sJSbV",
        "colab_type": "code",
        "colab": {}
      },
      "source": [
        "rng = pd.date_range('1/1/2012', periods=100, freq='S')"
      ],
      "execution_count": 0,
      "outputs": []
    },
    {
      "cell_type": "code",
      "metadata": {
        "id": "ggsXfpIPJVRW",
        "colab_type": "code",
        "colab": {}
      },
      "source": [
        "ts = pd.Series(np.random.randint(0, 500, len(rng)), index=rng)"
      ],
      "execution_count": 0,
      "outputs": []
    },
    {
      "cell_type": "code",
      "metadata": {
        "id": "alLk4L1QJZMG",
        "colab_type": "code",
        "colab": {
          "base_uri": "https://localhost:8080/",
          "height": 52
        },
        "outputId": "fd09b4da-883b-4561-fb53-07b533068eaf"
      },
      "source": [
        "ts.resample('5Min').sum()"
      ],
      "execution_count": 102,
      "outputs": [
        {
          "output_type": "execute_result",
          "data": {
            "text/plain": [
              "2012-01-01    24375\n",
              "Freq: 5T, dtype: int64"
            ]
          },
          "metadata": {
            "tags": []
          },
          "execution_count": 102
        }
      ]
    },
    {
      "cell_type": "code",
      "metadata": {
        "id": "CYeVKll-Jdmx",
        "colab_type": "code",
        "colab": {}
      },
      "source": [
        "# Representasi zona waktu\n",
        "rng = pd.date_range('3/6/2012 00:00', periods=5, freq='D')"
      ],
      "execution_count": 0,
      "outputs": []
    },
    {
      "cell_type": "code",
      "metadata": {
        "id": "A1BuF7IIJlmM",
        "colab_type": "code",
        "colab": {}
      },
      "source": [
        "ts = pd.Series(np.random.randn(len(rng)), rng)"
      ],
      "execution_count": 0,
      "outputs": []
    },
    {
      "cell_type": "code",
      "metadata": {
        "id": "33vMvcAhJpYG",
        "colab_type": "code",
        "colab": {
          "base_uri": "https://localhost:8080/",
          "height": 123
        },
        "outputId": "116de5a6-27b0-4571-cce9-6698e8bcec1e"
      },
      "source": [
        "ts"
      ],
      "execution_count": 106,
      "outputs": [
        {
          "output_type": "execute_result",
          "data": {
            "text/plain": [
              "2012-03-06   -1.507533\n",
              "2012-03-07   -0.977358\n",
              "2012-03-08   -0.266181\n",
              "2012-03-09   -1.641481\n",
              "2012-03-10    1.447395\n",
              "Freq: D, dtype: float64"
            ]
          },
          "metadata": {
            "tags": []
          },
          "execution_count": 106
        }
      ]
    },
    {
      "cell_type": "code",
      "metadata": {
        "id": "zSqzwQSRJuWm",
        "colab_type": "code",
        "colab": {}
      },
      "source": [
        "ts_utc = ts.tz_localize('UTC')"
      ],
      "execution_count": 0,
      "outputs": []
    },
    {
      "cell_type": "code",
      "metadata": {
        "id": "2Q6eS-B7JxqH",
        "colab_type": "code",
        "colab": {
          "base_uri": "https://localhost:8080/",
          "height": 123
        },
        "outputId": "be5ae264-653c-4c90-d6bd-950416f03a87"
      },
      "source": [
        "ts_utc"
      ],
      "execution_count": 108,
      "outputs": [
        {
          "output_type": "execute_result",
          "data": {
            "text/plain": [
              "2012-03-06 00:00:00+00:00   -1.507533\n",
              "2012-03-07 00:00:00+00:00   -0.977358\n",
              "2012-03-08 00:00:00+00:00   -0.266181\n",
              "2012-03-09 00:00:00+00:00   -1.641481\n",
              "2012-03-10 00:00:00+00:00    1.447395\n",
              "Freq: D, dtype: float64"
            ]
          },
          "metadata": {
            "tags": []
          },
          "execution_count": 108
        }
      ]
    },
    {
      "cell_type": "code",
      "metadata": {
        "id": "ciCWSRoXJ3Cc",
        "colab_type": "code",
        "colab": {
          "base_uri": "https://localhost:8080/",
          "height": 123
        },
        "outputId": "baabdbc4-b5af-4fe2-8fec-e3df72da7277"
      },
      "source": [
        "# Konversi ke zona waktu lain\n",
        "ts_utc.tz_convert('US/Eastern')"
      ],
      "execution_count": 109,
      "outputs": [
        {
          "output_type": "execute_result",
          "data": {
            "text/plain": [
              "2012-03-05 19:00:00-05:00   -1.507533\n",
              "2012-03-06 19:00:00-05:00   -0.977358\n",
              "2012-03-07 19:00:00-05:00   -0.266181\n",
              "2012-03-08 19:00:00-05:00   -1.641481\n",
              "2012-03-09 19:00:00-05:00    1.447395\n",
              "Freq: D, dtype: float64"
            ]
          },
          "metadata": {
            "tags": []
          },
          "execution_count": 109
        }
      ]
    },
    {
      "cell_type": "code",
      "metadata": {
        "id": "VTJqyXh7J7uq",
        "colab_type": "code",
        "colab": {}
      },
      "source": [
        "# Konversi antara representasi rentang waktu\n",
        "rng = pd.date_range('1/1/2012', periods=5, freq='M')"
      ],
      "execution_count": 0,
      "outputs": []
    },
    {
      "cell_type": "code",
      "metadata": {
        "id": "HWN7pEYfKFyt",
        "colab_type": "code",
        "colab": {}
      },
      "source": [
        "ts = pd.Series(np.random.randn(len(rng)), index=rng)\n"
      ],
      "execution_count": 0,
      "outputs": []
    },
    {
      "cell_type": "code",
      "metadata": {
        "id": "He6aEpDvKJcT",
        "colab_type": "code",
        "colab": {
          "base_uri": "https://localhost:8080/",
          "height": 123
        },
        "outputId": "dfaebe29-8136-4f83-9456-63860a0a31d7"
      },
      "source": [
        "ts"
      ],
      "execution_count": 112,
      "outputs": [
        {
          "output_type": "execute_result",
          "data": {
            "text/plain": [
              "2012-01-31    1.532705\n",
              "2012-02-29   -0.338523\n",
              "2012-03-31   -0.378008\n",
              "2012-04-30   -0.800734\n",
              "2012-05-31   -1.445570\n",
              "Freq: M, dtype: float64"
            ]
          },
          "metadata": {
            "tags": []
          },
          "execution_count": 112
        }
      ]
    },
    {
      "cell_type": "code",
      "metadata": {
        "id": "mTxskYEXKMvl",
        "colab_type": "code",
        "colab": {}
      },
      "source": [
        "ps = ts.to_period()"
      ],
      "execution_count": 0,
      "outputs": []
    },
    {
      "cell_type": "code",
      "metadata": {
        "id": "ntl01tqVKOHX",
        "colab_type": "code",
        "colab": {
          "base_uri": "https://localhost:8080/",
          "height": 123
        },
        "outputId": "1cbe644a-e1f3-4d40-f000-f744ddfc6d44"
      },
      "source": [
        "ps"
      ],
      "execution_count": 114,
      "outputs": [
        {
          "output_type": "execute_result",
          "data": {
            "text/plain": [
              "2012-01    1.532705\n",
              "2012-02   -0.338523\n",
              "2012-03   -0.378008\n",
              "2012-04   -0.800734\n",
              "2012-05   -1.445570\n",
              "Freq: M, dtype: float64"
            ]
          },
          "metadata": {
            "tags": []
          },
          "execution_count": 114
        }
      ]
    },
    {
      "cell_type": "code",
      "metadata": {
        "id": "DS5dLqxKKfo3",
        "colab_type": "code",
        "colab": {
          "base_uri": "https://localhost:8080/",
          "height": 123
        },
        "outputId": "ac9a2a22-5c5c-4276-ef2d-b4b9c40cd118"
      },
      "source": [
        "ps.to_timestamp()"
      ],
      "execution_count": 115,
      "outputs": [
        {
          "output_type": "execute_result",
          "data": {
            "text/plain": [
              "2012-01-01    1.532705\n",
              "2012-02-01   -0.338523\n",
              "2012-03-01   -0.378008\n",
              "2012-04-01   -0.800734\n",
              "2012-05-01   -1.445570\n",
              "Freq: MS, dtype: float64"
            ]
          },
          "metadata": {
            "tags": []
          },
          "execution_count": 115
        }
      ]
    },
    {
      "cell_type": "markdown",
      "metadata": {
        "id": "Z0Xd_7XcKvW4",
        "colab_type": "text"
      },
      "source": [
        "Mengonversi frekuensi triwulanan dengan tahun yang berakhir pada November hingga 9 pagi di akhir bulan setelah akhir kuartal"
      ]
    },
    {
      "cell_type": "code",
      "metadata": {
        "id": "czm_e_rUKyVe",
        "colab_type": "code",
        "colab": {}
      },
      "source": [
        "prng = pd.period_range('1990Q1', '2000Q4', freq='Q-NOV')"
      ],
      "execution_count": 0,
      "outputs": []
    },
    {
      "cell_type": "code",
      "metadata": {
        "id": "BlZoRCsRK_6m",
        "colab_type": "code",
        "colab": {}
      },
      "source": [
        "ts = pd.Series(np.random.randn(len(prng)), prng)"
      ],
      "execution_count": 0,
      "outputs": []
    },
    {
      "cell_type": "code",
      "metadata": {
        "id": "HYsACgU0LCzL",
        "colab_type": "code",
        "colab": {}
      },
      "source": [
        "ts.index = (prng.asfreq('M', 'e') + 1).asfreq('H', 's') + 9"
      ],
      "execution_count": 0,
      "outputs": []
    },
    {
      "cell_type": "code",
      "metadata": {
        "id": "rjsWg4cmLFxn",
        "colab_type": "code",
        "colab": {
          "base_uri": "https://localhost:8080/",
          "height": 123
        },
        "outputId": "0106e31a-cfdb-488f-c417-2297179815c1"
      },
      "source": [
        "ts.head()"
      ],
      "execution_count": 119,
      "outputs": [
        {
          "output_type": "execute_result",
          "data": {
            "text/plain": [
              "1990-03-01 09:00   -0.704474\n",
              "1990-06-01 09:00   -0.571832\n",
              "1990-09-01 09:00   -0.164320\n",
              "1990-12-01 09:00    0.371894\n",
              "1991-03-01 09:00   -0.646428\n",
              "Freq: H, dtype: float64"
            ]
          },
          "metadata": {
            "tags": []
          },
          "execution_count": 119
        }
      ]
    },
    {
      "cell_type": "markdown",
      "metadata": {
        "id": "sGp2jNjfLIXc",
        "colab_type": "text"
      },
      "source": [
        "## Categoricals"
      ]
    },
    {
      "cell_type": "code",
      "metadata": {
        "id": "DHadStWnMfOr",
        "colab_type": "code",
        "colab": {}
      },
      "source": [
        "df = pd.DataFrame({\"id\": [1, 2, 3, 4, 5, 6],\n",
        "                   \"raw_grade\": ['a', 'b', 'b', 'a', 'a', 'e']})"
      ],
      "execution_count": 0,
      "outputs": []
    },
    {
      "cell_type": "code",
      "metadata": {
        "id": "g2w_fHEwMlmm",
        "colab_type": "code",
        "colab": {}
      },
      "source": [
        "# Ubah nilai mentah menjadi tipe data kategorikal.\n",
        "df[\"grade\"] = df[\"raw_grade\"].astype(\"category\")"
      ],
      "execution_count": 0,
      "outputs": []
    },
    {
      "cell_type": "code",
      "metadata": {
        "id": "O5BZLdv_OYxE",
        "colab_type": "code",
        "colab": {
          "base_uri": "https://localhost:8080/",
          "height": 158
        },
        "outputId": "5df86a3d-1282-4827-f623-c3aebb13bd91"
      },
      "source": [
        "df[\"grade\"]"
      ],
      "execution_count": 122,
      "outputs": [
        {
          "output_type": "execute_result",
          "data": {
            "text/plain": [
              "0    a\n",
              "1    b\n",
              "2    b\n",
              "3    a\n",
              "4    a\n",
              "5    e\n",
              "Name: grade, dtype: category\n",
              "Categories (3, object): [a, b, e]"
            ]
          },
          "metadata": {
            "tags": []
          },
          "execution_count": 122
        }
      ]
    },
    {
      "cell_type": "code",
      "metadata": {
        "id": "Osrtt38fOiK9",
        "colab_type": "code",
        "colab": {}
      },
      "source": [
        "# Ubah nama kategori menjadi nama yang lebih bermakna\n",
        "df[\"grade\"].cat.categories = [\"very good\", \"good\", \"very bad\"]"
      ],
      "execution_count": 0,
      "outputs": []
    },
    {
      "cell_type": "code",
      "metadata": {
        "id": "THRBNpGmPjAp",
        "colab_type": "code",
        "colab": {}
      },
      "source": [
        "# Atur ulang kategori dan secara bersamaan tambahkan kategori yang hilang\n",
        "df[\"grade\"] = df[\"grade\"].cat.set_categories([\"very bad\", \"bad\", \"medium\",\n",
        "                                              \"good\", \"very good\"])        "
      ],
      "execution_count": 0,
      "outputs": []
    },
    {
      "cell_type": "code",
      "metadata": {
        "id": "gKGEC3lIP4U9",
        "colab_type": "code",
        "colab": {
          "base_uri": "https://localhost:8080/",
          "height": 158
        },
        "outputId": "49aa107b-6b77-4034-9710-6e4d2699d47e"
      },
      "source": [
        "df[\"grade\"]"
      ],
      "execution_count": 125,
      "outputs": [
        {
          "output_type": "execute_result",
          "data": {
            "text/plain": [
              "0    very good\n",
              "1         good\n",
              "2         good\n",
              "3    very good\n",
              "4    very good\n",
              "5     very bad\n",
              "Name: grade, dtype: category\n",
              "Categories (5, object): [very bad, bad, medium, good, very good]"
            ]
          },
          "metadata": {
            "tags": []
          },
          "execution_count": 125
        }
      ]
    },
    {
      "cell_type": "markdown",
      "metadata": {
        "id": "xm2L04pBQEuo",
        "colab_type": "text"
      },
      "source": [
        "Penyortiran adalah per pesanan dalam kategori, bukan urutan leksikal."
      ]
    },
    {
      "cell_type": "code",
      "metadata": {
        "id": "IlxZEbXlQGhD",
        "colab_type": "code",
        "colab": {
          "base_uri": "https://localhost:8080/",
          "height": 227
        },
        "outputId": "8dc5525d-57eb-49ca-929c-15a12925bf81"
      },
      "source": [
        "df.sort_values(by=\"grade\")"
      ],
      "execution_count": 126,
      "outputs": [
        {
          "output_type": "execute_result",
          "data": {
            "text/html": [
              "<div>\n",
              "<style scoped>\n",
              "    .dataframe tbody tr th:only-of-type {\n",
              "        vertical-align: middle;\n",
              "    }\n",
              "\n",
              "    .dataframe tbody tr th {\n",
              "        vertical-align: top;\n",
              "    }\n",
              "\n",
              "    .dataframe thead th {\n",
              "        text-align: right;\n",
              "    }\n",
              "</style>\n",
              "<table border=\"1\" class=\"dataframe\">\n",
              "  <thead>\n",
              "    <tr style=\"text-align: right;\">\n",
              "      <th></th>\n",
              "      <th>id</th>\n",
              "      <th>raw_grade</th>\n",
              "      <th>grade</th>\n",
              "    </tr>\n",
              "  </thead>\n",
              "  <tbody>\n",
              "    <tr>\n",
              "      <th>5</th>\n",
              "      <td>6</td>\n",
              "      <td>e</td>\n",
              "      <td>very bad</td>\n",
              "    </tr>\n",
              "    <tr>\n",
              "      <th>1</th>\n",
              "      <td>2</td>\n",
              "      <td>b</td>\n",
              "      <td>good</td>\n",
              "    </tr>\n",
              "    <tr>\n",
              "      <th>2</th>\n",
              "      <td>3</td>\n",
              "      <td>b</td>\n",
              "      <td>good</td>\n",
              "    </tr>\n",
              "    <tr>\n",
              "      <th>0</th>\n",
              "      <td>1</td>\n",
              "      <td>a</td>\n",
              "      <td>very good</td>\n",
              "    </tr>\n",
              "    <tr>\n",
              "      <th>3</th>\n",
              "      <td>4</td>\n",
              "      <td>a</td>\n",
              "      <td>very good</td>\n",
              "    </tr>\n",
              "    <tr>\n",
              "      <th>4</th>\n",
              "      <td>5</td>\n",
              "      <td>a</td>\n",
              "      <td>very good</td>\n",
              "    </tr>\n",
              "  </tbody>\n",
              "</table>\n",
              "</div>"
            ],
            "text/plain": [
              "   id raw_grade      grade\n",
              "5   6         e   very bad\n",
              "1   2         b       good\n",
              "2   3         b       good\n",
              "0   1         a  very good\n",
              "3   4         a  very good\n",
              "4   5         a  very good"
            ]
          },
          "metadata": {
            "tags": []
          },
          "execution_count": 126
        }
      ]
    },
    {
      "cell_type": "markdown",
      "metadata": {
        "id": "1qw8Rn2KQN7g",
        "colab_type": "text"
      },
      "source": [
        "Pengelompokan berdasarkan kolom kategoris juga menunjukkan kategori kosong."
      ]
    },
    {
      "cell_type": "code",
      "metadata": {
        "id": "SuY9JIheQPJk",
        "colab_type": "code",
        "colab": {
          "base_uri": "https://localhost:8080/",
          "height": 141
        },
        "outputId": "444fac1d-005f-44d6-9e42-9db4cdfc0f07"
      },
      "source": [
        "df.groupby(\"grade\").size()"
      ],
      "execution_count": 127,
      "outputs": [
        {
          "output_type": "execute_result",
          "data": {
            "text/plain": [
              "grade\n",
              "very bad     1\n",
              "bad          0\n",
              "medium       0\n",
              "good         2\n",
              "very good    3\n",
              "dtype: int64"
            ]
          },
          "metadata": {
            "tags": []
          },
          "execution_count": 127
        }
      ]
    },
    {
      "cell_type": "markdown",
      "metadata": {
        "id": "lfo-tRSSQVZb",
        "colab_type": "text"
      },
      "source": [
        "## Plotting"
      ]
    },
    {
      "cell_type": "code",
      "metadata": {
        "id": "QlI3MaPbQbdm",
        "colab_type": "code",
        "colab": {}
      },
      "source": [
        "import matplotlib.pyplot as plt"
      ],
      "execution_count": 0,
      "outputs": []
    },
    {
      "cell_type": "code",
      "metadata": {
        "id": "HKlmqsyHQeBg",
        "colab_type": "code",
        "colab": {}
      },
      "source": [
        "plt.close('all')"
      ],
      "execution_count": 0,
      "outputs": []
    },
    {
      "cell_type": "code",
      "metadata": {
        "id": "TYaFnGOTQhWw",
        "colab_type": "code",
        "colab": {}
      },
      "source": [
        "ts = pd.Series(np.random.randn(1000),\n",
        "               index=pd.date_range('1/1/2000', periods=1000))"
      ],
      "execution_count": 0,
      "outputs": []
    },
    {
      "cell_type": "code",
      "metadata": {
        "id": "d2YnruQGQksH",
        "colab_type": "code",
        "colab": {}
      },
      "source": [
        "ts = ts.cumsum()"
      ],
      "execution_count": 0,
      "outputs": []
    },
    {
      "cell_type": "code",
      "metadata": {
        "id": "Ro7Eh60PQpCF",
        "colab_type": "code",
        "colab": {
          "base_uri": "https://localhost:8080/",
          "height": 294
        },
        "outputId": "ca5291d5-9e2c-4586-d8b6-e9df815d1c4a"
      },
      "source": [
        "ts.plot()"
      ],
      "execution_count": 133,
      "outputs": [
        {
          "output_type": "execute_result",
          "data": {
            "text/plain": [
              "<matplotlib.axes._subplots.AxesSubplot at 0x7f1a8361f470>"
            ]
          },
          "metadata": {
            "tags": []
          },
          "execution_count": 133
        },
        {
          "output_type": "display_data",
          "data": {
            "image/png": "[encoded data removed]",
            "text/plain": [
              "<Figure size 432x288 with 1 Axes>"
            ]
          },
          "metadata": {
            "tags": [],
            "needs_background": "light"
          }
        }
      ]
    },
    {
      "cell_type": "code",
      "metadata": {
        "id": "LAwN64J-Q-sJ",
        "colab_type": "code",
        "colab": {}
      },
      "source": [
        "df = pd.DataFrame(np.random.randn(1000, 4), index=ts.index,\n",
        "                  columns=['A', 'B', 'C', 'D'])"
      ],
      "execution_count": 0,
      "outputs": []
    },
    {
      "cell_type": "code",
      "metadata": {
        "id": "y2ZocQQkRFlY",
        "colab_type": "code",
        "colab": {}
      },
      "source": [
        "df = df.cumsum()"
      ],
      "execution_count": 0,
      "outputs": []
    },
    {
      "cell_type": "code",
      "metadata": {
        "id": "4kAFb7EQRIDt",
        "colab_type": "code",
        "colab": {
          "base_uri": "https://localhost:8080/",
          "height": 52
        },
        "outputId": "a07392e6-0281-40e0-baa2-6b0cf6c891d7"
      },
      "source": [
        "plt.figure()"
      ],
      "execution_count": 137,
      "outputs": [
        {
          "output_type": "execute_result",
          "data": {
            "text/plain": [
              "<Figure size 432x288 with 0 Axes>"
            ]
          },
          "metadata": {
            "tags": []
          },
          "execution_count": 137
        },
        {
          "output_type": "display_data",
          "data": {
            "text/plain": [
              "<Figure size 432x288 with 0 Axes>"
            ]
          },
          "metadata": {
            "tags": []
          }
        }
      ]
    },
    {
      "cell_type": "code",
      "metadata": {
        "id": "YDy1vcksRNe_",
        "colab_type": "code",
        "colab": {
          "base_uri": "https://localhost:8080/",
          "height": 294
        },
        "outputId": "aefc81e8-fd94-4447-b71b-19a7a08ded2f"
      },
      "source": [
        "df.plot()"
      ],
      "execution_count": 138,
      "outputs": [
        {
          "output_type": "execute_result",
          "data": {
            "text/plain": [
              "<matplotlib.axes._subplots.AxesSubplot at 0x7f1a83087b00>"
            ]
          },
          "metadata": {
            "tags": []
          },
          "execution_count": 138
        },
        {
          "output_type": "display_data",
          "data": {
            "image/png": "[encoded data removed]",
            "text/plain": [
              "<Figure size 432x288 with 1 Axes>"
            ]
          },
          "metadata": {
            "tags": [],
            "needs_background": "light"
          }
        }
      ]
    },
    {
      "cell_type": "markdown",
      "metadata": {
        "id": "VMHqKgfERoDq",
        "colab_type": "text"
      },
      "source": [
        "## Getting data in/out"
      ]
    },
    {
      "cell_type": "markdown",
      "metadata": {
        "id": "1oPGsA6NRpxf",
        "colab_type": "text"
      },
      "source": [
        "### CSV"
      ]
    },
    {
      "cell_type": "code",
      "metadata": {
        "id": "kFK84KelRu_d",
        "colab_type": "code",
        "colab": {}
      },
      "source": [
        "# Menulis ke file csv\n",
        "df.to_csv('foo.csv')"
      ],
      "execution_count": 0,
      "outputs": []
    },
    {
      "cell_type": "code",
      "metadata": {
        "id": "mF5Vu_GyR7Dv",
        "colab_type": "code",
        "colab": {
          "base_uri": "https://localhost:8080/",
          "height": 406
        },
        "outputId": "d38934c1-2254-4235-a1a8-d4e2392c70d9"
      },
      "source": [
        "# Membaca file csv\n",
        "pd.read_csv('foo.csv')"
      ],
      "execution_count": 141,
      "outputs": [
        {
          "output_type": "execute_result",
          "data": {
            "text/html": [
              "<div>\n",
              "<style scoped>\n",
              "    .dataframe tbody tr th:only-of-type {\n",
              "        vertical-align: middle;\n",
              "    }\n",
              "\n",
              "    .dataframe tbody tr th {\n",
              "        vertical-align: top;\n",
              "    }\n",
              "\n",
              "    .dataframe thead th {\n",
              "        text-align: right;\n",
              "    }\n",
              "</style>\n",
              "<table border=\"1\" class=\"dataframe\">\n",
              "  <thead>\n",
              "    <tr style=\"text-align: right;\">\n",
              "      <th></th>\n",
              "      <th>Unnamed: 0</th>\n",
              "      <th>A</th>\n",
              "      <th>B</th>\n",
              "      <th>C</th>\n",
              "      <th>D</th>\n",
              "    </tr>\n",
              "  </thead>\n",
              "  <tbody>\n",
              "    <tr>\n",
              "      <th>0</th>\n",
              "      <td>2000-01-01</td>\n",
              "      <td>-0.609969</td>\n",
              "      <td>-1.501680</td>\n",
              "      <td>0.510037</td>\n",
              "      <td>0.671874</td>\n",
              "    </tr>\n",
              "    <tr>\n",
              "      <th>1</th>\n",
              "      <td>2000-01-02</td>\n",
              "      <td>-0.190389</td>\n",
              "      <td>-1.345185</td>\n",
              "      <td>-0.166455</td>\n",
              "      <td>1.373241</td>\n",
              "    </tr>\n",
              "    <tr>\n",
              "      <th>2</th>\n",
              "      <td>2000-01-03</td>\n",
              "      <td>1.775985</td>\n",
              "      <td>0.188264</td>\n",
              "      <td>0.940014</td>\n",
              "      <td>0.983054</td>\n",
              "    </tr>\n",
              "    <tr>\n",
              "      <th>3</th>\n",
              "      <td>2000-01-04</td>\n",
              "      <td>0.804823</td>\n",
              "      <td>1.285871</td>\n",
              "      <td>1.661278</td>\n",
              "      <td>1.114160</td>\n",
              "    </tr>\n",
              "    <tr>\n",
              "      <th>4</th>\n",
              "      <td>2000-01-05</td>\n",
              "      <td>1.357122</td>\n",
              "      <td>1.377255</td>\n",
              "      <td>1.604105</td>\n",
              "      <td>2.091667</td>\n",
              "    </tr>\n",
              "    <tr>\n",
              "      <th>...</th>\n",
              "      <td>...</td>\n",
              "      <td>...</td>\n",
              "      <td>...</td>\n",
              "      <td>...</td>\n",
              "      <td>...</td>\n",
              "    </tr>\n",
              "    <tr>\n",
              "      <th>995</th>\n",
              "      <td>2002-09-22</td>\n",
              "      <td>33.795673</td>\n",
              "      <td>17.309314</td>\n",
              "      <td>-0.708539</td>\n",
              "      <td>54.868929</td>\n",
              "    </tr>\n",
              "    <tr>\n",
              "      <th>996</th>\n",
              "      <td>2002-09-23</td>\n",
              "      <td>33.748203</td>\n",
              "      <td>18.174094</td>\n",
              "      <td>-1.822700</td>\n",
              "      <td>53.974652</td>\n",
              "    </tr>\n",
              "    <tr>\n",
              "      <th>997</th>\n",
              "      <td>2002-09-24</td>\n",
              "      <td>34.080979</td>\n",
              "      <td>20.228190</td>\n",
              "      <td>-2.519147</td>\n",
              "      <td>54.166102</td>\n",
              "    </tr>\n",
              "    <tr>\n",
              "      <th>998</th>\n",
              "      <td>2002-09-25</td>\n",
              "      <td>33.958024</td>\n",
              "      <td>20.697549</td>\n",
              "      <td>-1.878820</td>\n",
              "      <td>54.272449</td>\n",
              "    </tr>\n",
              "    <tr>\n",
              "      <th>999</th>\n",
              "      <td>2002-09-26</td>\n",
              "      <td>34.349290</td>\n",
              "      <td>20.584131</td>\n",
              "      <td>-2.655596</td>\n",
              "      <td>54.439949</td>\n",
              "    </tr>\n",
              "  </tbody>\n",
              "</table>\n",
              "<p>1000 rows × 5 columns</p>\n",
              "</div>"
            ],
            "text/plain": [
              "     Unnamed: 0          A          B         C          D\n",
              "0    2000-01-01  -0.609969  -1.501680  0.510037   0.671874\n",
              "1    2000-01-02  -0.190389  -1.345185 -0.166455   1.373241\n",
              "2    2000-01-03   1.775985   0.188264  0.940014   0.983054\n",
              "3    2000-01-04   0.804823   1.285871  1.661278   1.114160\n",
              "4    2000-01-05   1.357122   1.377255  1.604105   2.091667\n",
              "..          ...        ...        ...       ...        ...\n",
              "995  2002-09-22  33.795673  17.309314 -0.708539  54.868929\n",
              "996  2002-09-23  33.748203  18.174094 -1.822700  53.974652\n",
              "997  2002-09-24  34.080979  20.228190 -2.519147  54.166102\n",
              "998  2002-09-25  33.958024  20.697549 -1.878820  54.272449\n",
              "999  2002-09-26  34.349290  20.584131 -2.655596  54.439949\n",
              "\n",
              "[1000 rows x 5 columns]"
            ]
          },
          "metadata": {
            "tags": []
          },
          "execution_count": 141
        }
      ]
    },
    {
      "cell_type": "markdown",
      "metadata": {
        "id": "xkIsETB3RtkT",
        "colab_type": "text"
      },
      "source": [
        "### HDF5"
      ]
    },
    {
      "cell_type": "code",
      "metadata": {
        "id": "udIozvksSF8T",
        "colab_type": "code",
        "colab": {}
      },
      "source": [
        "# Menulis ke HDF5 Store\n",
        "df.to_hdf('foo.h5', 'df')"
      ],
      "execution_count": 0,
      "outputs": []
    },
    {
      "cell_type": "code",
      "metadata": {
        "id": "sYbJOMrPSMLp",
        "colab_type": "code",
        "colab": {
          "base_uri": "https://localhost:8080/",
          "height": 406
        },
        "outputId": "0f4d0d40-1f11-49cc-997b-10c11c754391"
      },
      "source": [
        "# Membaca dari HDF5 Store\n",
        "pd.read_hdf('foo.h5', 'df')"
      ],
      "execution_count": 143,
      "outputs": [
        {
          "output_type": "execute_result",
          "data": {
            "text/html": [
              "<div>\n",
              "<style scoped>\n",
              "    .dataframe tbody tr th:only-of-type {\n",
              "        vertical-align: middle;\n",
              "    }\n",
              "\n",
              "    .dataframe tbody tr th {\n",
              "        vertical-align: top;\n",
              "    }\n",
              "\n",
              "    .dataframe thead th {\n",
              "        text-align: right;\n",
              "    }\n",
              "</style>\n",
              "<table border=\"1\" class=\"dataframe\">\n",
              "  <thead>\n",
              "    <tr style=\"text-align: right;\">\n",
              "      <th></th>\n",
              "      <th>A</th>\n",
              "      <th>B</th>\n",
              "      <th>C</th>\n",
              "      <th>D</th>\n",
              "    </tr>\n",
              "  </thead>\n",
              "  <tbody>\n",
              "    <tr>\n",
              "      <th>2000-01-01</th>\n",
              "      <td>-0.609969</td>\n",
              "      <td>-1.501680</td>\n",
              "      <td>0.510037</td>\n",
              "      <td>0.671874</td>\n",
              "    </tr>\n",
              "    <tr>\n",
              "      <th>2000-01-02</th>\n",
              "      <td>-0.190389</td>\n",
              "      <td>-1.345185</td>\n",
              "      <td>-0.166455</td>\n",
              "      <td>1.373241</td>\n",
              "    </tr>\n",
              "    <tr>\n",
              "      <th>2000-01-03</th>\n",
              "      <td>1.775985</td>\n",
              "      <td>0.188264</td>\n",
              "      <td>0.940014</td>\n",
              "      <td>0.983054</td>\n",
              "    </tr>\n",
              "    <tr>\n",
              "      <th>2000-01-04</th>\n",
              "      <td>0.804823</td>\n",
              "      <td>1.285871</td>\n",
              "      <td>1.661278</td>\n",
              "      <td>1.114160</td>\n",
              "    </tr>\n",
              "    <tr>\n",
              "      <th>2000-01-05</th>\n",
              "      <td>1.357122</td>\n",
              "      <td>1.377255</td>\n",
              "      <td>1.604105</td>\n",
              "      <td>2.091667</td>\n",
              "    </tr>\n",
              "    <tr>\n",
              "      <th>...</th>\n",
              "      <td>...</td>\n",
              "      <td>...</td>\n",
              "      <td>...</td>\n",
              "      <td>...</td>\n",
              "    </tr>\n",
              "    <tr>\n",
              "      <th>2002-09-22</th>\n",
              "      <td>33.795673</td>\n",
              "      <td>17.309314</td>\n",
              "      <td>-0.708539</td>\n",
              "      <td>54.868929</td>\n",
              "    </tr>\n",
              "    <tr>\n",
              "      <th>2002-09-23</th>\n",
              "      <td>33.748203</td>\n",
              "      <td>18.174094</td>\n",
              "      <td>-1.822700</td>\n",
              "      <td>53.974652</td>\n",
              "    </tr>\n",
              "    <tr>\n",
              "      <th>2002-09-24</th>\n",
              "      <td>34.080979</td>\n",
              "      <td>20.228190</td>\n",
              "      <td>-2.519147</td>\n",
              "      <td>54.166102</td>\n",
              "    </tr>\n",
              "    <tr>\n",
              "      <th>2002-09-25</th>\n",
              "      <td>33.958024</td>\n",
              "      <td>20.697549</td>\n",
              "      <td>-1.878820</td>\n",
              "      <td>54.272449</td>\n",
              "    </tr>\n",
              "    <tr>\n",
              "      <th>2002-09-26</th>\n",
              "      <td>34.349290</td>\n",
              "      <td>20.584131</td>\n",
              "      <td>-2.655596</td>\n",
              "      <td>54.439949</td>\n",
              "    </tr>\n",
              "  </tbody>\n",
              "</table>\n",
              "<p>1000 rows × 4 columns</p>\n",
              "</div>"
            ],
            "text/plain": [
              "                    A          B         C          D\n",
              "2000-01-01  -0.609969  -1.501680  0.510037   0.671874\n",
              "2000-01-02  -0.190389  -1.345185 -0.166455   1.373241\n",
              "2000-01-03   1.775985   0.188264  0.940014   0.983054\n",
              "2000-01-04   0.804823   1.285871  1.661278   1.114160\n",
              "2000-01-05   1.357122   1.377255  1.604105   2.091667\n",
              "...               ...        ...       ...        ...\n",
              "2002-09-22  33.795673  17.309314 -0.708539  54.868929\n",
              "2002-09-23  33.748203  18.174094 -1.822700  53.974652\n",
              "2002-09-24  34.080979  20.228190 -2.519147  54.166102\n",
              "2002-09-25  33.958024  20.697549 -1.878820  54.272449\n",
              "2002-09-26  34.349290  20.584131 -2.655596  54.439949\n",
              "\n",
              "[1000 rows x 4 columns]"
            ]
          },
          "metadata": {
            "tags": []
          },
          "execution_count": 143
        }
      ]
    },
    {
      "cell_type": "markdown",
      "metadata": {
        "id": "QxEnGA7hSbX7",
        "colab_type": "text"
      },
      "source": [
        "### Excel"
      ]
    },
    {
      "cell_type": "code",
      "metadata": {
        "id": "dtSG0EiLSdpE",
        "colab_type": "code",
        "colab": {}
      },
      "source": [
        "# Menulis file excel\n",
        "df.to_excel('foo.xlsx', sheet_name='Sheet1')"
      ],
      "execution_count": 0,
      "outputs": []
    },
    {
      "cell_type": "code",
      "metadata": {
        "id": "5mSrQUc6Sjw2",
        "colab_type": "code",
        "colab": {
          "base_uri": "https://localhost:8080/",
          "height": 406
        },
        "outputId": "644ba379-22f4-47c4-c763-8415783791ca"
      },
      "source": [
        "# Membaca file excel\n",
        "pd.read_excel('foo.xlsx', 'Sheet1', index_col=None, na_values=['NA'])"
      ],
      "execution_count": 145,
      "outputs": [
        {
          "output_type": "execute_result",
          "data": {
            "text/html": [
              "<div>\n",
              "<style scoped>\n",
              "    .dataframe tbody tr th:only-of-type {\n",
              "        vertical-align: middle;\n",
              "    }\n",
              "\n",
              "    .dataframe tbody tr th {\n",
              "        vertical-align: top;\n",
              "    }\n",
              "\n",
              "    .dataframe thead th {\n",
              "        text-align: right;\n",
              "    }\n",
              "</style>\n",
              "<table border=\"1\" class=\"dataframe\">\n",
              "  <thead>\n",
              "    <tr style=\"text-align: right;\">\n",
              "      <th></th>\n",
              "      <th>Unnamed: 0</th>\n",
              "      <th>A</th>\n",
              "      <th>B</th>\n",
              "      <th>C</th>\n",
              "      <th>D</th>\n",
              "    </tr>\n",
              "  </thead>\n",
              "  <tbody>\n",
              "    <tr>\n",
              "      <th>0</th>\n",
              "      <td>2000-01-01</td>\n",
              "      <td>-0.609969</td>\n",
              "      <td>-1.501680</td>\n",
              "      <td>0.510037</td>\n",
              "      <td>0.671874</td>\n",
              "    </tr>\n",
              "    <tr>\n",
              "      <th>1</th>\n",
              "      <td>2000-01-02</td>\n",
              "      <td>-0.190389</td>\n",
              "      <td>-1.345185</td>\n",
              "      <td>-0.166455</td>\n",
              "      <td>1.373241</td>\n",
              "    </tr>\n",
              "    <tr>\n",
              "      <th>2</th>\n",
              "      <td>2000-01-03</td>\n",
              "      <td>1.775985</td>\n",
              "      <td>0.188264</td>\n",
              "      <td>0.940014</td>\n",
              "      <td>0.983054</td>\n",
              "    </tr>\n",
              "    <tr>\n",
              "      <th>3</th>\n",
              "      <td>2000-01-04</td>\n",
              "      <td>0.804823</td>\n",
              "      <td>1.285871</td>\n",
              "      <td>1.661278</td>\n",
              "      <td>1.114160</td>\n",
              "    </tr>\n",
              "    <tr>\n",
              "      <th>4</th>\n",
              "      <td>2000-01-05</td>\n",
              "      <td>1.357122</td>\n",
              "      <td>1.377255</td>\n",
              "      <td>1.604105</td>\n",
              "      <td>2.091667</td>\n",
              "    </tr>\n",
              "    <tr>\n",
              "      <th>...</th>\n",
              "      <td>...</td>\n",
              "      <td>...</td>\n",
              "      <td>...</td>\n",
              "      <td>...</td>\n",
              "      <td>...</td>\n",
              "    </tr>\n",
              "    <tr>\n",
              "      <th>995</th>\n",
              "      <td>2002-09-22</td>\n",
              "      <td>33.795673</td>\n",
              "      <td>17.309314</td>\n",
              "      <td>-0.708539</td>\n",
              "      <td>54.868929</td>\n",
              "    </tr>\n",
              "    <tr>\n",
              "      <th>996</th>\n",
              "      <td>2002-09-23</td>\n",
              "      <td>33.748203</td>\n",
              "      <td>18.174094</td>\n",
              "      <td>-1.822700</td>\n",
              "      <td>53.974652</td>\n",
              "    </tr>\n",
              "    <tr>\n",
              "      <th>997</th>\n",
              "      <td>2002-09-24</td>\n",
              "      <td>34.080979</td>\n",
              "      <td>20.228190</td>\n",
              "      <td>-2.519147</td>\n",
              "      <td>54.166102</td>\n",
              "    </tr>\n",
              "    <tr>\n",
              "      <th>998</th>\n",
              "      <td>2002-09-25</td>\n",
              "      <td>33.958024</td>\n",
              "      <td>20.697549</td>\n",
              "      <td>-1.878820</td>\n",
              "      <td>54.272449</td>\n",
              "    </tr>\n",
              "    <tr>\n",
              "      <th>999</th>\n",
              "      <td>2002-09-26</td>\n",
              "      <td>34.349290</td>\n",
              "      <td>20.584131</td>\n",
              "      <td>-2.655596</td>\n",
              "      <td>54.439949</td>\n",
              "    </tr>\n",
              "  </tbody>\n",
              "</table>\n",
              "<p>1000 rows × 5 columns</p>\n",
              "</div>"
            ],
            "text/plain": [
              "    Unnamed: 0          A          B         C          D\n",
              "0   2000-01-01  -0.609969  -1.501680  0.510037   0.671874\n",
              "1   2000-01-02  -0.190389  -1.345185 -0.166455   1.373241\n",
              "2   2000-01-03   1.775985   0.188264  0.940014   0.983054\n",
              "3   2000-01-04   0.804823   1.285871  1.661278   1.114160\n",
              "4   2000-01-05   1.357122   1.377255  1.604105   2.091667\n",
              "..         ...        ...        ...       ...        ...\n",
              "995 2002-09-22  33.795673  17.309314 -0.708539  54.868929\n",
              "996 2002-09-23  33.748203  18.174094 -1.822700  53.974652\n",
              "997 2002-09-24  34.080979  20.228190 -2.519147  54.166102\n",
              "998 2002-09-25  33.958024  20.697549 -1.878820  54.272449\n",
              "999 2002-09-26  34.349290  20.584131 -2.655596  54.439949\n",
              "\n",
              "[1000 rows x 5 columns]"
            ]
          },
          "metadata": {
            "tags": []
          },
          "execution_count": 145
        }
      ]
    },
    {
      "cell_type": "markdown",
      "metadata": {
        "id": "4FfVNMGFSp3x",
        "colab_type": "text"
      },
      "source": [
        "## Gotchas"
      ]
    },
    {
      "cell_type": "code",
      "metadata": {
        "id": "apM3ZUFXSspn",
        "colab_type": "code",
        "colab": {
          "base_uri": "https://localhost:8080/",
          "height": 330
        },
        "outputId": "f373428b-751e-427a-ab1e-ba622b8d1c67"
      },
      "source": [
        "if pd.Series([False, True, False]):\n",
        "  print(\"I was true\")"
      ],
      "execution_count": 146,
      "outputs": [
        {
          "output_type": "error",
          "ename": "ValueError",
          "evalue": "ignored",
          "traceback": [
            "\u001b[0;31m---------------------------------------------------------------------------\u001b[0m",
            "\u001b[0;31mValueError\u001b[0m                                Traceback (most recent call last)",
            "\u001b[0;32m<ipython-input-146-06fa23a4b3e2>\u001b[0m in \u001b[0;36m<module>\u001b[0;34m()\u001b[0m\n\u001b[0;32m----> 1\u001b[0;31m \u001b[0;32mif\u001b[0m \u001b[0mpd\u001b[0m\u001b[0;34m.\u001b[0m\u001b[0mSeries\u001b[0m\u001b[0;34m(\u001b[0m\u001b[0;34m[\u001b[0m\u001b[0;32mFalse\u001b[0m\u001b[0;34m,\u001b[0m \u001b[0;32mTrue\u001b[0m\u001b[0;34m,\u001b[0m \u001b[0;32mFalse\u001b[0m\u001b[0;34m]\u001b[0m\u001b[0;34m)\u001b[0m\u001b[0;34m:\u001b[0m\u001b[0;34m\u001b[0m\u001b[0;34m\u001b[0m\u001b[0m\n\u001b[0m\u001b[1;32m      2\u001b[0m   \u001b[0mprint\u001b[0m\u001b[0;34m(\u001b[0m\u001b[0;34m\"I was true\"\u001b[0m\u001b[0;34m)\u001b[0m\u001b[0;34m\u001b[0m\u001b[0;34m\u001b[0m\u001b[0m\n",
            "\u001b[0;32m/usr/local/lib/python3.6/dist-packages/pandas/core/generic.py\u001b[0m in \u001b[0;36m__nonzero__\u001b[0;34m(self)\u001b[0m\n\u001b[1;32m   1477\u001b[0m     \u001b[0;32mdef\u001b[0m \u001b[0m__nonzero__\u001b[0m\u001b[0;34m(\u001b[0m\u001b[0mself\u001b[0m\u001b[0;34m)\u001b[0m\u001b[0;34m:\u001b[0m\u001b[0;34m\u001b[0m\u001b[0;34m\u001b[0m\u001b[0m\n\u001b[1;32m   1478\u001b[0m         raise ValueError(\n\u001b[0;32m-> 1479\u001b[0;31m             \u001b[0;34mf\"The truth value of a {type(self).__name__} is ambiguous. \"\u001b[0m\u001b[0;34m\u001b[0m\u001b[0;34m\u001b[0m\u001b[0m\n\u001b[0m\u001b[1;32m   1480\u001b[0m             \u001b[0;34m\"Use a.empty, a.bool(), a.item(), a.any() or a.all().\"\u001b[0m\u001b[0;34m\u001b[0m\u001b[0;34m\u001b[0m\u001b[0m\n\u001b[1;32m   1481\u001b[0m         )\n",
            "\u001b[0;31mValueError\u001b[0m: The truth value of a Series is ambiguous. Use a.empty, a.bool(), a.item(), a.any() or a.all()."
          ]
        }
      ]
    }
  ]
}