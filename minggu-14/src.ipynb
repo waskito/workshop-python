{
  "nbformat": 4,
  "nbformat_minor": 0,
  "metadata": {
    "colab": {
      "name": "Workshop_pert14.ipynb",
      "provenance": [],
      "collapsed_sections": []
    },
    "kernelspec": {
      "name": "python3",
      "display_name": "Python 3"
    }
  },
  "cells": [
    {
      "cell_type": "markdown",
      "metadata": {
        "id": "x3IDW0JEjFwx",
        "colab_type": "text"
      },
      "source": [
        "# An introduction to machine learning with scikit-learn"
      ]
    },
    {
      "cell_type": "markdown",
      "metadata": {
        "id": "xSegW17WoEYN",
        "colab_type": "text"
      },
      "source": [
        "## Loading an example dataset"
      ]
    },
    {
      "cell_type": "code",
      "metadata": {
        "id": "LHyd9JcGh7a8",
        "colab_type": "code",
        "colab": {}
      },
      "source": [
        "from sklearn import datasets\n",
        "iris = datasets.load_iris()\n",
        "digits = datasets.load_digits()"
      ],
      "execution_count": 0,
      "outputs": []
    },
    {
      "cell_type": "code",
      "metadata": {
        "id": "w6poBs3YoT4D",
        "colab_type": "code",
        "colab": {
          "base_uri": "https://localhost:8080/",
          "height": 141
        },
        "outputId": "9879ea97-e738-46a5-8680-9639313fe622"
      },
      "source": [
        "print(digits.data)"
      ],
      "execution_count": 2,
      "outputs": [
        {
          "output_type": "stream",
          "text": [
            "[[ 0.  0.  5. ...  0.  0.  0.]\n",
            " [ 0.  0.  0. ... 10.  0.  0.]\n",
            " [ 0.  0.  0. ... 16.  9.  0.]\n",
            " ...\n",
            " [ 0.  0.  1. ...  6.  0.  0.]\n",
            " [ 0.  0.  2. ... 12.  0.  0.]\n",
            " [ 0.  0. 10. ... 12.  1.  0.]]\n"
          ],
          "name": "stdout"
        }
      ]
    },
    {
      "cell_type": "code",
      "metadata": {
        "id": "dQ4qP0XNodR4",
        "colab_type": "code",
        "colab": {
          "base_uri": "https://localhost:8080/",
          "height": 34
        },
        "outputId": "b339766c-bb29-4ee4-ccaf-8a73c999730e"
      },
      "source": [
        "digits.target"
      ],
      "execution_count": 3,
      "outputs": [
        {
          "output_type": "execute_result",
          "data": {
            "text/plain": [
              "array([0, 1, 2, ..., 8, 9, 8])"
            ]
          },
          "metadata": {
            "tags": []
          },
          "execution_count": 3
        }
      ]
    },
    {
      "cell_type": "code",
      "metadata": {
        "id": "XUHRqW-yoiKR",
        "colab_type": "code",
        "colab": {
          "base_uri": "https://localhost:8080/",
          "height": 158
        },
        "outputId": "2a602c5d-a6e8-4f51-b1af-43418f9ec22c"
      },
      "source": [
        "digits.images[0]"
      ],
      "execution_count": 4,
      "outputs": [
        {
          "output_type": "execute_result",
          "data": {
            "text/plain": [
              "array([[ 0.,  0.,  5., 13.,  9.,  1.,  0.,  0.],\n",
              "       [ 0.,  0., 13., 15., 10., 15.,  5.,  0.],\n",
              "       [ 0.,  3., 15.,  2.,  0., 11.,  8.,  0.],\n",
              "       [ 0.,  4., 12.,  0.,  0.,  8.,  8.,  0.],\n",
              "       [ 0.,  5.,  8.,  0.,  0.,  9.,  8.,  0.],\n",
              "       [ 0.,  4., 11.,  0.,  1., 12.,  7.,  0.],\n",
              "       [ 0.,  2., 14.,  5., 10., 12.,  0.,  0.],\n",
              "       [ 0.,  0.,  6., 13., 10.,  0.,  0.,  0.]])"
            ]
          },
          "metadata": {
            "tags": []
          },
          "execution_count": 4
        }
      ]
    },
    {
      "cell_type": "markdown",
      "metadata": {
        "id": "hn-wLLLcn9Io",
        "colab_type": "text"
      },
      "source": [
        "Pada sklearn memiliki dataset standar dalam datasets. Seperti iris dan digit. Untuk dapat menggunakannya pada program diatas menggunakan perintah datasets.load_iris() sesuaikan dengan dataset yang diinginkan.  Data disimpan dalam **.data** yang merupakan n_samples, n_features. Satu atau lebih variabel respon di **.target**. Dalam digit setiap sampel asli adalah gambar bentuk(8,8) dan dapat diakses menggunakan **.images**."
      ]
    },
    {
      "cell_type": "markdown",
      "metadata": {
        "id": "xCF1boSNpd1r",
        "colab_type": "text"
      },
      "source": [
        "## Learning and predicting"
      ]
    },
    {
      "cell_type": "code",
      "metadata": {
        "id": "Lnxeiajxpmoy",
        "colab_type": "code",
        "colab": {}
      },
      "source": [
        "from sklearn import svm\n",
        "clf = svm.SVC(gamma=0.001, C=100.)"
      ],
      "execution_count": 0,
      "outputs": []
    },
    {
      "cell_type": "code",
      "metadata": {
        "id": "CwJsEG_su_Sy",
        "colab_type": "code",
        "colab": {
          "base_uri": "https://localhost:8080/",
          "height": 87
        },
        "outputId": "b73412c7-d802-4c57-bc19-d04bbfabc8ea"
      },
      "source": [
        "clf.fit(digits.data[:-1], digits.target[:-1])"
      ],
      "execution_count": 7,
      "outputs": [
        {
          "output_type": "execute_result",
          "data": {
            "text/plain": [
              "SVC(C=100.0, break_ties=False, cache_size=200, class_weight=None, coef0=0.0,\n",
              "    decision_function_shape='ovr', degree=3, gamma=0.001, kernel='rbf',\n",
              "    max_iter=-1, probability=False, random_state=None, shrinking=True,\n",
              "    tol=0.001, verbose=False)"
            ]
          },
          "metadata": {
            "tags": []
          },
          "execution_count": 7
        }
      ]
    },
    {
      "cell_type": "code",
      "metadata": {
        "id": "R9fshAddvMUW",
        "colab_type": "code",
        "colab": {
          "base_uri": "https://localhost:8080/",
          "height": 34
        },
        "outputId": "7bc809af-4e77-4c48-8119-eceb4384dbb4"
      },
      "source": [
        "clf.predict(digits.data[-1:])"
      ],
      "execution_count": 8,
      "outputs": [
        {
          "output_type": "execute_result",
          "data": {
            "text/plain": [
              "array([8])"
            ]
          },
          "metadata": {
            "tags": []
          },
          "execution_count": 8
        }
      ]
    },
    {
      "cell_type": "markdown",
      "metadata": {
        "id": "l33QRkNNvkHT",
        "colab_type": "text"
      },
      "source": [
        "Menggunakan svm untuk model klasifikasi clf sebagai estimator belajar dari model. Metode fit untuk melatih model. Metod predict untuk memprediksi nilai baru, pada ini prediksi dilakukan pada gambar terakhir dari digits.data yang akan menentukan gambar dari set pelatihan yang paling cocok dengan gambar terakhir."
      ]
    },
    {
      "cell_type": "markdown",
      "metadata": {
        "id": "TUrIj7yUwyU-",
        "colab_type": "text"
      },
      "source": [
        "## Model persistence"
      ]
    },
    {
      "cell_type": "code",
      "metadata": {
        "id": "rMvdJIJ3vfHj",
        "colab_type": "code",
        "colab": {
          "base_uri": "https://localhost:8080/",
          "height": 87
        },
        "outputId": "cf0c9e30-1d5a-42aa-e5a1-016a1ee9cf38"
      },
      "source": [
        "from sklearn import svm\n",
        "from sklearn import datasets\n",
        "clf = svm.SVC()\n",
        "X, y = datasets.load_iris(return_X_y = True)\n",
        "clf.fit(X, y)"
      ],
      "execution_count": 9,
      "outputs": [
        {
          "output_type": "execute_result",
          "data": {
            "text/plain": [
              "SVC(C=1.0, break_ties=False, cache_size=200, class_weight=None, coef0=0.0,\n",
              "    decision_function_shape='ovr', degree=3, gamma='scale', kernel='rbf',\n",
              "    max_iter=-1, probability=False, random_state=None, shrinking=True,\n",
              "    tol=0.001, verbose=False)"
            ]
          },
          "metadata": {
            "tags": []
          },
          "execution_count": 9
        }
      ]
    },
    {
      "cell_type": "code",
      "metadata": {
        "id": "m1AWfcGcxwFy",
        "colab_type": "code",
        "colab": {
          "base_uri": "https://localhost:8080/",
          "height": 34
        },
        "outputId": "5ee8767e-36f7-49f3-bbbc-397fb1826f59"
      },
      "source": [
        "import pickle\n",
        "s = pickle.dumps(clf)\n",
        "clf2 = pickle.loads(s)\n",
        "clf2.predict(X[0:1])"
      ],
      "execution_count": 11,
      "outputs": [
        {
          "output_type": "execute_result",
          "data": {
            "text/plain": [
              "array([0])"
            ]
          },
          "metadata": {
            "tags": []
          },
          "execution_count": 11
        }
      ]
    },
    {
      "cell_type": "code",
      "metadata": {
        "id": "fgNfCYtpx_mX",
        "colab_type": "code",
        "colab": {
          "base_uri": "https://localhost:8080/",
          "height": 34
        },
        "outputId": "c133d592-4fb7-482e-aebc-606c172c90e6"
      },
      "source": [
        "y[0]"
      ],
      "execution_count": 12,
      "outputs": [
        {
          "output_type": "execute_result",
          "data": {
            "text/plain": [
              "0"
            ]
          },
          "metadata": {
            "tags": []
          },
          "execution_count": 12
        }
      ]
    },
    {
      "cell_type": "code",
      "metadata": {
        "id": "FPMW0heNyIYV",
        "colab_type": "code",
        "colab": {
          "base_uri": "https://localhost:8080/",
          "height": 34
        },
        "outputId": "ca32c13d-58f8-440e-fb4c-3b5e7640f949"
      },
      "source": [
        "from joblib import dump, load\n",
        "dump(clf, 'filename.joblib')"
      ],
      "execution_count": 13,
      "outputs": [
        {
          "output_type": "execute_result",
          "data": {
            "text/plain": [
              "['filename.joblib']"
            ]
          },
          "metadata": {
            "tags": []
          },
          "execution_count": 13
        }
      ]
    },
    {
      "cell_type": "code",
      "metadata": {
        "id": "NNGQfKnDyWmg",
        "colab_type": "code",
        "colab": {}
      },
      "source": [
        "clf = load('filename.joblib')"
      ],
      "execution_count": 0,
      "outputs": []
    },
    {
      "cell_type": "markdown",
      "metadata": {
        "id": "11yfBvN7zE4g",
        "colab_type": "text"
      },
      "source": [
        "## Conventions"
      ]
    },
    {
      "cell_type": "markdown",
      "metadata": {
        "id": "u6bsJzyZzU0-",
        "colab_type": "text"
      },
      "source": [
        "### Type Casting"
      ]
    },
    {
      "cell_type": "code",
      "metadata": {
        "id": "p1cHWvTJzUI3",
        "colab_type": "code",
        "colab": {}
      },
      "source": [
        "import numpy as np\n",
        "from sklearn import random_projection"
      ],
      "execution_count": 0,
      "outputs": []
    },
    {
      "cell_type": "code",
      "metadata": {
        "id": "NZWVZf-uy7hm",
        "colab_type": "code",
        "colab": {
          "base_uri": "https://localhost:8080/",
          "height": 34
        },
        "outputId": "3585713c-04da-4ce6-e6ca-2604ad03ff52"
      },
      "source": [
        "rng = np.random.RandomState(0)\n",
        "X = rng.rand(10, 2000)\n",
        "X = np.array(X, dtype='float32')\n",
        "X.dtype"
      ],
      "execution_count": 17,
      "outputs": [
        {
          "output_type": "execute_result",
          "data": {
            "text/plain": [
              "dtype('float32')"
            ]
          },
          "metadata": {
            "tags": []
          },
          "execution_count": 17
        }
      ]
    },
    {
      "cell_type": "code",
      "metadata": {
        "id": "CTcPI4GHzyPz",
        "colab_type": "code",
        "colab": {
          "base_uri": "https://localhost:8080/",
          "height": 34
        },
        "outputId": "85d48599-57a7-45f4-84ac-69e3e9bf3f78"
      },
      "source": [
        "transformer = random_projection.GaussianRandomProjection()\n",
        "X_new = transformer.fit_transform(X)\n",
        "X_new.dtype"
      ],
      "execution_count": 19,
      "outputs": [
        {
          "output_type": "execute_result",
          "data": {
            "text/plain": [
              "dtype('float64')"
            ]
          },
          "metadata": {
            "tags": []
          },
          "execution_count": 19
        }
      ]
    },
    {
      "cell_type": "code",
      "metadata": {
        "id": "VTdzuN800Tfv",
        "colab_type": "code",
        "colab": {
          "base_uri": "https://localhost:8080/",
          "height": 87
        },
        "outputId": "1416fed5-a6a5-4978-96f3-b4c50a21e5b0"
      },
      "source": [
        "# Target regresi dijadikan float64 dan target klasifikasi dibiarkan\n",
        "from sklearn import datasets\n",
        "from sklearn.svm import SVC\n",
        "iris = datasets.load_iris()\n",
        "clf = SVC()\n",
        "clf.fit(iris.data, iris.target)"
      ],
      "execution_count": 20,
      "outputs": [
        {
          "output_type": "execute_result",
          "data": {
            "text/plain": [
              "SVC(C=1.0, break_ties=False, cache_size=200, class_weight=None, coef0=0.0,\n",
              "    decision_function_shape='ovr', degree=3, gamma='scale', kernel='rbf',\n",
              "    max_iter=-1, probability=False, random_state=None, shrinking=True,\n",
              "    tol=0.001, verbose=False)"
            ]
          },
          "metadata": {
            "tags": []
          },
          "execution_count": 20
        }
      ]
    },
    {
      "cell_type": "code",
      "metadata": {
        "id": "c-lcz9ck5jOm",
        "colab_type": "code",
        "colab": {
          "base_uri": "https://localhost:8080/",
          "height": 34
        },
        "outputId": "7f0310d2-6159-46e6-8358-e992d5eeb278"
      },
      "source": [
        "list(clf.predict(iris.data[:3]))"
      ],
      "execution_count": 21,
      "outputs": [
        {
          "output_type": "execute_result",
          "data": {
            "text/plain": [
              "[0, 0, 0]"
            ]
          },
          "metadata": {
            "tags": []
          },
          "execution_count": 21
        }
      ]
    },
    {
      "cell_type": "code",
      "metadata": {
        "id": "9GLOIu2O530Q",
        "colab_type": "code",
        "colab": {
          "base_uri": "https://localhost:8080/",
          "height": 87
        },
        "outputId": "9d2d6341-2002-43db-8981-e58113df10c4"
      },
      "source": [
        "clf.fit(iris.data, iris.target_names[iris.target])"
      ],
      "execution_count": 22,
      "outputs": [
        {
          "output_type": "execute_result",
          "data": {
            "text/plain": [
              "SVC(C=1.0, break_ties=False, cache_size=200, class_weight=None, coef0=0.0,\n",
              "    decision_function_shape='ovr', degree=3, gamma='scale', kernel='rbf',\n",
              "    max_iter=-1, probability=False, random_state=None, shrinking=True,\n",
              "    tol=0.001, verbose=False)"
            ]
          },
          "metadata": {
            "tags": []
          },
          "execution_count": 22
        }
      ]
    },
    {
      "cell_type": "code",
      "metadata": {
        "id": "Eq9eqFf256Di",
        "colab_type": "code",
        "colab": {
          "base_uri": "https://localhost:8080/",
          "height": 34
        },
        "outputId": "1c6cb6d2-a8aa-40d6-ea4b-b190b31bfc60"
      },
      "source": [
        "list(clf.predict(iris.data[:3]))"
      ],
      "execution_count": 23,
      "outputs": [
        {
          "output_type": "execute_result",
          "data": {
            "text/plain": [
              "['setosa', 'setosa', 'setosa']"
            ]
          },
          "metadata": {
            "tags": []
          },
          "execution_count": 23
        }
      ]
    },
    {
      "cell_type": "markdown",
      "metadata": {
        "id": "LNDESOEn5j1e",
        "colab_type": "text"
      },
      "source": [
        "Di sini, predict() pertama mengembalikan array integer, karena iris.target (array integer) digunakan sesuai. predict()  kedua mengembalikan array string, karena iris.target_names cocok.\n",
        "\n"
      ]
    },
    {
      "cell_type": "markdown",
      "metadata": {
        "id": "osETli7857_V",
        "colab_type": "text"
      },
      "source": [
        "### Refitting and updating parameters\n",
        "Parameter hiper dari estimator dapat diperbarui setelah dibangun melalui metode set_params (). Memanggil fit () lebih dari sekali akan menimpa apa yang dipelajari oleh fit() sebelumnya."
      ]
    },
    {
      "cell_type": "code",
      "metadata": {
        "id": "IjfpddaA6AjG",
        "colab_type": "code",
        "colab": {
          "base_uri": "https://localhost:8080/",
          "height": 87
        },
        "outputId": "1f4bd6cc-72c3-4a4d-d455-cb174927782f"
      },
      "source": [
        "import numpy as np\n",
        "from sklearn.datasets import load_iris\n",
        "from sklearn.svm import SVC\n",
        "X, y = load_iris(return_X_y=True)\n",
        "\n",
        "clf = SVC()\n",
        "clf.set_params(kernel='linear').fit(X, y)"
      ],
      "execution_count": 24,
      "outputs": [
        {
          "output_type": "execute_result",
          "data": {
            "text/plain": [
              "SVC(C=1.0, break_ties=False, cache_size=200, class_weight=None, coef0=0.0,\n",
              "    decision_function_shape='ovr', degree=3, gamma='scale', kernel='linear',\n",
              "    max_iter=-1, probability=False, random_state=None, shrinking=True,\n",
              "    tol=0.001, verbose=False)"
            ]
          },
          "metadata": {
            "tags": []
          },
          "execution_count": 24
        }
      ]
    },
    {
      "cell_type": "code",
      "metadata": {
        "id": "c5S-mjdz6SnO",
        "colab_type": "code",
        "colab": {
          "base_uri": "https://localhost:8080/",
          "height": 34
        },
        "outputId": "e22324ee-5ac0-46f6-c613-eeefb41ff1dc"
      },
      "source": [
        "clf.predict(X[:5])"
      ],
      "execution_count": 25,
      "outputs": [
        {
          "output_type": "execute_result",
          "data": {
            "text/plain": [
              "array([0, 0, 0, 0, 0])"
            ]
          },
          "metadata": {
            "tags": []
          },
          "execution_count": 25
        }
      ]
    },
    {
      "cell_type": "code",
      "metadata": {
        "id": "BOqb0_AT6XBN",
        "colab_type": "code",
        "colab": {
          "base_uri": "https://localhost:8080/",
          "height": 87
        },
        "outputId": "7cd42772-2f50-44c4-aaa6-d83b58114380"
      },
      "source": [
        "clf.set_params(kernel='rbf').fit(X, y)"
      ],
      "execution_count": 26,
      "outputs": [
        {
          "output_type": "execute_result",
          "data": {
            "text/plain": [
              "SVC(C=1.0, break_ties=False, cache_size=200, class_weight=None, coef0=0.0,\n",
              "    decision_function_shape='ovr', degree=3, gamma='scale', kernel='rbf',\n",
              "    max_iter=-1, probability=False, random_state=None, shrinking=True,\n",
              "    tol=0.001, verbose=False)"
            ]
          },
          "metadata": {
            "tags": []
          },
          "execution_count": 26
        }
      ]
    },
    {
      "cell_type": "code",
      "metadata": {
        "id": "p6dJv2hR6Y__",
        "colab_type": "code",
        "colab": {
          "base_uri": "https://localhost:8080/",
          "height": 34
        },
        "outputId": "96118667-76d3-49f2-e3ef-e78365152726"
      },
      "source": [
        "clf.predict(X[:5])"
      ],
      "execution_count": 27,
      "outputs": [
        {
          "output_type": "execute_result",
          "data": {
            "text/plain": [
              "array([0, 0, 0, 0, 0])"
            ]
          },
          "metadata": {
            "tags": []
          },
          "execution_count": 27
        }
      ]
    },
    {
      "cell_type": "markdown",
      "metadata": {
        "id": "8ubc2Zdd6bR1",
        "colab_type": "text"
      },
      "source": [
        "Di sini, kernel default rbf pertama kali diubah menjadi linear melalui SVC.set_params () setelah estimator dibuat, dan diubah kembali ke rbf untuk mereparasi estimator dan membuat prediksi kedua."
      ]
    },
    {
      "cell_type": "markdown",
      "metadata": {
        "id": "Eye8_62E6fZ9",
        "colab_type": "text"
      },
      "source": [
        "### Multiclass vs. multilabel fitting\n",
        "Saat menggunakan pengklasifikasi multi-kelas, tugas pembelajaran dan prediksi yang dilakukan tergantung pada format data target yang cocok."
      ]
    },
    {
      "cell_type": "code",
      "metadata": {
        "id": "lhRIi-2_6qEK",
        "colab_type": "code",
        "colab": {
          "base_uri": "https://localhost:8080/",
          "height": 34
        },
        "outputId": "767a3aea-4d8b-4a17-c70f-01cf788e0593"
      },
      "source": [
        "from sklearn.multiclass import OneVsRestClassifier\n",
        "from sklearn.preprocessing import LabelBinarizer\n",
        "\n",
        "X = [[1, 2], [2, 4], [4, 5], [3, 2], [3, 1]]\n",
        "y = [0, 0, 1, 1, 2]\n",
        "\n",
        "classif = OneVsRestClassifier(estimator=SVC(random_state=0))\n",
        "classif.fit(X, y).predict(X)"
      ],
      "execution_count": 28,
      "outputs": [
        {
          "output_type": "execute_result",
          "data": {
            "text/plain": [
              "array([0, 0, 1, 1, 2])"
            ]
          },
          "metadata": {
            "tags": []
          },
          "execution_count": 28
        }
      ]
    },
    {
      "cell_type": "markdown",
      "metadata": {
        "id": "Q4jDO3lK7azm",
        "colab_type": "text"
      },
      "source": [
        "Dalam kasus di atas, classifier cocok pada array 1d label multiclass dan oleh karena itu metode predict () memberikan prediksi multiclass yang sesuai."
      ]
    },
    {
      "cell_type": "code",
      "metadata": {
        "id": "nJa3bJY_60pi",
        "colab_type": "code",
        "colab": {
          "base_uri": "https://localhost:8080/",
          "height": 105
        },
        "outputId": "3b6b3491-3e49-4f43-fadf-43a0ab6c11d5"
      },
      "source": [
        "y = LabelBinarizer().fit_transform(y)\n",
        "classif.fit(X, y).predict(X)"
      ],
      "execution_count": 29,
      "outputs": [
        {
          "output_type": "execute_result",
          "data": {
            "text/plain": [
              "array([[1, 0, 0],\n",
              "       [1, 0, 0],\n",
              "       [0, 1, 0],\n",
              "       [0, 0, 0],\n",
              "       [0, 0, 0]])"
            ]
          },
          "metadata": {
            "tags": []
          },
          "execution_count": 29
        }
      ]
    },
    {
      "cell_type": "markdown",
      "metadata": {
        "id": "voH1H0KP7QYN",
        "colab_type": "text"
      },
      "source": [
        "Di sini, classifier fit() pada representasi label biner 2d dari y, menggunakan LabelBinarizer. Dalam hal ini predict() mengembalikan array 2d yang mewakili prediksi multilabel yang sesuai."
      ]
    },
    {
      "cell_type": "code",
      "metadata": {
        "id": "hASShJd369U2",
        "colab_type": "code",
        "colab": {
          "base_uri": "https://localhost:8080/",
          "height": 105
        },
        "outputId": "0dc012df-50c4-4a5f-cf8d-71292b4d847b"
      },
      "source": [
        "from sklearn.preprocessing import MultiLabelBinarizer\n",
        "y = [[0, 1], [0, 2], [1, 3], [0, 2, 3], [2, 4]]\n",
        "y = MultiLabelBinarizer().fit_transform(y)\n",
        "classif.fit(X, y).predict(X)"
      ],
      "execution_count": 30,
      "outputs": [
        {
          "output_type": "execute_result",
          "data": {
            "text/plain": [
              "array([[1, 1, 0, 0, 0],\n",
              "       [1, 0, 1, 0, 0],\n",
              "       [0, 1, 0, 1, 0],\n",
              "       [1, 0, 1, 0, 0],\n",
              "       [1, 0, 1, 0, 0]])"
            ]
          },
          "metadata": {
            "tags": []
          },
          "execution_count": 30
        }
      ]
    },
    {
      "cell_type": "markdown",
      "metadata": {
        "id": "NEdSCcHM7Iqu",
        "colab_type": "text"
      },
      "source": [
        "Dalam hal ini, penggolongnya sesuai pada setiap instance yang diberi beberapa label. MultiLabelBinarizer digunakan untuk membuat binarize array 2d dari multilabel agar sesuai. Hasilnya, predict () mengembalikan array 2d dengan beberapa label yang diprediksi untuk setiap instance."
      ]
    }
  ]
}